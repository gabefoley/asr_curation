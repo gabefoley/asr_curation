{
 "cells": [
  {
   "cell_type": "code",
   "execution_count": 1,
   "id": "a8540a8f",
   "metadata": {
    "execution": {
     "iopub.execute_input": "2022-10-05T04:06:47.181414Z",
     "iopub.status.busy": "2022-10-05T04:06:47.180882Z",
     "iopub.status.idle": "2022-10-05T04:06:47.256763Z",
     "shell.execute_reply": "2022-10-05T04:06:47.256353Z"
    },
    "tags": [
     "snakemake-job-properties",
     "remove-cell"
    ]
   },
   "outputs": [],
   "source": [
    "\n",
    "######## snakemake preamble start (automatically inserted, do not edit) ########\n",
    "import sys; sys.path.extend(['/Users/sanjanatule/opt/anaconda3/envs/asr_curation/lib/python3.10/site-packages', '/Users/sanjanatule/asr_curation/notebooks']); import pickle; snakemake = pickle.loads(b\"\\x80\\x04\\x95\\x0c\\x08\\x00\\x00\\x00\\x00\\x00\\x00\\x8c\\x10snakemake.script\\x94\\x8c\\tSnakemake\\x94\\x93\\x94)\\x81\\x94}\\x94(\\x8c\\x05input\\x94\\x8c\\x0csnakemake.io\\x94\\x8c\\nInputFiles\\x94\\x93\\x94)\\x81\\x94(\\x8c\\x81workflows/example_workflow/datasets/kari_example_ec_1_1_1_86/subsets/eukaryotic_kari/kari_example_ec_1_1_1_86_eukaryotic_kari.aln\\x94\\x8c\\x8fworkflows/example_workflow/datasets/kari_example_ec_1_1_1_86/subsets/eukaryotic_kari/csv/kari_example_ec_1_1_1_86_eukaryotic_kari_alignment.csv\\x94e}\\x94(\\x8c\\x06_names\\x94}\\x94(\\x8c\\x03aln\\x94K\\x00N\\x86\\x94\\x8c\\x03csv\\x94K\\x01N\\x86\\x94u\\x8c\\x12_allowed_overrides\\x94]\\x94(\\x8c\\x05index\\x94\\x8c\\x04sort\\x94eh\\x15\\x8c\\tfunctools\\x94\\x8c\\x07partial\\x94\\x93\\x94h\\x06\\x8c\\x19Namedlist._used_attribute\\x94\\x93\\x94\\x85\\x94R\\x94(h\\x1b)}\\x94\\x8c\\x05_name\\x94h\\x15sNt\\x94bh\\x16h\\x19h\\x1b\\x85\\x94R\\x94(h\\x1b)}\\x94h\\x1fh\\x16sNt\\x94bh\\x0fh\\nh\\x11h\\x0bub\\x8c\\x06output\\x94h\\x06\\x8c\\x0bOutputFiles\\x94\\x93\\x94)\\x81\\x94\\x8c\\xa7workflows/example_workflow/datasets/kari_example_ec_1_1_1_86/dataset_summary/kari_example_ec_1_1_1_86/subsets/eukaryotic_kari/temp/eukaryotic_kari_subset_summary.ipynb\\x94a}\\x94(h\\r}\\x94\\x8c\\x07summary\\x94K\\x00N\\x86\\x94sh\\x13]\\x94(h\\x15h\\x16eh\\x15h\\x19h\\x1b\\x85\\x94R\\x94(h\\x1b)}\\x94h\\x1fh\\x15sNt\\x94bh\\x16h\\x19h\\x1b\\x85\\x94R\\x94(h\\x1b)}\\x94h\\x1fh\\x16sNt\\x94bh,h)ub\\x8c\\x06params\\x94h\\x06\\x8c\\x06Params\\x94\\x93\\x94)\\x81\\x94]\\x94(\\x8c\\x14lineage_superkingdom\\x94\\x8c\\x0bxref_supfam\\x94\\x8c\\x0cxref_panther\\x94\\x8c\\nKARI_Class\\x94\\x8c\\x02ec\\x94ea}\\x94(h\\r}\\x94\\x8c\\x0fannotation_cols\\x94K\\x00N\\x86\\x94sh\\x13]\\x94(h\\x15h\\x16eh\\x15h\\x19h\\x1b\\x85\\x94R\\x94(h\\x1b)}\\x94h\\x1fh\\x15sNt\\x94bh\\x16h\\x19h\\x1b\\x85\\x94R\\x94(h\\x1b)}\\x94h\\x1fh\\x16sNt\\x94bhCh;ub\\x8c\\twildcards\\x94h\\x06\\x8c\\tWildcards\\x94\\x93\\x94)\\x81\\x94(\\x8c\\x18kari_example_ec_1_1_1_86\\x94\\x8c\\x0feukaryotic_kari\\x94e}\\x94(h\\r}\\x94(\\x8c\\x07dataset\\x94K\\x00N\\x86\\x94\\x8c\\x06subset\\x94K\\x01N\\x86\\x94uh\\x13]\\x94(h\\x15h\\x16eh\\x15h\\x19h\\x1b\\x85\\x94R\\x94(h\\x1b)}\\x94h\\x1fh\\x15sNt\\x94bh\\x16h\\x19h\\x1b\\x85\\x94R\\x94(h\\x1b)}\\x94h\\x1fh\\x16sNt\\x94b\\x8c\\x07dataset\\x94hR\\x8c\\x06subset\\x94hSub\\x8c\\x07threads\\x94K\\x01\\x8c\\tresources\\x94h\\x06\\x8c\\tResources\\x94\\x93\\x94)\\x81\\x94(K\\x01K\\x01\\x8c0/var/folders/6g/6gy05kt92q5478c3_f84df280000gn/T\\x94e}\\x94(h\\r}\\x94(\\x8c\\x06_cores\\x94K\\x00N\\x86\\x94\\x8c\\x06_nodes\\x94K\\x01N\\x86\\x94\\x8c\\x06tmpdir\\x94K\\x02N\\x86\\x94uh\\x13]\\x94(h\\x15h\\x16eh\\x15h\\x19h\\x1b\\x85\\x94R\\x94(h\\x1b)}\\x94h\\x1fh\\x15sNt\\x94bh\\x16h\\x19h\\x1b\\x85\\x94R\\x94(h\\x1b)}\\x94h\\x1fh\\x16sNt\\x94bhmK\\x01hoK\\x01hqhjub\\x8c\\x03log\\x94h\\x06\\x8c\\x03Log\\x94\\x93\\x94)\\x81\\x94\\x8c\\xa7workflows/example_workflow/datasets/kari_example_ec_1_1_1_86/dataset_summary/kari_example_ec_1_1_1_86/subsets/eukaryotic_kari/temp/eukaryotic_kari_subset_summary.ipynb\\x94a}\\x94(h\\r}\\x94\\x8c\\x08notebook\\x94K\\x00N\\x86\\x94sh\\x13]\\x94(h\\x15h\\x16eh\\x15h\\x19h\\x1b\\x85\\x94R\\x94(h\\x1b)}\\x94h\\x1fh\\x15sNt\\x94bh\\x16h\\x19h\\x1b\\x85\\x94R\\x94(h\\x1b)}\\x94h\\x1fh\\x16sNt\\x94bh\\x83h\\x80ub\\x8c\\x06config\\x94}\\x94(\\x8c\\x07workdir\\x94\\x8c\\x1aworkflows/example_workflow\\x94\\x8c\\x08fastadir\\x94\\x8c workflows/example_workflow/fasta\\x94\\x8c\\x06subdir\\x94\\x8c'workflows/example_workflow/subset_rules\\x94\\x8c\\x0fannotation_cols\\x94]\\x94(h<h=h>h?h@e\\x8c\\x10blocked_datasets\\x94]\\x94u\\x8c\\x04rule\\x94\\x8c\\x15create_subset_summary\\x94\\x8c\\x0fbench_iteration\\x94N\\x8c\\tscriptdir\\x94\\x8c)/Users/sanjanatule/asr_curation/notebooks\\x94ub.\"); from snakemake.logging import logger; logger.printshellcmds = False; import os; os.chdir(r'/Users/sanjanatule/asr_curation');\n",
    "######## snakemake preamble end #########\n"
   ]
  },
  {
   "cell_type": "code",
   "execution_count": 2,
   "id": "ea6f8e75",
   "metadata": {
    "execution": {
     "iopub.execute_input": "2022-10-05T04:06:47.259369Z",
     "iopub.status.busy": "2022-10-05T04:06:47.258963Z",
     "iopub.status.idle": "2022-10-05T04:06:47.896239Z",
     "shell.execute_reply": "2022-10-05T04:06:47.895867Z"
    },
    "tags": [
     "remove-cell"
    ]
   },
   "outputs": [],
   "source": [
    "import matplotlib.pyplot as plt\n",
    "from collections import defaultdict\n",
    "import py3Dmol\n",
    "import pandas as pd\n",
    "import re\n",
    "import requests\n",
    "from IPython.display import display, Markdown"
   ]
  },
  {
   "cell_type": "code",
   "execution_count": 3,
   "id": "407ae9ed",
   "metadata": {
    "execution": {
     "iopub.execute_input": "2022-10-05T04:06:47.898840Z",
     "iopub.status.busy": "2022-10-05T04:06:47.898557Z",
     "iopub.status.idle": "2022-10-05T04:06:47.911155Z",
     "shell.execute_reply": "2022-10-05T04:06:47.910803Z"
    },
    "tags": [
     "remove-cell"
    ]
   },
   "outputs": [],
   "source": [
    "base_url = \"https://www.ebi.ac.uk/pdbe/\"\n",
    "\n",
    "api_base = base_url + \"api/\"\n",
    "\n",
    "summary_url = api_base + 'pdb/entry/summary/'\n",
    "secondary_structure_url = api_base + 'pdb/entry/secondary_structure/'\n",
    "ligand_url = api_base + '/pdb/entry/ligand_monomers/'\n",
    "\n",
    "\n",
    "def make_summary(data):\n",
    "    \"\"\"\n",
    "    This function creates a summary for a PDB entry\n",
    "    by getting data for an entry, and extracting\n",
    "    pieces of information\n",
    "    \n",
    "    :param data: Dict\n",
    "    :return: String\n",
    "    \"\"\"\n",
    "    \n",
    "    pdb_id = \"\"\n",
    "    # Certain calls could return multiple PDB entries,\n",
    "    # but the GET summary call we use in this exercise\n",
    "    # will always return only one PDB entry\n",
    "    for key in data.keys():\n",
    "        pdb_id = key\n",
    "\n",
    "    # The data is a list of dictionaries, and for the summary information,\n",
    "    # it is always the first element of the list\n",
    "    entry = data[pdb_id][0]\n",
    "    \n",
    "    # Getting the title of the entry\n",
    "    title = entry['title']\n",
    "    \n",
    "    # Getting the release date of the entry\n",
    "    release_date = entry['release_date']\n",
    "    # Formatting the entry to make it more user-friendly\n",
    "    formatted_release_date = \"%s/%s/%s\" % (\n",
    "        release_date[:4], \n",
    "        release_date[4:6], \n",
    "        release_date[6:])\n",
    "    \n",
    "    # Getting the experimental methods\n",
    "    # Note that there can be multiple methods, so this is a list that\n",
    "    # needs to be iterated\n",
    "    experimental_methods = \"\"\n",
    "    for experimental_method in entry[\"experimental_method\"]:\n",
    "        if experimental_methods:\n",
    "            experimental_methods += \" and \"\n",
    "        experimental_methods += experimental_method\n",
    "        \n",
    "        \n",
    "        \n",
    "    # Getting the assemblies\n",
    "    assemblies = ''\n",
    "    for assembly in entry['assemblies']:\n",
    "        if assembly:\n",
    "            # Blank out the form if it is a monomer (because it must be homo form)\n",
    "            if assembly['name'] == 'monomer':\n",
    "                form = \"\"\n",
    "            else:\n",
    "                form = assembly['form']\n",
    "                \n",
    "            if assembly['preferred']:\n",
    "                \n",
    "                assemblies += f\"Preferred form with assembly ID {assembly['assembly_id']} is a {form}{assembly['name']}\\n\"\n",
    "            else:\n",
    "                assemblies += f\"Non-preferred form with assembly ID {assembly['assembly_id']} is a {assembly['form']}{assembly['name']}\\n\"\n",
    "\n",
    "    # Getting the author list\n",
    "    authors = \"\".join(entry['entry_authors'])\n",
    "    \n",
    "#         'assemblies': [{'assembly_id': '1', 'form': 'homo', 'preferred': True, 'name': 'monomer'}, {'assembly_id': '2', 'form': 'homo', 'preferred': False, 'name': 'dimer'}]}]}\n",
    "    \n",
    "    \n",
    "        \n",
    "     \n",
    "    # Creating the summary text using all the extracted \n",
    "    # information\n",
    "    summary = f'Entry is titled \"{title}\" and was released on {formatted_release_date} \\n\\nThis entry was determined using {experimental_methods} \\nThe authors are {authors} \\n\\nAssembly information -\\n{assemblies}'\n",
    "\n",
    "    return summary\n",
    "\n",
    "def make_request(url, mode, pdb_id):\n",
    "    \"\"\"\n",
    "    This function can make GET and POST requests to\n",
    "    the PDBe API\n",
    "    \n",
    "    :param url: String,\n",
    "    :param mode: String,\n",
    "    :param pdb_id: String\n",
    "    :return: JSON or None\n",
    "    \"\"\"\n",
    "    if mode == \"get\":\n",
    "        response = requests.get(url=url+pdb_id)\n",
    "    elif mode == \"post\":\n",
    "        response = requests.post(url, data=pdb_id)\n",
    "\n",
    "    if response.status_code == 200:\n",
    "        return response.json()\n",
    "    else:\n",
    "        print(\"[No data retrieved - %s] %s\" % (response.status_code, response.text))\n",
    "    \n",
    "    return None\n",
    "\n",
    "def get_secondary_structure_ranges(pdb_id=None, pdb_list=None):\n",
    "    \"\"\"\n",
    "    This function calls the PDBe API and retrieves the residue\n",
    "    ranges of secondary structural elements in a single PDB entry\n",
    "    or in a list of PDB entries\n",
    "    \n",
    "    :param pdb_id: String,\n",
    "    :param pdb_list: String\n",
    "    :return: None\n",
    "    \"\"\"\n",
    "    # If neither a single PDB id, nor a list was provided,\n",
    "    # exit the function\n",
    "    if not pdb_id and not pdb_list:\n",
    "        print(\"Either provide one PDB id, or a list of ids\")\n",
    "        return None\n",
    "    \n",
    "    if pdb_id:\n",
    "        # If a single PDB id was provided, call the API with GET\n",
    "        data = make_request(secondary_structure_url, \"get\", pdb_id)\n",
    "    else:\n",
    "        # If multiple PDB ids were provided, call the API with POST\n",
    "        # The POST API call expects PDB ids as a comma-separated lise\n",
    "        pdb_list_string = \", \".join(pdb_list)\n",
    "        data = make_request(secondary_structure_url, \"post\", pdb_list_string)\n",
    "        \n",
    "    # When no data is returned by the API, exit the function\n",
    "    if not data:\n",
    "        print(\"No data available\")\n",
    "        return None\n",
    "    \n",
    "    # Loop through all the PDB entries in the retrieved data\n",
    "    for entry_id in data.keys():\n",
    "        entry = data[entry_id]\n",
    "        molecules = entry[\"molecules\"]\n",
    "        \n",
    "        # Loop through all the molecules of a given PDB entry\n",
    "        for i in range(len(molecules)):\n",
    "            chains = molecules[i][\"chains\"]\n",
    "            \n",
    "            # Loop through all the chains of a given molecules\n",
    "            for j in range(len(chains)):\n",
    "                secondary_structure = chains[j][\"secondary_structure\"]\n",
    "                helices = secondary_structure[\"helices\"] if 'helices' in secondary_structure else []\n",
    "                strands = secondary_structure[\"strands\"] if 'strands' in secondary_structure else []\n",
    "                helix_list = []\n",
    "                strand_list = []\n",
    "                \n",
    "                # Loop through all the helices of a given chain\n",
    "                for k in range(len(helices)):\n",
    "                    start = helices[k][\"start\"][\"residue_number\"]\n",
    "                    end = helices[k][\"end\"][\"residue_number\"]\n",
    "                    helix_list.append(\"%s-%s\" % (start, end))\n",
    "                \n",
    "                # Loop through all the strands of a given chain\n",
    "                for l in range(len(strands)):\n",
    "                    start = strands[l][\"start\"][\"residue_number\"]\n",
    "                    end = strands[l][\"end\"][\"residue_number\"]\n",
    "                    strand_list.append(\"%s-%s\" % (start, end))\n",
    "                    \n",
    "                report = \"%s chain %s has \" % (entry_id, chains[j][\"chain_id\"])\n",
    "                if len(helix_list) > 0:\n",
    "                    report += \"helices at residue ranges %s \" % str(helix_list)\n",
    "                else:\n",
    "                    report += \"no helices \"\n",
    "                report += \"and \"\n",
    "                if len(strand_list) > 0:\n",
    "                    report += \"strands at %s\" % str(strand_list)\n",
    "                else:\n",
    "                    \"no strands\"\n",
    "                print(report)\n",
    "                \n",
    "    return None\n",
    "\n",
    "def get_ligand_information(data):\n",
    "    pdb_id = \"\"\n",
    "    \n",
    "    summary = \"\"\n",
    "\n",
    "    for key in data.keys():\n",
    "        pdb_id = key\n",
    "        \n",
    "    for ligand in data[pdb_id]:\n",
    "        summary += f\"Ligand : {ligand['chem_comp_name']} at position {ligand['author_residue_number']}\\n\"\n",
    "        \n",
    "    return summary\n",
    "    \n",
    "\n",
    "def get_entry_from_api(pdb_id, api_url):\n",
    "    \"\"\"\n",
    "    This function will make a call to the PDBe API using\n",
    "    the PDB id and API url provided as arguments\n",
    "    \n",
    "    :param pdb_id: String,\n",
    "    :param api_url: String\n",
    "    :return: Dict or None\n",
    "    \"\"\"\n",
    "    if not re.match(\"[0-9][A-Za-z][A-Za-z0-9]{2}\", pdb_id):\n",
    "        print(\"Invalid PDB id\")\n",
    "        return None\n",
    "    \n",
    "    # Make a GET call to the API URL\n",
    "    get_request = requests.get(url=api_url+pdb_id)\n",
    "    \n",
    "    if get_request.status_code == 200:\n",
    "        # If there is data returned (with HTML status code 200)\n",
    "        # then return the data in JSON format\n",
    "        return get_request.json()\n",
    "    else:\n",
    "        # If there is no data, print status code and response\n",
    "        print(get_request.status_code, get_request.text)\n",
    "        return None\n",
    "\n",
    "\n",
    "# As you can hopefully see, the data displayed is very similar to\n",
    "# what we had in the mock data in previous sections - however,\n",
    "# this is actual data coming from the PDBe API\n",
    "    "
   ]
  },
  {
   "cell_type": "code",
   "execution_count": 4,
   "id": "2ff59cb3",
   "metadata": {
    "execution": {
     "iopub.execute_input": "2022-10-05T04:06:47.913173Z",
     "iopub.status.busy": "2022-10-05T04:06:47.913018Z",
     "iopub.status.idle": "2022-10-05T04:06:47.918835Z",
     "shell.execute_reply": "2022-10-05T04:06:47.918523Z"
    },
    "tags": [
     "remove-input"
    ]
   },
   "outputs": [
    {
     "data": {
      "text/markdown": [
       "# Subset - eukaryotic_kari"
      ],
      "text/plain": [
       "<IPython.core.display.Markdown object>"
      ]
     },
     "metadata": {},
     "output_type": "display_data"
    },
    {
     "name": "stdout",
     "output_type": "stream",
     "text": [
      "None\n"
     ]
    }
   ],
   "source": [
    "print(display(Markdown(f'# Subset - {snakemake.wildcards.subset}')))"
   ]
  },
  {
   "cell_type": "code",
   "execution_count": 5,
   "id": "2409306d",
   "metadata": {
    "execution": {
     "iopub.execute_input": "2022-10-05T04:06:47.921043Z",
     "iopub.status.busy": "2022-10-05T04:06:47.920892Z",
     "iopub.status.idle": "2022-10-05T04:06:47.923091Z",
     "shell.execute_reply": "2022-10-05T04:06:47.922758Z"
    },
    "tags": [
     "remove-input"
    ]
   },
   "outputs": [
    {
     "name": "stdout",
     "output_type": "stream",
     "text": [
      "Subset sheet - eukaryotic_kari\n"
     ]
    }
   ],
   "source": [
    "print (f'Subset sheet - {snakemake.wildcards.subset}')"
   ]
  },
  {
   "cell_type": "code",
   "execution_count": 6,
   "id": "1e16f03f",
   "metadata": {
    "execution": {
     "iopub.execute_input": "2022-10-05T04:06:47.925315Z",
     "iopub.status.busy": "2022-10-05T04:06:47.924911Z",
     "iopub.status.idle": "2022-10-05T04:06:47.949349Z",
     "shell.execute_reply": "2022-10-05T04:06:47.948928Z"
    },
    "tags": [
     "remove-cell"
    ]
   },
   "outputs": [],
   "source": [
    "df = pd.read_csv(snakemake.input.csv)\n",
    "non_fragment_df = df[df['fragment'] == False]\n",
    "entry_df = df.dropna(axis=1, how='all')"
   ]
  },
  {
   "cell_type": "markdown",
   "id": "a4546e5a",
   "metadata": {},
   "source": [
    "# EC numbers"
   ]
  },
  {
   "cell_type": "code",
   "execution_count": 7,
   "id": "35f41f38",
   "metadata": {
    "execution": {
     "iopub.execute_input": "2022-10-05T04:06:47.951614Z",
     "iopub.status.busy": "2022-10-05T04:06:47.951461Z",
     "iopub.status.idle": "2022-10-05T04:06:47.954329Z",
     "shell.execute_reply": "2022-10-05T04:06:47.953982Z"
    },
    "tags": [
     "remove-input"
    ]
   },
   "outputs": [
    {
     "name": "stdout",
     "output_type": "stream",
     "text": [
      "The EC numbers found in the current data set are {'1.1.1.86'}\n"
     ]
    }
   ],
   "source": [
    "ec_nums = list(pd.unique(df['ec']))\n",
    "\n",
    "ec_set = set()\n",
    "\n",
    "for num in ec_nums:\n",
    "    for split in str(num).split(\";\"):\n",
    "        ec_set.add(split.strip())\n",
    "    \n",
    "print (f'The EC numbers found in the current data set are {ec_set}')"
   ]
  },
  {
   "cell_type": "markdown",
   "id": "650cf149",
   "metadata": {},
   "source": [
    "# Taxonomic distribution"
   ]
  },
  {
   "cell_type": "code",
   "execution_count": 8,
   "id": "aec321f9",
   "metadata": {
    "execution": {
     "iopub.execute_input": "2022-10-05T04:06:47.956313Z",
     "iopub.status.busy": "2022-10-05T04:06:47.956167Z",
     "iopub.status.idle": "2022-10-05T04:06:48.086272Z",
     "shell.execute_reply": "2022-10-05T04:06:48.085937Z"
    },
    "tags": [
     "remove-input"
    ]
   },
   "outputs": [
    {
     "data": {
      "image/png": "[encoded data removed]",
      "text/plain": [
       "<Figure size 360x720 with 1 Axes>"
      ]
     },
     "metadata": {
      "filenames": {
       "image/png": "/Users/sanjanatule/asr_curation/workflows/example_workflow/datasets/kari_example_ec_1_1_1_86/dataset_summary/all_kari/_build/jupyter_execute/eukaryotic_kari_subset_summary_cleaned_9_0.png"
      },
      "needs_background": "light"
     },
     "output_type": "display_data"
    },
    {
     "data": {
      "image/png": "[encoded data removed]",
      "text/plain": [
       "<Figure size 252x720 with 1 Axes>"
      ]
     },
     "metadata": {
      "filenames": {
       "image/png": "/Users/sanjanatule/asr_curation/workflows/example_workflow/datasets/kari_example_ec_1_1_1_86/dataset_summary/all_kari/_build/jupyter_execute/eukaryotic_kari_subset_summary_cleaned_9_1.png"
      },
      "needs_background": "light"
     },
     "output_type": "display_data"
    }
   ],
   "source": [
    "taxonomy_cols = ['lineage_superkingdom', 'lineage_phylum']\n",
    "\n",
    "for col in taxonomy_cols:\n",
    "    fig, ax = plt.subplots(figsize=(len(col) / 4 ,10))\n",
    "    chart = df[col].value_counts().plot.barh(title=col, ax=ax)\n",
    "    plt.show()"
   ]
  },
  {
   "cell_type": "markdown",
   "id": "3635cede",
   "metadata": {},
   "source": [
    "# Annotation distributions"
   ]
  },
  {
   "cell_type": "code",
   "execution_count": 9,
   "id": "74348439",
   "metadata": {
    "execution": {
     "iopub.execute_input": "2022-10-05T04:06:48.088371Z",
     "iopub.status.busy": "2022-10-05T04:06:48.088209Z",
     "iopub.status.idle": "2022-10-05T04:06:48.371689Z",
     "shell.execute_reply": "2022-10-05T04:06:48.371333Z"
    },
    "tags": [
     "remove-input"
    ]
   },
   "outputs": [
    {
     "data": {
      "image/png": "[encoded data removed]",
      "text/plain": [
       "<Figure size 480x720 with 1 Axes>"
      ]
     },
     "metadata": {
      "filenames": {
       "image/png": "/Users/sanjanatule/asr_curation/workflows/example_workflow/datasets/kari_example_ec_1_1_1_86/dataset_summary/all_kari/_build/jupyter_execute/eukaryotic_kari_subset_summary_cleaned_11_0.png"
      },
      "needs_background": "light"
     },
     "output_type": "display_data"
    },
    {
     "data": {
      "image/png": "[encoded data removed]",
      "text/plain": [
       "<Figure size 264x720 with 1 Axes>"
      ]
     },
     "metadata": {
      "filenames": {
       "image/png": "/Users/sanjanatule/asr_curation/workflows/example_workflow/datasets/kari_example_ec_1_1_1_86/dataset_summary/all_kari/_build/jupyter_execute/eukaryotic_kari_subset_summary_cleaned_11_1.png"
      },
      "needs_background": "light"
     },
     "output_type": "display_data"
    },
    {
     "data": {
      "image/png": "[encoded data removed]",
      "text/plain": [
       "<Figure size 288x720 with 1 Axes>"
      ]
     },
     "metadata": {
      "filenames": {
       "image/png": "/Users/sanjanatule/asr_curation/workflows/example_workflow/datasets/kari_example_ec_1_1_1_86/dataset_summary/all_kari/_build/jupyter_execute/eukaryotic_kari_subset_summary_cleaned_11_2.png"
      },
      "needs_background": "light"
     },
     "output_type": "display_data"
    },
    {
     "data": {
      "image/png": "[encoded data removed]",
      "text/plain": [
       "<Figure size 240x720 with 1 Axes>"
      ]
     },
     "metadata": {
      "filenames": {
       "image/png": "/Users/sanjanatule/asr_curation/workflows/example_workflow/datasets/kari_example_ec_1_1_1_86/dataset_summary/all_kari/_build/jupyter_execute/eukaryotic_kari_subset_summary_cleaned_11_3.png"
      },
      "needs_background": "light"
     },
     "output_type": "display_data"
    },
    {
     "data": {
      "image/png": "[encoded data removed]",
      "text/plain": [
       "<Figure size 48x720 with 1 Axes>"
      ]
     },
     "metadata": {
      "filenames": {
       "image/png": "/Users/sanjanatule/asr_curation/workflows/example_workflow/datasets/kari_example_ec_1_1_1_86/dataset_summary/all_kari/_build/jupyter_execute/eukaryotic_kari_subset_summary_cleaned_11_4.png"
      },
      "needs_background": "light"
     },
     "output_type": "display_data"
    }
   ],
   "source": [
    "key_annotation_cols = snakemake.params.annotation_cols\n",
    "\n",
    "for col in key_annotation_cols:\n",
    "    if col in entry_df:\n",
    "        fig, ax = plt.subplots(figsize=(len(col) / 3 ,10))\n",
    "        chart = entry_df[col].value_counts().plot.barh(title=col, ax=ax)\n",
    "        plt.show()"
   ]
  },
  {
   "cell_type": "code",
   "execution_count": 10,
   "id": "cf461ab0",
   "metadata": {
    "execution": {
     "iopub.execute_input": "2022-10-05T04:06:48.373773Z",
     "iopub.status.busy": "2022-10-05T04:06:48.373624Z",
     "iopub.status.idle": "2022-10-05T04:06:48.378876Z",
     "shell.execute_reply": "2022-10-05T04:06:48.378531Z"
    },
    "tags": [
     "remove-input"
    ]
   },
   "outputs": [
    {
     "name": "stdout",
     "output_type": "stream",
     "text": [
      "Sequence statistics for all sequences\n",
      "Number of sequences : 6.0\n",
      "Smallest sequnce length : 395.0\n",
      "Longest sequnce length : 595.0\n",
      "Average sequnce length : 494.1666666666667\n",
      "\n"
     ]
    }
   ],
   "source": [
    "seq_len = df['length'].describe()\n",
    "non_fragment_seq_len = non_fragment_df['length'].describe()\n",
    "\n",
    "\n",
    "\n",
    "def print_sequence_summarys(seq_summary):\n",
    "    print (f\"Number of sequences : {seq_summary['count']}\")\n",
    "    print (f\"Smallest sequnce length : {seq_summary['min']}\")\n",
    "    print (f\"Longest sequnce length : {seq_summary['max']}\")\n",
    "    print (f\"Average sequnce length : {seq_summary['mean']}\")\n",
    "\n",
    "print (\"Sequence statistics for all sequences\")\n",
    "print_sequence_summarys(seq_len)\n",
    "\n",
    "print ()\n",
    "\n",
    "if non_fragment_seq_len.all():\n",
    "\n",
    "    print (\"Sequence statistics for sequences (non-fragments)\")\n",
    "    print_sequence_summarys(non_fragment_seq_len)\n"
   ]
  },
  {
   "cell_type": "markdown",
   "id": "f422b43f",
   "metadata": {},
   "source": [
    "# Experimental data (BRENDA)"
   ]
  },
  {
   "cell_type": "code",
   "execution_count": 11,
   "id": "6db7df0d",
   "metadata": {
    "execution": {
     "iopub.execute_input": "2022-10-05T04:06:48.380922Z",
     "iopub.status.busy": "2022-10-05T04:06:48.380768Z",
     "iopub.status.idle": "2022-10-05T04:06:48.888739Z",
     "shell.execute_reply": "2022-10-05T04:06:48.888370Z"
    },
    "tags": [
     "remove-input"
    ]
   },
   "outputs": [
    {
     "name": "stdout",
     "output_type": "stream",
     "text": [
      "53\n"
     ]
    },
    {
     "data": {
      "image/png": "[encoded data removed]",
      "text/plain": [
       "<Figure size 954x720 with 1 Axes>"
      ]
     },
     "metadata": {
      "filenames": {
       "image/png": "/Users/sanjanatule/asr_curation/workflows/example_workflow/datasets/kari_example_ec_1_1_1_86/dataset_summary/all_kari/_build/jupyter_execute/eukaryotic_kari_subset_summary_cleaned_14_1.png"
      },
      "needs_background": "light"
     },
     "output_type": "display_data"
    }
   ],
   "source": [
    "skip_brenda_cols = [\n",
    "'BRENDA_CL', 'BRENDA_GI', \n",
    "'BRENDA_SN', 'BRENDA_SY', \n",
    "'BRENDA_MW', 'BRENDA_SP',\n",
    "'BRENDA_NSP', 'BRENDA_PM',\n",
    "'BRENDA_LO', 'BRENDA_SU', \n",
    "'BRENDA_PU', 'BRENDA_ST',\n",
    "'BRENDA_CR', 'BRENDA_CF',\n",
    "'BRENDA_RN', 'BRENDA_RT',\n",
    "'BRENDA_ME', 'BRENDA_REFERENCES']\n",
    "\n",
    "\n",
    "# Only get the columns that start with BRENDA and that we don't want to skip\n",
    "brenda_cols =[x for x in df if x.startswith(\"BRENDA\") and 'COMMENT' not in x and 'REFS' not in x and 'UNITS' not in x and not any(skip in x for skip in skip_brenda_cols)]\n",
    "\n",
    "# Drop rows if they don't have at least one entry in one of the BRENDA columns\n",
    "b_df = df[brenda_cols].dropna(thresh=1)\n",
    "print (len(brenda_cols))\n",
    "fig, ax = plt.subplots(figsize=(len(brenda_cols) / 4 ,10))\n",
    "\n",
    "\n",
    "# Create and save a plot of the BRENDA column counts\n",
    "if not b_df.empty:\n",
    "    b_df.count().plot.barh(ax=ax)\n",
    "    display()"
   ]
  },
  {
   "cell_type": "markdown",
   "id": "538ce7f4",
   "metadata": {},
   "source": [
    "# Structural information"
   ]
  },
  {
   "cell_type": "code",
   "execution_count": 12,
   "id": "009a957e",
   "metadata": {
    "execution": {
     "iopub.execute_input": "2022-10-05T04:06:48.890988Z",
     "iopub.status.busy": "2022-10-05T04:06:48.890863Z",
     "iopub.status.idle": "2022-10-05T04:07:03.827288Z",
     "shell.execute_reply": "2022-10-05T04:07:03.826346Z"
    },
    "tags": [
     "remove-input"
    ]
   },
   "outputs": [
    {
     "name": "stdout",
     "output_type": "stream",
     "text": [
      "There are 4 total structures across 2 unique sequences\n",
      "Looking at the first few...\n"
     ]
    },
    {
     "data": {
      "text/markdown": [
       "# 3FR7 PDB entry information"
      ],
      "text/plain": [
       "<IPython.core.display.Markdown object>"
      ]
     },
     "metadata": {},
     "output_type": "display_data"
    },
    {
     "name": "stdout",
     "output_type": "stream",
     "text": [
      "None\n"
     ]
    },
    {
     "name": "stdout",
     "output_type": "stream",
     "text": [
      "Entry is titled \"ketol-acid reductoisomerase (KARI) in complex with Mg2+\" and was released on 2009/04/14 \n",
      "\n",
      "This entry was determined using X-ray diffraction \n",
      "The authors are Guddat, L.W.Leung, E.W.W. \n",
      "\n",
      "Assembly information -\n",
      "Preferred form with assembly ID 1 is a homodimer\n",
      "\n"
     ]
    },
    {
     "data": {
      "text/markdown": [
       "# 3FR7 Ligand informtion"
      ],
      "text/plain": [
       "<IPython.core.display.Markdown object>"
      ]
     },
     "metadata": {},
     "output_type": "display_data"
    },
    {
     "name": "stdout",
     "output_type": "stream",
     "text": [
      "Ligand : MAGNESIUM ION at position 1576\n",
      "Ligand : MAGNESIUM ION at position 1577\n",
      "Ligand : MAGNESIUM ION at position 1580\n",
      "Ligand : MAGNESIUM ION at position 1597\n",
      "Ligand : MAGNESIUM ION at position 1598\n",
      "\n"
     ]
    },
    {
     "data": {
      "text/markdown": [
       "# 3FR7 Secondary structure ranges"
      ],
      "text/plain": [
       "<IPython.core.display.Markdown object>"
      ]
     },
     "metadata": {},
     "output_type": "display_data"
    },
    {
     "name": "stdout",
     "output_type": "stream",
     "text": [
      "3fr7 chain A has helices at residue ranges ['40-45', '46-51', '64-80', '96-103', '115-122', '130-145', '156-165', '183-195', '215-227', '236-250', '253-270', '273-281', '281-287', '287-297', '297-304', '306-350', '368-381', '390-411', '414-423', '423-429', '429-438', '438-446', '447-475', '480-490', '491-501'] and strands at ['32-38', '24-29', '231-234', '85-90', '124-127', '56-60', '112-114', '150-153', '174-180', '204-210']\n",
      "3fr7 chain B has helices at residue ranges ['40-45', '46-51', '64-80', '94-103', '114-122', '130-145', '156-165', '183-195', '215-227', '236-250', '253-270', '273-304', '306-350', '368-379', '390-411', '414-423', '423-429', '429-438', '438-446', '447-475', '480-490', '491-501'] and strands at ['32-38', '25-29', '231-234', '85-89', '124-127', '56-60', '112-113', '150-153', '174-180', '204-210']\n"
     ]
    },
    {
     "data": {
      "text/markdown": [
       "# 3FR7"
      ],
      "text/plain": [
       "<IPython.core.display.Markdown object>"
      ]
     },
     "metadata": {},
     "output_type": "display_data"
    },
    {
     "data": {
      "application/3dmoljs_load.v0": "<div id=\"3dmolviewer_16649458755454028\"  style=\"position: relative; width: 640px; height: 480px\">\n        <p id=\"3dmolwarning_16649458755454028\" style=\"background-color:#ffcccc;color:black\">You appear to be running in JupyterLab (or JavaScript failed to load for some other reason).  You need to install the 3dmol extension: <br>\n        <tt>jupyter labextension install jupyterlab_3dmol</tt></p>\n        </div>\n<script>\n\nvar loadScriptAsync = function(uri){\n  return new Promise((resolve, reject) => {\n    var tag = document.createElement('script');\n    tag.src = uri;\n    tag.async = true;\n    tag.onload = () => {\n      resolve();\n    };\n  var firstScriptTag = document.getElementsByTagName('script')[0];\n  firstScriptTag.parentNode.insertBefore(tag, firstScriptTag);\n});\n};\n\nif(typeof $3Dmolpromise === 'undefined') {\n$3Dmolpromise = null;\n  $3Dmolpromise = loadScriptAsync('https://3dmol.org/build/3Dmol.js');\n}\n\nvar viewer_16649458755454028 = null;\nvar warn = document.getElementById(\"3dmolwarning_16649458755454028\");\nif(warn) {\n    warn.parentNode.removeChild(warn);\n}\n$3Dmolpromise.then(function() {\nviewer_16649458755454028 = $3Dmol.createViewer($(\"#3dmolviewer_16649458755454028\"),{backgroundColor:\"white\"});\n$3Dmol.download(\"pdb:3FR7\", viewer_16649458755454028, {}, function() {\nviewer_16649458755454028.zoomTo();\n\tviewer_16649458755454028.setStyle({\"cartoon\": {\"color\": \"spectrum\"}});\nviewer_16649458755454028.render();\n})\n});\n</script>",
      "text/html": [
       "<div id=\"3dmolviewer_16649458755454028\"  style=\"position: relative; width: 640px; height: 480px\">\n",
       "        <p id=\"3dmolwarning_16649458755454028\" style=\"background-color:#ffcccc;color:black\">You appear to be running in JupyterLab (or JavaScript failed to load for some other reason).  You need to install the 3dmol extension: <br>\n",
       "        <tt>jupyter labextension install jupyterlab_3dmol</tt></p>\n",
       "        </div>\n",
       "<script>\n",
       "\n",
       "var loadScriptAsync = function(uri){\n",
       "  return new Promise((resolve, reject) => {\n",
       "    var tag = document.createElement('script');\n",
       "    tag.src = uri;\n",
       "    tag.async = true;\n",
       "    tag.onload = () => {\n",
       "      resolve();\n",
       "    };\n",
       "  var firstScriptTag = document.getElementsByTagName('script')[0];\n",
       "  firstScriptTag.parentNode.insertBefore(tag, firstScriptTag);\n",
       "});\n",
       "};\n",
       "\n",
       "if(typeof $3Dmolpromise === 'undefined') {\n",
       "$3Dmolpromise = null;\n",
       "  $3Dmolpromise = loadScriptAsync('https://3dmol.org/build/3Dmol.js');\n",
       "}\n",
       "\n",
       "var viewer_16649458755454028 = null;\n",
       "var warn = document.getElementById(\"3dmolwarning_16649458755454028\");\n",
       "if(warn) {\n",
       "    warn.parentNode.removeChild(warn);\n",
       "}\n",
       "$3Dmolpromise.then(function() {\n",
       "viewer_16649458755454028 = $3Dmol.createViewer($(\"#3dmolviewer_16649458755454028\"),{backgroundColor:\"white\"});\n",
       "$3Dmol.download(\"pdb:3FR7\", viewer_16649458755454028, {}, function() {\n",
       "viewer_16649458755454028.zoomTo();\n",
       "\tviewer_16649458755454028.setStyle({\"cartoon\": {\"color\": \"spectrum\"}});\n",
       "viewer_16649458755454028.render();\n",
       "})\n",
       "});\n",
       "</script>"
      ]
     },
     "metadata": {},
     "output_type": "display_data"
    },
    {
     "data": {
      "text/plain": [
       "<py3Dmol.view at 0x7fceba990910>"
      ]
     },
     "metadata": {},
     "output_type": "display_data"
    },
    {
     "data": {
      "text/markdown": [
       "# 3FR8 PDB entry information"
      ],
      "text/plain": [
       "<IPython.core.display.Markdown object>"
      ]
     },
     "metadata": {},
     "output_type": "display_data"
    },
    {
     "name": "stdout",
     "output_type": "stream",
     "text": [
      "None\n"
     ]
    },
    {
     "name": "stdout",
     "output_type": "stream",
     "text": [
      "Entry is titled \"rice Ketolacid reductoisomerase in complex with Mg2+-NADPH\" and was released on 2009/04/14 \n",
      "\n",
      "This entry was determined using X-ray diffraction \n",
      "The authors are Leung, E.W.W.Guddat, L.W. \n",
      "\n",
      "Assembly information -\n",
      "Preferred form with assembly ID 1 is a homodimer\n",
      "\n"
     ]
    },
    {
     "data": {
      "text/markdown": [
       "# 3FR8 Ligand informtion"
      ],
      "text/plain": [
       "<IPython.core.display.Markdown object>"
      ]
     },
     "metadata": {},
     "output_type": "display_data"
    },
    {
     "name": "stdout",
     "output_type": "stream",
     "text": [
      "Ligand : MAGNESIUM ION at position 1\n",
      "Ligand : MAGNESIUM ION at position 1\n",
      "Ligand : MAGNESIUM ION at position 597\n",
      "Ligand : SULFATE ION at position 597\n",
      "Ligand : NADPH DIHYDRO-NICOTINAMIDE-ADENINE-DINUCLEOTIDE PHOSPHATE at position 601\n",
      "Ligand : NADPH DIHYDRO-NICOTINAMIDE-ADENINE-DINUCLEOTIDE PHOSPHATE at position 600\n",
      "Ligand : 2-{2-[2-(2-{2-[2-(2-ETHOXY-ETHOXY)-ETHOXY]-ETHOXY}-ETHOXY)-ETHOXY]-ETHOXY}-ETHANOL at position 6061\n",
      "Ligand : DI(HYDROXYETHYL)ETHER at position 6073\n",
      "\n"
     ]
    },
    {
     "data": {
      "text/markdown": [
       "# 3FR8 Secondary structure ranges"
      ],
      "text/plain": [
       "<IPython.core.display.Markdown object>"
      ]
     },
     "metadata": {},
     "output_type": "display_data"
    },
    {
     "name": "stdout",
     "output_type": "stream",
     "text": [
      "3fr8 chain A has helices at residue ranges ['40-45', '46-51', '64-75', '96-102', '115-121', '130-136', '137-145', '156-164', '183-194', '215-227', '236-250', '253-270', '273-305', '306-337', '338-350', '368-380', '390-411', '414-423', '423-429', '430-438', '438-444', '447-476', '480-490', '491-500'] and strands at ['32-38', '25-29', '231-234', '85-90', '124-127', '56-60', '112-114', '150-153', '174-180', '204-210']\n",
      "3fr8 chain B has helices at residue ranges ['40-45', '46-51', '64-75', '99-104', '115-121', '130-145', '156-165', '183-190', '192-197', '215-228', '236-250', '253-270', '273-286', '287-296', '297-305', '306-337', '338-350', '368-380', '390-411', '414-423', '423-429', '430-438', '438-444', '447-475', '480-489', '491-500'] and strands at ['32-38', '25-29', '231-234', '85-90', '124-127', '56-60', '112-114', '150-153', '174-180', '204-210']\n"
     ]
    },
    {
     "data": {
      "text/markdown": [
       "# 3FR8"
      ],
      "text/plain": [
       "<IPython.core.display.Markdown object>"
      ]
     },
     "metadata": {},
     "output_type": "display_data"
    },
    {
     "data": {
      "application/3dmoljs_load.v0": "<div id=\"3dmolviewer_1664945879088809\"  style=\"position: relative; width: 640px; height: 480px\">\n        <p id=\"3dmolwarning_1664945879088809\" style=\"background-color:#ffcccc;color:black\">You appear to be running in JupyterLab (or JavaScript failed to load for some other reason).  You need to install the 3dmol extension: <br>\n        <tt>jupyter labextension install jupyterlab_3dmol</tt></p>\n        </div>\n<script>\n\nvar loadScriptAsync = function(uri){\n  return new Promise((resolve, reject) => {\n    var tag = document.createElement('script');\n    tag.src = uri;\n    tag.async = true;\n    tag.onload = () => {\n      resolve();\n    };\n  var firstScriptTag = document.getElementsByTagName('script')[0];\n  firstScriptTag.parentNode.insertBefore(tag, firstScriptTag);\n});\n};\n\nif(typeof $3Dmolpromise === 'undefined') {\n$3Dmolpromise = null;\n  $3Dmolpromise = loadScriptAsync('https://3dmol.org/build/3Dmol.js');\n}\n\nvar viewer_1664945879088809 = null;\nvar warn = document.getElementById(\"3dmolwarning_1664945879088809\");\nif(warn) {\n    warn.parentNode.removeChild(warn);\n}\n$3Dmolpromise.then(function() {\nviewer_1664945879088809 = $3Dmol.createViewer($(\"#3dmolviewer_1664945879088809\"),{backgroundColor:\"white\"});\n$3Dmol.download(\"pdb:3FR8\", viewer_1664945879088809, {}, function() {\nviewer_1664945879088809.zoomTo();\n\tviewer_1664945879088809.setStyle({\"cartoon\": {\"color\": \"spectrum\"}});\nviewer_1664945879088809.render();\n})\n});\n</script>",
      "text/html": [
       "<div id=\"3dmolviewer_1664945879088809\"  style=\"position: relative; width: 640px; height: 480px\">\n",
       "        <p id=\"3dmolwarning_1664945879088809\" style=\"background-color:#ffcccc;color:black\">You appear to be running in JupyterLab (or JavaScript failed to load for some other reason).  You need to install the 3dmol extension: <br>\n",
       "        <tt>jupyter labextension install jupyterlab_3dmol</tt></p>\n",
       "        </div>\n",
       "<script>\n",
       "\n",
       "var loadScriptAsync = function(uri){\n",
       "  return new Promise((resolve, reject) => {\n",
       "    var tag = document.createElement('script');\n",
       "    tag.src = uri;\n",
       "    tag.async = true;\n",
       "    tag.onload = () => {\n",
       "      resolve();\n",
       "    };\n",
       "  var firstScriptTag = document.getElementsByTagName('script')[0];\n",
       "  firstScriptTag.parentNode.insertBefore(tag, firstScriptTag);\n",
       "});\n",
       "};\n",
       "\n",
       "if(typeof $3Dmolpromise === 'undefined') {\n",
       "$3Dmolpromise = null;\n",
       "  $3Dmolpromise = loadScriptAsync('https://3dmol.org/build/3Dmol.js');\n",
       "}\n",
       "\n",
       "var viewer_1664945879088809 = null;\n",
       "var warn = document.getElementById(\"3dmolwarning_1664945879088809\");\n",
       "if(warn) {\n",
       "    warn.parentNode.removeChild(warn);\n",
       "}\n",
       "$3Dmolpromise.then(function() {\n",
       "viewer_1664945879088809 = $3Dmol.createViewer($(\"#3dmolviewer_1664945879088809\"),{backgroundColor:\"white\"});\n",
       "$3Dmol.download(\"pdb:3FR8\", viewer_1664945879088809, {}, function() {\n",
       "viewer_1664945879088809.zoomTo();\n",
       "\tviewer_1664945879088809.setStyle({\"cartoon\": {\"color\": \"spectrum\"}});\n",
       "viewer_1664945879088809.render();\n",
       "})\n",
       "});\n",
       "</script>"
      ]
     },
     "metadata": {},
     "output_type": "display_data"
    },
    {
     "data": {
      "text/plain": [
       "<py3Dmol.view at 0x7fceba991120>"
      ]
     },
     "metadata": {},
     "output_type": "display_data"
    },
    {
     "data": {
      "text/markdown": [
       "# 1QMG PDB entry information"
      ],
      "text/plain": [
       "<IPython.core.display.Markdown object>"
      ]
     },
     "metadata": {},
     "output_type": "display_data"
    },
    {
     "name": "stdout",
     "output_type": "stream",
     "text": [
      "None\n"
     ]
    },
    {
     "name": "stdout",
     "output_type": "stream",
     "text": [
      "Entry is titled \"Acetohydroxyacid isomeroreductase complexed with its reaction product dihydroxy-methylvalerate, manganese and ADP-ribose.\" and was released on 2000/03/31 \n",
      "\n",
      "This entry was determined using X-ray diffraction \n",
      "The authors are Thomazeau, K.Dumas, R.Halgand, F.Douce, R.Biou, V. \n",
      "\n",
      "Assembly information -\n",
      "Preferred form with assembly ID 1 is a homodimer\n",
      "Non-preferred form with assembly ID 2 is a homodimer\n",
      "\n"
     ]
    },
    {
     "data": {
      "text/markdown": [
       "# 1QMG Ligand informtion"
      ],
      "text/plain": [
       "<IPython.core.display.Markdown object>"
      ]
     },
     "metadata": {},
     "output_type": "display_data"
    },
    {
     "name": "stdout",
     "output_type": "stream",
     "text": [
      "Ligand : 2'-MONOPHOSPHOADENOSINE-5'-DIPHOSPHORIBOSE at position 600\n",
      "Ligand : 2'-MONOPHOSPHOADENOSINE-5'-DIPHOSPHORIBOSE at position 600\n",
      "Ligand : 2'-MONOPHOSPHOADENOSINE-5'-DIPHOSPHORIBOSE at position 600\n",
      "Ligand : 2'-MONOPHOSPHOADENOSINE-5'-DIPHOSPHORIBOSE at position 600\n",
      "Ligand : MANGANESE (II) ION at position 601\n",
      "Ligand : MANGANESE (II) ION at position 602\n",
      "Ligand : MANGANESE (II) ION at position 601\n",
      "Ligand : MANGANESE (II) ION at position 602\n",
      "Ligand : MANGANESE (II) ION at position 601\n",
      "Ligand : MANGANESE (II) ION at position 602\n",
      "Ligand : MANGANESE (II) ION at position 601\n",
      "Ligand : MANGANESE (II) ION at position 602\n",
      "Ligand : SULFATE ION at position 603\n",
      "Ligand : 2,3-DIHYDROXY-VALERIANIC ACID at position 620\n",
      "Ligand : 2,3-DIHYDROXY-VALERIANIC ACID at position 620\n",
      "Ligand : 2,3-DIHYDROXY-VALERIANIC ACID at position 620\n",
      "Ligand : 2,3-DIHYDROXY-VALERIANIC ACID at position 620\n",
      "\n"
     ]
    },
    {
     "data": {
      "text/markdown": [
       "# 1QMG Secondary structure ranges"
      ],
      "text/plain": [
       "<IPython.core.display.Markdown object>"
      ]
     },
     "metadata": {},
     "output_type": "display_data"
    },
    {
     "name": "stdout",
     "output_type": "stream",
     "text": [
      "1qmg chain A has helices at residue ranges ['40-45', '46-51', '64-80', '96-103', '106-110', '115-121', '130-145', '156-165', '183-195', '215-227', '236-250', '253-270', '273-280', '281-287', '287-296', '297-304', '306-350', '368-380', '390-412', '414-423', '423-429', '430-444', '447-475', '480-490', '491-501', '518-522'] and strands at ['32-38', '25-29', '231-234', '85-90', '124-127', '56-60', '112-114', '150-153', '174-180', '204-210']\n",
      "1qmg chain B has helices at residue ranges ['40-45', '46-51', '64-80', '95-103', '115-122', '130-144', '156-165', '183-194', '215-228', '236-250', '253-270', '273-280', '281-287', '287-296', '297-304', '306-350', '368-380', '390-411', '414-423', '423-429', '430-438', '438-444', '447-475', '480-490', '491-502', '518-522'] and strands at ['32-38', '25-29', '231-234', '85-90', '124-127', '56-60', '112-114', '150-153', '174-180', '204-210']\n",
      "1qmg chain C has helices at residue ranges ['40-45', '46-51', '65-80', '95-103', '115-122', '130-145', '156-165', '183-194', '215-227', '236-250', '253-270', '273-280', '281-287', '287-296', '297-304', '306-350', '368-380', '390-411', '414-423', '423-429', '430-438', '438-444', '447-475', '480-490', '491-502', '518-522'] and strands at ['32-38', '25-29', '231-234', '85-90', '124-127', '56-60', '112-114', '150-153', '174-180', '204-210']\n",
      "1qmg chain D has helices at residue ranges ['40-45', '46-51', '64-80', '95-103', '115-122', '130-145', '156-165', '183-195', '215-227', '236-250', '253-271', '273-280', '281-287', '287-296', '297-304', '306-350', '368-380', '390-411', '414-423', '423-429', '430-438', '438-444', '447-475', '480-490', '491-501', '518-522'] and strands at ['32-38', '25-29', '231-234', '85-90', '124-127', '56-60', '112-114', '150-153', '174-180', '204-210']\n"
     ]
    },
    {
     "data": {
      "text/markdown": [
       "# 1QMG"
      ],
      "text/plain": [
       "<IPython.core.display.Markdown object>"
      ]
     },
     "metadata": {},
     "output_type": "display_data"
    },
    {
     "data": {
      "application/3dmoljs_load.v0": "<div id=\"3dmolviewer_16649458826201448\"  style=\"position: relative; width: 640px; height: 480px\">\n        <p id=\"3dmolwarning_16649458826201448\" style=\"background-color:#ffcccc;color:black\">You appear to be running in JupyterLab (or JavaScript failed to load for some other reason).  You need to install the 3dmol extension: <br>\n        <tt>jupyter labextension install jupyterlab_3dmol</tt></p>\n        </div>\n<script>\n\nvar loadScriptAsync = function(uri){\n  return new Promise((resolve, reject) => {\n    var tag = document.createElement('script');\n    tag.src = uri;\n    tag.async = true;\n    tag.onload = () => {\n      resolve();\n    };\n  var firstScriptTag = document.getElementsByTagName('script')[0];\n  firstScriptTag.parentNode.insertBefore(tag, firstScriptTag);\n});\n};\n\nif(typeof $3Dmolpromise === 'undefined') {\n$3Dmolpromise = null;\n  $3Dmolpromise = loadScriptAsync('https://3dmol.org/build/3Dmol.js');\n}\n\nvar viewer_16649458826201448 = null;\nvar warn = document.getElementById(\"3dmolwarning_16649458826201448\");\nif(warn) {\n    warn.parentNode.removeChild(warn);\n}\n$3Dmolpromise.then(function() {\nviewer_16649458826201448 = $3Dmol.createViewer($(\"#3dmolviewer_16649458826201448\"),{backgroundColor:\"white\"});\n$3Dmol.download(\"pdb:1QMG\", viewer_16649458826201448, {}, function() {\nviewer_16649458826201448.zoomTo();\n\tviewer_16649458826201448.setStyle({\"cartoon\": {\"color\": \"spectrum\"}});\nviewer_16649458826201448.render();\n})\n});\n</script>",
      "text/html": [
       "<div id=\"3dmolviewer_16649458826201448\"  style=\"position: relative; width: 640px; height: 480px\">\n",
       "        <p id=\"3dmolwarning_16649458826201448\" style=\"background-color:#ffcccc;color:black\">You appear to be running in JupyterLab (or JavaScript failed to load for some other reason).  You need to install the 3dmol extension: <br>\n",
       "        <tt>jupyter labextension install jupyterlab_3dmol</tt></p>\n",
       "        </div>\n",
       "<script>\n",
       "\n",
       "var loadScriptAsync = function(uri){\n",
       "  return new Promise((resolve, reject) => {\n",
       "    var tag = document.createElement('script');\n",
       "    tag.src = uri;\n",
       "    tag.async = true;\n",
       "    tag.onload = () => {\n",
       "      resolve();\n",
       "    };\n",
       "  var firstScriptTag = document.getElementsByTagName('script')[0];\n",
       "  firstScriptTag.parentNode.insertBefore(tag, firstScriptTag);\n",
       "});\n",
       "};\n",
       "\n",
       "if(typeof $3Dmolpromise === 'undefined') {\n",
       "$3Dmolpromise = null;\n",
       "  $3Dmolpromise = loadScriptAsync('https://3dmol.org/build/3Dmol.js');\n",
       "}\n",
       "\n",
       "var viewer_16649458826201448 = null;\n",
       "var warn = document.getElementById(\"3dmolwarning_16649458826201448\");\n",
       "if(warn) {\n",
       "    warn.parentNode.removeChild(warn);\n",
       "}\n",
       "$3Dmolpromise.then(function() {\n",
       "viewer_16649458826201448 = $3Dmol.createViewer($(\"#3dmolviewer_16649458826201448\"),{backgroundColor:\"white\"});\n",
       "$3Dmol.download(\"pdb:1QMG\", viewer_16649458826201448, {}, function() {\n",
       "viewer_16649458826201448.zoomTo();\n",
       "\tviewer_16649458826201448.setStyle({\"cartoon\": {\"color\": \"spectrum\"}});\n",
       "viewer_16649458826201448.render();\n",
       "})\n",
       "});\n",
       "</script>"
      ]
     },
     "metadata": {},
     "output_type": "display_data"
    },
    {
     "data": {
      "text/plain": [
       "<py3Dmol.view at 0x7fcea9516fe0>"
      ]
     },
     "metadata": {},
     "output_type": "display_data"
    },
    {
     "data": {
      "text/markdown": [
       "# 1YVE PDB entry information"
      ],
      "text/plain": [
       "<IPython.core.display.Markdown object>"
      ]
     },
     "metadata": {},
     "output_type": "display_data"
    },
    {
     "name": "stdout",
     "output_type": "stream",
     "text": [
      "None\n"
     ]
    },
    {
     "name": "stdout",
     "output_type": "stream",
     "text": [
      "Entry is titled \"ACETOHYDROXY ACID ISOMEROREDUCTASE COMPLEXED WITH NADPH, MAGNESIUM AND INHIBITOR IPOHA (N-HYDROXY-N-ISOPROPYLOXAMATE)\" and was released on 1997/09/04 \n",
      "\n",
      "This entry was determined using X-ray diffraction \n",
      "The authors are Biou, V.Dumas, R.Cohen-Addad, C.Douce, R.Job, D.Pebay-Peyroula, E. \n",
      "\n",
      "Assembly information -\n",
      "Non-preferred form with assembly ID 1 is a homodimer\n",
      "Preferred form with assembly ID 2 is a homodimer\n",
      "\n"
     ]
    },
    {
     "data": {
      "text/markdown": [
       "# 1YVE Ligand informtion"
      ],
      "text/plain": [
       "<IPython.core.display.Markdown object>"
      ]
     },
     "metadata": {},
     "output_type": "display_data"
    },
    {
     "name": "stdout",
     "output_type": "stream",
     "text": [
      "Ligand : MAGNESIUM ION at position 601\n",
      "Ligand : MAGNESIUM ION at position 602\n",
      "Ligand : MAGNESIUM ION at position 601\n",
      "Ligand : MAGNESIUM ION at position 602\n",
      "Ligand : MAGNESIUM ION at position 601\n",
      "Ligand : MAGNESIUM ION at position 602\n",
      "Ligand : MAGNESIUM ION at position 601\n",
      "Ligand : MAGNESIUM ION at position 602\n",
      "Ligand : CHLORIDE ION at position 604\n",
      "Ligand : CHLORIDE ION at position 604\n",
      "Ligand : CHLORIDE ION at position 604\n",
      "Ligand : NADPH DIHYDRO-NICOTINAMIDE-ADENINE-DINUCLEOTIDE PHOSPHATE at position 600\n",
      "Ligand : NADPH DIHYDRO-NICOTINAMIDE-ADENINE-DINUCLEOTIDE PHOSPHATE at position 600\n",
      "Ligand : NADPH DIHYDRO-NICOTINAMIDE-ADENINE-DINUCLEOTIDE PHOSPHATE at position 605\n",
      "Ligand : NADPH DIHYDRO-NICOTINAMIDE-ADENINE-DINUCLEOTIDE PHOSPHATE at position 600\n",
      "Ligand : N-HYDROXY-N-ISOPROPYLOXAMIC ACID at position 603\n",
      "Ligand : N-HYDROXY-N-ISOPROPYLOXAMIC ACID at position 603\n",
      "Ligand : N-HYDROXY-N-ISOPROPYLOXAMIC ACID at position 603\n",
      "Ligand : N-HYDROXY-N-ISOPROPYLOXAMIC ACID at position 603\n",
      "\n"
     ]
    },
    {
     "data": {
      "text/markdown": [
       "# 1YVE Secondary structure ranges"
      ],
      "text/plain": [
       "<IPython.core.display.Markdown object>"
      ]
     },
     "metadata": {},
     "output_type": "display_data"
    },
    {
     "name": "stdout",
     "output_type": "stream",
     "text": [
      "1yve chain I has helices at residue ranges ['40-45', '46-51', '64-80', '96-103', '106-110', '115-121', '130-145', '156-165', '183-195', '215-228', '236-250', '253-270', '273-280', '281-287', '287-296', '297-304', '306-350', '368-380', '390-411', '414-423', '423-429', '430-438', '438-444', '447-475', '480-490', '491-501', '518-522'] and strands at ['32-38', '25-29', '231-234', '85-90', '124-127', '56-60', '112-114', '150-153', '174-180', '204-210']\n",
      "1yve chain J has helices at residue ranges ['40-45', '46-51', '64-80', '95-103', '115-122', '130-143', '156-165', '183-195', '215-227', '236-250', '253-270', '273-280', '281-287', '287-296', '297-304', '306-350', '368-380', '390-411', '414-423', '423-429', '430-444', '447-475', '480-490', '491-502', '518-522'] and strands at ['32-38', '25-29', '231-234', '85-90', '124-127', '56-60', '112-114', '150-153', '174-180', '204-210']\n",
      "1yve chain K has helices at residue ranges ['40-45', '46-51', '64-80', '96-103', '115-121', '130-143', '156-165', '183-195', '215-228', '236-250', '253-270', '273-280', '281-287', '287-296', '297-304', '306-350', '368-380', '390-411', '414-423', '423-429', '430-438', '438-444', '447-475', '480-490', '491-501', '518-522'] and strands at ['32-38', '25-29', '231-234', '85-90', '124-127', '56-60', '112-114', '150-153', '174-180', '204-210']\n",
      "1yve chain L has helices at residue ranges ['40-45', '46-51', '64-80', '95-103', '115-121', '130-145', '156-165', '183-195', '215-228', '236-250', '253-270', '273-280', '281-287', '287-304', '306-350', '368-380', '390-411', '414-423', '423-429', '430-444', '447-475', '480-490', '491-501', '518-522'] and strands at ['32-38', '25-29', '231-234', '85-90', '124-127', '56-60', '112-114', '150-153', '174-180', '204-210']\n"
     ]
    },
    {
     "data": {
      "text/markdown": [
       "# 1YVE"
      ],
      "text/plain": [
       "<IPython.core.display.Markdown object>"
      ]
     },
     "metadata": {},
     "output_type": "display_data"
    },
    {
     "data": {
      "application/3dmoljs_load.v0": "<div id=\"3dmolviewer_16649458861497102\"  style=\"position: relative; width: 640px; height: 480px\">\n        <p id=\"3dmolwarning_16649458861497102\" style=\"background-color:#ffcccc;color:black\">You appear to be running in JupyterLab (or JavaScript failed to load for some other reason).  You need to install the 3dmol extension: <br>\n        <tt>jupyter labextension install jupyterlab_3dmol</tt></p>\n        </div>\n<script>\n\nvar loadScriptAsync = function(uri){\n  return new Promise((resolve, reject) => {\n    var tag = document.createElement('script');\n    tag.src = uri;\n    tag.async = true;\n    tag.onload = () => {\n      resolve();\n    };\n  var firstScriptTag = document.getElementsByTagName('script')[0];\n  firstScriptTag.parentNode.insertBefore(tag, firstScriptTag);\n});\n};\n\nif(typeof $3Dmolpromise === 'undefined') {\n$3Dmolpromise = null;\n  $3Dmolpromise = loadScriptAsync('https://3dmol.org/build/3Dmol.js');\n}\n\nvar viewer_16649458861497102 = null;\nvar warn = document.getElementById(\"3dmolwarning_16649458861497102\");\nif(warn) {\n    warn.parentNode.removeChild(warn);\n}\n$3Dmolpromise.then(function() {\nviewer_16649458861497102 = $3Dmol.createViewer($(\"#3dmolviewer_16649458861497102\"),{backgroundColor:\"white\"});\n$3Dmol.download(\"pdb:1YVE\", viewer_16649458861497102, {}, function() {\nviewer_16649458861497102.zoomTo();\n\tviewer_16649458861497102.setStyle({\"cartoon\": {\"color\": \"spectrum\"}});\nviewer_16649458861497102.render();\n})\n});\n</script>",
      "text/html": [
       "<div id=\"3dmolviewer_16649458861497102\"  style=\"position: relative; width: 640px; height: 480px\">\n",
       "        <p id=\"3dmolwarning_16649458861497102\" style=\"background-color:#ffcccc;color:black\">You appear to be running in JupyterLab (or JavaScript failed to load for some other reason).  You need to install the 3dmol extension: <br>\n",
       "        <tt>jupyter labextension install jupyterlab_3dmol</tt></p>\n",
       "        </div>\n",
       "<script>\n",
       "\n",
       "var loadScriptAsync = function(uri){\n",
       "  return new Promise((resolve, reject) => {\n",
       "    var tag = document.createElement('script');\n",
       "    tag.src = uri;\n",
       "    tag.async = true;\n",
       "    tag.onload = () => {\n",
       "      resolve();\n",
       "    };\n",
       "  var firstScriptTag = document.getElementsByTagName('script')[0];\n",
       "  firstScriptTag.parentNode.insertBefore(tag, firstScriptTag);\n",
       "});\n",
       "};\n",
       "\n",
       "if(typeof $3Dmolpromise === 'undefined') {\n",
       "$3Dmolpromise = null;\n",
       "  $3Dmolpromise = loadScriptAsync('https://3dmol.org/build/3Dmol.js');\n",
       "}\n",
       "\n",
       "var viewer_16649458861497102 = null;\n",
       "var warn = document.getElementById(\"3dmolwarning_16649458861497102\");\n",
       "if(warn) {\n",
       "    warn.parentNode.removeChild(warn);\n",
       "}\n",
       "$3Dmolpromise.then(function() {\n",
       "viewer_16649458861497102 = $3Dmol.createViewer($(\"#3dmolviewer_16649458861497102\"),{backgroundColor:\"white\"});\n",
       "$3Dmol.download(\"pdb:1YVE\", viewer_16649458861497102, {}, function() {\n",
       "viewer_16649458861497102.zoomTo();\n",
       "\tviewer_16649458861497102.setStyle({\"cartoon\": {\"color\": \"spectrum\"}});\n",
       "viewer_16649458861497102.render();\n",
       "})\n",
       "});\n",
       "</script>"
      ]
     },
     "metadata": {},
     "output_type": "display_data"
    },
    {
     "data": {
      "text/plain": [
       "<py3Dmol.view at 0x7fcea94f7f10>"
      ]
     },
     "metadata": {},
     "output_type": "display_data"
    }
   ],
   "source": [
    "pdb_df = df[['accession', 'xref_pdb']].dropna()\n",
    "pdb_dict = defaultdict(list)\n",
    "for pdb_entries in pdb_df.itertuples():\n",
    "    pdb_dict[pdb_entries.accession] = [x for x in pdb_entries.xref_pdb.strip().split(\";\") if len(x) > 0]\n",
    "\n",
    "total_structures = sum([len(x) for x in pdb_dict.values()])\n",
    "\n",
    "print (f\"There are {total_structures} total structures across {len(pdb_dict.keys())} unique sequences\")\n",
    "\n",
    "print (\"Looking at the first few...\")\n",
    "\n",
    "sample_pdb_dict = {k: pdb_dict[k] for k in list(pdb_dict)[:3]}\n",
    "\n",
    "for prot_id, pdb_ids in sample_pdb_dict.items():\n",
    "    for pdb_id in pdb_ids:\n",
    "        \n",
    "        print(display(Markdown(f'# {pdb_id} PDB entry information')))\n",
    "\n",
    "        print(make_summary(get_entry_from_api(pdb_id, summary_url)))\n",
    "        \n",
    "        display(Markdown(f'# {pdb_id} Ligand informtion'))    \n",
    "        print(get_ligand_information(get_entry_from_api(pdb_id, ligand_url)))\n",
    "        \n",
    "    \n",
    "        display(Markdown(f'# {pdb_id} Secondary structure ranges'))\n",
    "        get_secondary_structure_ranges(pdb_id)\n",
    "        \n",
    "        display(Markdown(f'# {pdb_id}'))\n",
    "        \n",
    "        view = py3Dmol.view(query=f'pdb:{pdb_id}')\n",
    "        view.setStyle({'cartoon':{'color':'spectrum'}})\n",
    "        display(view)\n"
   ]
  },
  {
   "cell_type": "markdown",
   "id": "6f0eb305",
   "metadata": {},
   "source": [
    "<!-- # Alignment information -->"
   ]
  },
  {
   "cell_type": "code",
   "execution_count": 13,
   "id": "54eec7e4",
   "metadata": {
    "execution": {
     "iopub.execute_input": "2022-10-05T04:07:03.833187Z",
     "iopub.status.busy": "2022-10-05T04:07:03.832633Z",
     "iopub.status.idle": "2022-10-05T04:07:03.838201Z",
     "shell.execute_reply": "2022-10-05T04:07:03.836392Z"
    },
    "tags": [
     "remove-input",
     "remove-output"
    ]
   },
   "outputs": [],
   "source": [
    "# Alignment information (not working at the moment)\n",
    "# print ('Make this work on server')\n",
    "# import sequence\n",
    "# subset_aln = sequence.readFastaFile(f\"{snakemake.input.aln}\")\n",
    "# display(Markdown(f'Alignment has a length of {len(subset_aln[0].sequence)} positions'))\n"
   ]
  }
 ],
 "metadata": {
  "celltoolbar": "Tags",
  "kernelspec": {
   "display_name": "Python 3 (ipykernel)",
   "language": "python",
   "name": "python3"
  },
  "language_info": {
   "codemirror_mode": {
    "name": "ipython",
    "version": 3
   },
   "file_extension": ".py",
   "mimetype": "text/x-python",
   "name": "python",
   "nbconvert_exporter": "python",
   "pygments_lexer": "ipython3",
   "version": "3.10.4"
  }
 },
 "nbformat": 4,
 "nbformat_minor": 5
}