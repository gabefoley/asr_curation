{
 "cells": [
  {
   "cell_type": "code",
   "execution_count": 1,
   "id": "7cf33c92",
   "metadata": {
    "execution": {
     "iopub.execute_input": "2022-09-26T06:44:49.464161Z",
     "iopub.status.busy": "2022-09-26T06:44:49.463236Z",
     "iopub.status.idle": "2022-09-26T06:44:49.558650Z",
     "shell.execute_reply": "2022-09-26T06:44:49.558126Z"
    },
    "tags": [
     "snakemake-job-properties",
     "remove-cell"
    ]
   },
   "outputs": [],
   "source": [
    "\n",
    "######## snakemake preamble start (automatically inserted, do not edit) ########\n",
    "import sys; sys.path.extend(['/Users/sanjanatule/opt/anaconda3/envs/asr_curation/lib/python3.10/site-packages', '/Users/sanjanatule/asr_curation/notebooks']); import pickle; snakemake = pickle.loads(b\"\\x80\\x04\\x95\\xcf\\x07\\x00\\x00\\x00\\x00\\x00\\x00\\x8c\\x10snakemake.script\\x94\\x8c\\tSnakemake\\x94\\x93\\x94)\\x81\\x94}\\x94(\\x8c\\x05input\\x94\\x8c\\x0csnakemake.io\\x94\\x8c\\nInputFiles\\x94\\x93\\x94)\\x81\\x94(\\x8cyworkflows/example_workflow/datasets/kari_example_ec_1_1_1_86/subsets/classI_kari/kari_example_ec_1_1_1_86_classI_kari.aln\\x94\\x8c\\x87workflows/example_workflow/datasets/kari_example_ec_1_1_1_86/subsets/classI_kari/csv/kari_example_ec_1_1_1_86_classI_kari_alignment.csv\\x94e}\\x94(\\x8c\\x06_names\\x94}\\x94(\\x8c\\x03aln\\x94K\\x00N\\x86\\x94\\x8c\\x03csv\\x94K\\x01N\\x86\\x94u\\x8c\\x12_allowed_overrides\\x94]\\x94(\\x8c\\x05index\\x94\\x8c\\x04sort\\x94eh\\x15\\x8c\\tfunctools\\x94\\x8c\\x07partial\\x94\\x93\\x94h\\x06\\x8c\\x19Namedlist._used_attribute\\x94\\x93\\x94\\x85\\x94R\\x94(h\\x1b)}\\x94\\x8c\\x05_name\\x94h\\x15sNt\\x94bh\\x16h\\x19h\\x1b\\x85\\x94R\\x94(h\\x1b)}\\x94h\\x1fh\\x16sNt\\x94bh\\x0fh\\nh\\x11h\\x0bub\\x8c\\x06output\\x94h\\x06\\x8c\\x0bOutputFiles\\x94\\x93\\x94)\\x81\\x94\\x8c\\x9fworkflows/example_workflow/datasets/kari_example_ec_1_1_1_86/dataset_summary/kari_example_ec_1_1_1_86/subsets/classI_kari/temp/classI_kari_subset_summary.ipynb\\x94a}\\x94(h\\r}\\x94\\x8c\\x07summary\\x94K\\x00N\\x86\\x94sh\\x13]\\x94(h\\x15h\\x16eh\\x15h\\x19h\\x1b\\x85\\x94R\\x94(h\\x1b)}\\x94h\\x1fh\\x15sNt\\x94bh\\x16h\\x19h\\x1b\\x85\\x94R\\x94(h\\x1b)}\\x94h\\x1fh\\x16sNt\\x94bh,h)ub\\x8c\\x06params\\x94h\\x06\\x8c\\x06Params\\x94\\x93\\x94)\\x81\\x94]\\x94(\\x8c\\x0bxref_supfam\\x94\\x8c\\x0cxref_panther\\x94\\x8c\\nKARI_Class\\x94\\x8c\\x02ec\\x94ea}\\x94(h\\r}\\x94\\x8c\\x0fannotation_cols\\x94K\\x00N\\x86\\x94sh\\x13]\\x94(h\\x15h\\x16eh\\x15h\\x19h\\x1b\\x85\\x94R\\x94(h\\x1b)}\\x94h\\x1fh\\x15sNt\\x94bh\\x16h\\x19h\\x1b\\x85\\x94R\\x94(h\\x1b)}\\x94h\\x1fh\\x16sNt\\x94bhBh;ub\\x8c\\twildcards\\x94h\\x06\\x8c\\tWildcards\\x94\\x93\\x94)\\x81\\x94(\\x8c\\x18kari_example_ec_1_1_1_86\\x94\\x8c\\x0bclassI_kari\\x94e}\\x94(h\\r}\\x94(\\x8c\\x07dataset\\x94K\\x00N\\x86\\x94\\x8c\\x06subset\\x94K\\x01N\\x86\\x94uh\\x13]\\x94(h\\x15h\\x16eh\\x15h\\x19h\\x1b\\x85\\x94R\\x94(h\\x1b)}\\x94h\\x1fh\\x15sNt\\x94bh\\x16h\\x19h\\x1b\\x85\\x94R\\x94(h\\x1b)}\\x94h\\x1fh\\x16sNt\\x94b\\x8c\\x07dataset\\x94hQ\\x8c\\x06subset\\x94hRub\\x8c\\x07threads\\x94K\\x01\\x8c\\tresources\\x94h\\x06\\x8c\\tResources\\x94\\x93\\x94)\\x81\\x94(K\\x01K\\x01\\x8c0/var/folders/6g/6gy05kt92q5478c3_f84df280000gn/T\\x94e}\\x94(h\\r}\\x94(\\x8c\\x06_cores\\x94K\\x00N\\x86\\x94\\x8c\\x06_nodes\\x94K\\x01N\\x86\\x94\\x8c\\x06tmpdir\\x94K\\x02N\\x86\\x94uh\\x13]\\x94(h\\x15h\\x16eh\\x15h\\x19h\\x1b\\x85\\x94R\\x94(h\\x1b)}\\x94h\\x1fh\\x15sNt\\x94bh\\x16h\\x19h\\x1b\\x85\\x94R\\x94(h\\x1b)}\\x94h\\x1fh\\x16sNt\\x94bhlK\\x01hnK\\x01hphiub\\x8c\\x03log\\x94h\\x06\\x8c\\x03Log\\x94\\x93\\x94)\\x81\\x94\\x8c\\x9fworkflows/example_workflow/datasets/kari_example_ec_1_1_1_86/dataset_summary/kari_example_ec_1_1_1_86/subsets/classI_kari/temp/classI_kari_subset_summary.ipynb\\x94a}\\x94(h\\r}\\x94\\x8c\\x08notebook\\x94K\\x00N\\x86\\x94sh\\x13]\\x94(h\\x15h\\x16eh\\x15h\\x19h\\x1b\\x85\\x94R\\x94(h\\x1b)}\\x94h\\x1fh\\x15sNt\\x94bh\\x16h\\x19h\\x1b\\x85\\x94R\\x94(h\\x1b)}\\x94h\\x1fh\\x16sNt\\x94bh\\x82h\\x7fub\\x8c\\x06config\\x94}\\x94(\\x8c\\x07workdir\\x94\\x8c\\x1aworkflows/example_workflow\\x94\\x8c\\x08fastadir\\x94\\x8c workflows/example_workflow/fasta\\x94\\x8c\\x06subdir\\x94\\x8c'workflows/example_workflow/subset_rules\\x94\\x8c\\x0fannotation_cols\\x94]\\x94(h<h=h>h?e\\x8c\\x10blocked_datasets\\x94]\\x94u\\x8c\\x04rule\\x94\\x8c\\x15create_subset_summary\\x94\\x8c\\x0fbench_iteration\\x94N\\x8c\\tscriptdir\\x94\\x8c)/Users/sanjanatule/asr_curation/notebooks\\x94ub.\"); from snakemake.logging import logger; logger.printshellcmds = False; import os; os.chdir(r'/Users/sanjanatule/asr_curation');\n",
    "######## snakemake preamble end #########\n"
   ]
  },
  {
   "cell_type": "code",
   "execution_count": 2,
   "id": "ea6f8e75",
   "metadata": {
    "execution": {
     "iopub.execute_input": "2022-09-26T06:44:49.561085Z",
     "iopub.status.busy": "2022-09-26T06:44:49.560901Z",
     "iopub.status.idle": "2022-09-26T06:44:50.188121Z",
     "shell.execute_reply": "2022-09-26T06:44:50.187721Z"
    },
    "tags": [
     "remove-cell"
    ]
   },
   "outputs": [],
   "source": [
    "import matplotlib.pyplot as plt\n",
    "from collections import defaultdict\n",
    "import py3Dmol\n",
    "import pandas as pd\n",
    "import re\n",
    "import requests\n",
    "from IPython.display import display, Markdown"
   ]
  },
  {
   "cell_type": "code",
   "execution_count": 3,
   "id": "407ae9ed",
   "metadata": {
    "execution": {
     "iopub.execute_input": "2022-09-26T06:44:50.190915Z",
     "iopub.status.busy": "2022-09-26T06:44:50.190540Z",
     "iopub.status.idle": "2022-09-26T06:44:50.203059Z",
     "shell.execute_reply": "2022-09-26T06:44:50.202692Z"
    },
    "tags": [
     "remove-cell"
    ]
   },
   "outputs": [],
   "source": [
    "base_url = \"https://www.ebi.ac.uk/pdbe/\"\n",
    "\n",
    "api_base = base_url + \"api/\"\n",
    "\n",
    "summary_url = api_base + 'pdb/entry/summary/'\n",
    "secondary_structure_url = api_base + 'pdb/entry/secondary_structure/'\n",
    "ligand_url = api_base + '/pdb/entry/ligand_monomers/'\n",
    "\n",
    "\n",
    "def make_summary(data):\n",
    "    \"\"\"\n",
    "    This function creates a summary for a PDB entry\n",
    "    by getting data for an entry, and extracting\n",
    "    pieces of information\n",
    "    \n",
    "    :param data: Dict\n",
    "    :return: String\n",
    "    \"\"\"\n",
    "    \n",
    "    pdb_id = \"\"\n",
    "    # Certain calls could return multiple PDB entries,\n",
    "    # but the GET summary call we use in this exercise\n",
    "    # will always return only one PDB entry\n",
    "    for key in data.keys():\n",
    "        pdb_id = key\n",
    "\n",
    "    # The data is a list of dictionaries, and for the summary information,\n",
    "    # it is always the first element of the list\n",
    "    entry = data[pdb_id][0]\n",
    "    \n",
    "    # Getting the title of the entry\n",
    "    title = entry['title']\n",
    "    \n",
    "    # Getting the release date of the entry\n",
    "    release_date = entry['release_date']\n",
    "    # Formatting the entry to make it more user-friendly\n",
    "    formatted_release_date = \"%s/%s/%s\" % (\n",
    "        release_date[:4], \n",
    "        release_date[4:6], \n",
    "        release_date[6:])\n",
    "    \n",
    "    # Getting the experimental methods\n",
    "    # Note that there can be multiple methods, so this is a list that\n",
    "    # needs to be iterated\n",
    "    experimental_methods = \"\"\n",
    "    for experimental_method in entry[\"experimental_method\"]:\n",
    "        if experimental_methods:\n",
    "            experimental_methods += \" and \"\n",
    "        experimental_methods += experimental_method\n",
    "        \n",
    "        \n",
    "        \n",
    "    # Getting the assemblies\n",
    "    assemblies = ''\n",
    "    for assembly in entry['assemblies']:\n",
    "        if assembly:\n",
    "            # Blank out the form if it is a monomer (because it must be homo form)\n",
    "            if assembly['name'] == 'monomer':\n",
    "                form = \"\"\n",
    "            else:\n",
    "                form = assembly['form']\n",
    "                \n",
    "            if assembly['preferred']:\n",
    "                \n",
    "                assemblies += f\"Preferred form with assembly ID {assembly['assembly_id']} is a {form}{assembly['name']}\\n\"\n",
    "            else:\n",
    "                assemblies += f\"Non-preferred form with assembly ID {assembly['assembly_id']} is a {assembly['form']}{assembly['name']}\\n\"\n",
    "\n",
    "    # Getting the author list\n",
    "    authors = \"\".join(entry['entry_authors'])\n",
    "    \n",
    "#         'assemblies': [{'assembly_id': '1', 'form': 'homo', 'preferred': True, 'name': 'monomer'}, {'assembly_id': '2', 'form': 'homo', 'preferred': False, 'name': 'dimer'}]}]}\n",
    "    \n",
    "    \n",
    "        \n",
    "     \n",
    "    # Creating the summary text using all the extracted \n",
    "    # information\n",
    "    summary = f'Entry is titled \"{title}\" and was released on {formatted_release_date} \\n\\nThis entry was determined using {experimental_methods} \\nThe authors are {authors} \\n\\nAssembly information -\\n{assemblies}'\n",
    "\n",
    "    return summary\n",
    "\n",
    "def make_request(url, mode, pdb_id):\n",
    "    \"\"\"\n",
    "    This function can make GET and POST requests to\n",
    "    the PDBe API\n",
    "    \n",
    "    :param url: String,\n",
    "    :param mode: String,\n",
    "    :param pdb_id: String\n",
    "    :return: JSON or None\n",
    "    \"\"\"\n",
    "    if mode == \"get\":\n",
    "        response = requests.get(url=url+pdb_id)\n",
    "    elif mode == \"post\":\n",
    "        response = requests.post(url, data=pdb_id)\n",
    "\n",
    "    if response.status_code == 200:\n",
    "        return response.json()\n",
    "    else:\n",
    "        print(\"[No data retrieved - %s] %s\" % (response.status_code, response.text))\n",
    "    \n",
    "    return None\n",
    "\n",
    "def get_secondary_structure_ranges(pdb_id=None, pdb_list=None):\n",
    "    \"\"\"\n",
    "    This function calls the PDBe API and retrieves the residue\n",
    "    ranges of secondary structural elements in a single PDB entry\n",
    "    or in a list of PDB entries\n",
    "    \n",
    "    :param pdb_id: String,\n",
    "    :param pdb_list: String\n",
    "    :return: None\n",
    "    \"\"\"\n",
    "    # If neither a single PDB id, nor a list was provided,\n",
    "    # exit the function\n",
    "    if not pdb_id and not pdb_list:\n",
    "        print(\"Either provide one PDB id, or a list of ids\")\n",
    "        return None\n",
    "    \n",
    "    if pdb_id:\n",
    "        # If a single PDB id was provided, call the API with GET\n",
    "        data = make_request(secondary_structure_url, \"get\", pdb_id)\n",
    "    else:\n",
    "        # If multiple PDB ids were provided, call the API with POST\n",
    "        # The POST API call expects PDB ids as a comma-separated lise\n",
    "        pdb_list_string = \", \".join(pdb_list)\n",
    "        data = make_request(secondary_structure_url, \"post\", pdb_list_string)\n",
    "        \n",
    "    # When no data is returned by the API, exit the function\n",
    "    if not data:\n",
    "        print(\"No data available\")\n",
    "        return None\n",
    "    \n",
    "    # Loop through all the PDB entries in the retrieved data\n",
    "    for entry_id in data.keys():\n",
    "        entry = data[entry_id]\n",
    "        molecules = entry[\"molecules\"]\n",
    "        \n",
    "        # Loop through all the molecules of a given PDB entry\n",
    "        for i in range(len(molecules)):\n",
    "            chains = molecules[i][\"chains\"]\n",
    "            \n",
    "            # Loop through all the chains of a given molecules\n",
    "            for j in range(len(chains)):\n",
    "                secondary_structure = chains[j][\"secondary_structure\"]\n",
    "                helices = secondary_structure[\"helices\"]\n",
    "                strands = secondary_structure[\"strands\"]\n",
    "                helix_list = []\n",
    "                strand_list = []\n",
    "                \n",
    "                # Loop through all the helices of a given chain\n",
    "                for k in range(len(helices)):\n",
    "                    start = helices[k][\"start\"][\"residue_number\"]\n",
    "                    end = helices[k][\"end\"][\"residue_number\"]\n",
    "                    helix_list.append(\"%s-%s\" % (start, end))\n",
    "                \n",
    "                # Loop through all the strands of a given chain\n",
    "                for l in range(len(strands)):\n",
    "                    start = strands[l][\"start\"][\"residue_number\"]\n",
    "                    end = strands[l][\"end\"][\"residue_number\"]\n",
    "                    strand_list.append(\"%s-%s\" % (start, end))\n",
    "                    \n",
    "                report = \"%s chain %s has \" % (entry_id, chains[j][\"chain_id\"])\n",
    "                if len(helix_list) > 0:\n",
    "                    report += \"helices at residue ranges %s \" % str(helix_list)\n",
    "                else:\n",
    "                    report += \"no helices \"\n",
    "                report += \"and \"\n",
    "                if len(strand_list) > 0:\n",
    "                    report += \"strands at %s\" % str(strand_list)\n",
    "                else:\n",
    "                    \"no strands\"\n",
    "                print(report)\n",
    "                \n",
    "    return None\n",
    "\n",
    "def get_ligand_information(data):\n",
    "    pdb_id = \"\"\n",
    "    \n",
    "    summary = \"\"\n",
    "\n",
    "    for key in data.keys():\n",
    "        pdb_id = key\n",
    "        \n",
    "    for ligand in data[pdb_id]:\n",
    "        summary += f\"Ligand : {ligand['chem_comp_name']} at position {ligand['author_residue_number']}\\n\"\n",
    "        \n",
    "    return summary\n",
    "    \n",
    "\n",
    "def get_entry_from_api(pdb_id, api_url):\n",
    "    \"\"\"\n",
    "    This function will make a call to the PDBe API using\n",
    "    the PDB id and API url provided as arguments\n",
    "    \n",
    "    :param pdb_id: String,\n",
    "    :param api_url: String\n",
    "    :return: Dict or None\n",
    "    \"\"\"\n",
    "    if not re.match(\"[0-9][A-Za-z][A-Za-z0-9]{2}\", pdb_id):\n",
    "        print(\"Invalid PDB id\")\n",
    "        return None\n",
    "    \n",
    "    # Make a GET call to the API URL\n",
    "    get_request = requests.get(url=api_url+pdb_id)\n",
    "    \n",
    "    if get_request.status_code == 200:\n",
    "        # If there is data returned (with HTML status code 200)\n",
    "        # then return the data in JSON format\n",
    "        return get_request.json()\n",
    "    else:\n",
    "        # If there is no data, print status code and response\n",
    "        print(get_request.status_code, get_request.text)\n",
    "        return None\n",
    "\n",
    "\n",
    "# As you can hopefully see, the data displayed is very similar to\n",
    "# what we had in the mock data in previous sections - however,\n",
    "# this is actual data coming from the PDBe API\n",
    "    "
   ]
  },
  {
   "cell_type": "code",
   "execution_count": 4,
   "id": "2ff59cb3",
   "metadata": {
    "execution": {
     "iopub.execute_input": "2022-09-26T06:44:50.205065Z",
     "iopub.status.busy": "2022-09-26T06:44:50.204914Z",
     "iopub.status.idle": "2022-09-26T06:44:50.210792Z",
     "shell.execute_reply": "2022-09-26T06:44:50.210475Z"
    },
    "tags": [
     "remove-input"
    ]
   },
   "outputs": [
    {
     "data": {
      "text/markdown": [
       "# Subset - classI_kari"
      ],
      "text/plain": [
       "<IPython.core.display.Markdown object>"
      ]
     },
     "metadata": {},
     "output_type": "display_data"
    },
    {
     "name": "stdout",
     "output_type": "stream",
     "text": [
      "None\n"
     ]
    }
   ],
   "source": [
    "print(display(Markdown(f'# Subset - {snakemake.wildcards.subset}')))"
   ]
  },
  {
   "cell_type": "code",
   "execution_count": 5,
   "id": "2409306d",
   "metadata": {
    "execution": {
     "iopub.execute_input": "2022-09-26T06:44:50.213013Z",
     "iopub.status.busy": "2022-09-26T06:44:50.212878Z",
     "iopub.status.idle": "2022-09-26T06:44:50.214970Z",
     "shell.execute_reply": "2022-09-26T06:44:50.214634Z"
    },
    "tags": [
     "remove-input"
    ]
   },
   "outputs": [
    {
     "name": "stdout",
     "output_type": "stream",
     "text": [
      "Subset sheet - classI_kari\n"
     ]
    }
   ],
   "source": [
    "print (f'Subset sheet - {snakemake.wildcards.subset}')"
   ]
  },
  {
   "cell_type": "code",
   "execution_count": 6,
   "id": "1e16f03f",
   "metadata": {
    "execution": {
     "iopub.execute_input": "2022-09-26T06:44:50.216747Z",
     "iopub.status.busy": "2022-09-26T06:44:50.216613Z",
     "iopub.status.idle": "2022-09-26T06:44:50.241308Z",
     "shell.execute_reply": "2022-09-26T06:44:50.240917Z"
    },
    "tags": [
     "remove-cell"
    ]
   },
   "outputs": [],
   "source": [
    "df = pd.read_csv(snakemake.input.csv)\n",
    "non_fragment_df = df[df['fragment'] == False]\n",
    "entry_df = df.dropna(axis=1, how='all')"
   ]
  },
  {
   "cell_type": "markdown",
   "id": "a4546e5a",
   "metadata": {},
   "source": [
    "# EC numbers"
   ]
  },
  {
   "cell_type": "code",
   "execution_count": 7,
   "id": "35f41f38",
   "metadata": {
    "execution": {
     "iopub.execute_input": "2022-09-26T06:44:50.243528Z",
     "iopub.status.busy": "2022-09-26T06:44:50.243374Z",
     "iopub.status.idle": "2022-09-26T06:44:50.246153Z",
     "shell.execute_reply": "2022-09-26T06:44:50.245823Z"
    },
    "tags": [
     "remove-input"
    ]
   },
   "outputs": [
    {
     "name": "stdout",
     "output_type": "stream",
     "text": [
      "The EC numbers found in the current data set are {'1.1.1.86'}\n"
     ]
    }
   ],
   "source": [
    "ec_nums = list(pd.unique(df['ec']))\n",
    "\n",
    "ec_set = set()\n",
    "\n",
    "for num in ec_nums:\n",
    "    for split in str(num).split(\";\"):\n",
    "        ec_set.add(split.strip())\n",
    "    \n",
    "print (f'The EC numbers found in the current data set are {ec_set}')"
   ]
  },
  {
   "cell_type": "markdown",
   "id": "650cf149",
   "metadata": {},
   "source": [
    "# Taxonomic distribution"
   ]
  },
  {
   "cell_type": "code",
   "execution_count": 8,
   "id": "aec321f9",
   "metadata": {
    "execution": {
     "iopub.execute_input": "2022-09-26T06:44:50.248229Z",
     "iopub.status.busy": "2022-09-26T06:44:50.248085Z",
     "iopub.status.idle": "2022-09-26T06:44:50.404286Z",
     "shell.execute_reply": "2022-09-26T06:44:50.403880Z"
    },
    "tags": [
     "remove-input"
    ]
   },
   "outputs": [
    {
     "data": {
      "image/png": "[encoded data removed]",
      "text/plain": [
       "<Figure size 360x720 with 1 Axes>"
      ]
     },
     "metadata": {
      "filenames": {
       "image/png": "/Users/sanjanatule/asr_curation/workflows/example_workflow/datasets/kari_example_ec_1_1_1_86/dataset_summary/eukaryotic_kari/_build/jupyter_execute/classI_kari_subset_summary_cleaned_9_0.png"
      },
      "needs_background": "light"
     },
     "output_type": "display_data"
    },
    {
     "data": {
      "image/png": "[encoded data removed]",
      "text/plain": [
       "<Figure size 252x720 with 1 Axes>"
      ]
     },
     "metadata": {
      "filenames": {
       "image/png": "/Users/sanjanatule/asr_curation/workflows/example_workflow/datasets/kari_example_ec_1_1_1_86/dataset_summary/eukaryotic_kari/_build/jupyter_execute/classI_kari_subset_summary_cleaned_9_1.png"
      },
      "needs_background": "light"
     },
     "output_type": "display_data"
    }
   ],
   "source": [
    "taxonomy_cols = ['lineage_superkingdom', 'lineage_phylum']\n",
    "\n",
    "for col in taxonomy_cols:\n",
    "    fig, ax = plt.subplots(figsize=(len(col) / 4 ,10))\n",
    "    chart = df[col].value_counts().plot.barh(title=col, ax=ax)\n",
    "    plt.show()"
   ]
  },
  {
   "cell_type": "markdown",
   "id": "3635cede",
   "metadata": {},
   "source": [
    "# Annotation distributions"
   ]
  },
  {
   "cell_type": "code",
   "execution_count": 9,
   "id": "74348439",
   "metadata": {
    "execution": {
     "iopub.execute_input": "2022-09-26T06:44:50.406537Z",
     "iopub.status.busy": "2022-09-26T06:44:50.406376Z",
     "iopub.status.idle": "2022-09-26T06:44:50.584939Z",
     "shell.execute_reply": "2022-09-26T06:44:50.584597Z"
    },
    "tags": [
     "remove-input"
    ]
   },
   "outputs": [
    {
     "data": {
      "image/png": "[encoded data removed]",
      "text/plain": [
       "<Figure size 264x720 with 1 Axes>"
      ]
     },
     "metadata": {
      "filenames": {
       "image/png": "/Users/sanjanatule/asr_curation/workflows/example_workflow/datasets/kari_example_ec_1_1_1_86/dataset_summary/eukaryotic_kari/_build/jupyter_execute/classI_kari_subset_summary_cleaned_11_0.png"
      },
      "needs_background": "light"
     },
     "output_type": "display_data"
    },
    {
     "data": {
      "image/png": "[encoded data removed]",
      "text/plain": [
       "<Figure size 288x720 with 1 Axes>"
      ]
     },
     "metadata": {
      "filenames": {
       "image/png": "/Users/sanjanatule/asr_curation/workflows/example_workflow/datasets/kari_example_ec_1_1_1_86/dataset_summary/eukaryotic_kari/_build/jupyter_execute/classI_kari_subset_summary_cleaned_11_1.png"
      },
      "needs_background": "light"
     },
     "output_type": "display_data"
    },
    {
     "data": {
      "image/png": "[encoded data removed]",
      "text/plain": [
       "<Figure size 240x720 with 1 Axes>"
      ]
     },
     "metadata": {
      "filenames": {
       "image/png": "/Users/sanjanatule/asr_curation/workflows/example_workflow/datasets/kari_example_ec_1_1_1_86/dataset_summary/eukaryotic_kari/_build/jupyter_execute/classI_kari_subset_summary_cleaned_11_2.png"
      },
      "needs_background": "light"
     },
     "output_type": "display_data"
    },
    {
     "data": {
      "image/png": "[encoded data removed]",
      "text/plain": [
       "<Figure size 48x720 with 1 Axes>"
      ]
     },
     "metadata": {
      "filenames": {
       "image/png": "/Users/sanjanatule/asr_curation/workflows/example_workflow/datasets/kari_example_ec_1_1_1_86/dataset_summary/eukaryotic_kari/_build/jupyter_execute/classI_kari_subset_summary_cleaned_11_3.png"
      },
      "needs_background": "light"
     },
     "output_type": "display_data"
    }
   ],
   "source": [
    "key_annotation_cols = snakemake.params.annotation_cols\n",
    "\n",
    "for col in key_annotation_cols:\n",
    "    if col in entry_df:\n",
    "        fig, ax = plt.subplots(figsize=(len(col) / 3 ,10))\n",
    "        chart = entry_df[col].value_counts().plot.barh(title=col, ax=ax)\n",
    "        plt.show()"
   ]
  },
  {
   "cell_type": "code",
   "execution_count": 10,
   "id": "cf461ab0",
   "metadata": {
    "execution": {
     "iopub.execute_input": "2022-09-26T06:44:50.586925Z",
     "iopub.status.busy": "2022-09-26T06:44:50.586774Z",
     "iopub.status.idle": "2022-09-26T06:44:50.592060Z",
     "shell.execute_reply": "2022-09-26T06:44:50.591732Z"
    },
    "tags": [
     "remove-input"
    ]
   },
   "outputs": [
    {
     "name": "stdout",
     "output_type": "stream",
     "text": [
      "Sequence statistics for all sequences\n",
      "Number of sequences : 18.0\n",
      "Smallest sequnce length : 330.0\n",
      "Longest sequnce length : 404.0\n",
      "Average sequnce length : 349.05555555555554\n",
      "\n"
     ]
    }
   ],
   "source": [
    "seq_len = df['length'].describe()\n",
    "non_fragment_seq_len = non_fragment_df['length'].describe()\n",
    "\n",
    "\n",
    "\n",
    "def print_sequence_summarys(seq_summary):\n",
    "    print (f\"Number of sequences : {seq_summary['count']}\")\n",
    "    print (f\"Smallest sequnce length : {seq_summary['min']}\")\n",
    "    print (f\"Longest sequnce length : {seq_summary['max']}\")\n",
    "    print (f\"Average sequnce length : {seq_summary['mean']}\")\n",
    "\n",
    "print (\"Sequence statistics for all sequences\")\n",
    "print_sequence_summarys(seq_len)\n",
    "\n",
    "print ()\n",
    "\n",
    "if non_fragment_seq_len.all():\n",
    "\n",
    "    print (\"Sequence statistics for sequences (non-fragments)\")\n",
    "    print_sequence_summarys(non_fragment_seq_len)\n"
   ]
  },
  {
   "cell_type": "markdown",
   "id": "f422b43f",
   "metadata": {},
   "source": [
    "# Experimental data (BRENDA)"
   ]
  },
  {
   "cell_type": "code",
   "execution_count": 11,
   "id": "6db7df0d",
   "metadata": {
    "execution": {
     "iopub.execute_input": "2022-09-26T06:44:50.594074Z",
     "iopub.status.busy": "2022-09-26T06:44:50.593920Z",
     "iopub.status.idle": "2022-09-26T06:44:51.122435Z",
     "shell.execute_reply": "2022-09-26T06:44:51.122064Z"
    },
    "tags": [
     "remove-input"
    ]
   },
   "outputs": [
    {
     "name": "stdout",
     "output_type": "stream",
     "text": [
      "53\n"
     ]
    },
    {
     "data": {
      "image/png": "[encoded data removed]",
      "text/plain": [
       "<Figure size 954x720 with 1 Axes>"
      ]
     },
     "metadata": {
      "filenames": {
       "image/png": "/Users/sanjanatule/asr_curation/workflows/example_workflow/datasets/kari_example_ec_1_1_1_86/dataset_summary/eukaryotic_kari/_build/jupyter_execute/classI_kari_subset_summary_cleaned_14_1.png"
      },
      "needs_background": "light"
     },
     "output_type": "display_data"
    }
   ],
   "source": [
    "skip_brenda_cols = [\n",
    "'BRENDA_CL', 'BRENDA_GI', \n",
    "'BRENDA_SN', 'BRENDA_SY', \n",
    "'BRENDA_MW', 'BRENDA_SP',\n",
    "'BRENDA_NSP', 'BRENDA_PM',\n",
    "'BRENDA_LO', 'BRENDA_SU', \n",
    "'BRENDA_PU', 'BRENDA_ST',\n",
    "'BRENDA_CR', 'BRENDA_CF',\n",
    "'BRENDA_RN', 'BRENDA_RT',\n",
    "'BRENDA_ME', 'BRENDA_REFERENCES']\n",
    "\n",
    "\n",
    "# Only get the columns that start with BRENDA and that we don't want to skip\n",
    "brenda_cols =[x for x in df if x.startswith(\"BRENDA\") and 'COMMENT' not in x and 'REFS' not in x and 'UNITS' not in x and not any(skip in x for skip in skip_brenda_cols)]\n",
    "\n",
    "# Drop rows if they don't have at least one entry in one of the BRENDA columns\n",
    "b_df = df[brenda_cols].dropna(thresh=1)\n",
    "print (len(brenda_cols))\n",
    "fig, ax = plt.subplots(figsize=(len(brenda_cols) / 4 ,10))\n",
    "\n",
    "\n",
    "# Create and save a plot of the BRENDA column counts\n",
    "if not b_df.empty:\n",
    "    b_df.count().plot.barh(ax=ax)\n",
    "    display()"
   ]
  },
  {
   "cell_type": "markdown",
   "id": "538ce7f4",
   "metadata": {},
   "source": [
    "# Structural information"
   ]
  },
  {
   "cell_type": "code",
   "execution_count": 12,
   "id": "009a957e",
   "metadata": {
    "execution": {
     "iopub.execute_input": "2022-09-26T06:44:51.124781Z",
     "iopub.status.busy": "2022-09-26T06:44:51.124654Z",
     "iopub.status.idle": "2022-09-26T06:45:06.599158Z",
     "shell.execute_reply": "2022-09-26T06:45:06.598287Z"
    },
    "tags": [
     "remove-input"
    ]
   },
   "outputs": [
    {
     "name": "stdout",
     "output_type": "stream",
     "text": [
      "There are 7 total structures across 6 unique sequences\n",
      "Looking at the first few...\n"
     ]
    },
    {
     "data": {
      "text/markdown": [
       "# 4YPO PDB entry information"
      ],
      "text/plain": [
       "<IPython.core.display.Markdown object>"
      ]
     },
     "metadata": {},
     "output_type": "display_data"
    },
    {
     "name": "stdout",
     "output_type": "stream",
     "text": [
      "None\n"
     ]
    },
    {
     "name": "stdout",
     "output_type": "stream",
     "text": [
      "Entry is titled \"Crystal structure of Mycobacterium tuberculosis ketol-acid reductoisomerase in complex with Mg2+\" and was released on 2016/02/17 \n",
      "\n",
      "This entry was determined using X-ray diffraction \n",
      "The authors are Lv, Y.Guddat, L.W. \n",
      "\n",
      "Assembly information -\n",
      "Preferred form with assembly ID 1 is a homodimer\n",
      "\n"
     ]
    },
    {
     "data": {
      "text/markdown": [
       "# 4YPO Ligand informtion"
      ],
      "text/plain": [
       "<IPython.core.display.Markdown object>"
      ]
     },
     "metadata": {},
     "output_type": "display_data"
    },
    {
     "name": "stdout",
     "output_type": "stream",
     "text": [
      "Ligand : MAGNESIUM ION at position 401\n",
      "Ligand : MAGNESIUM ION at position 402\n",
      "Ligand : MAGNESIUM ION at position 403\n",
      "Ligand : MAGNESIUM ION at position 404\n",
      "Ligand : MAGNESIUM ION at position 406\n",
      "Ligand : MAGNESIUM ION at position 407\n",
      "Ligand : MAGNESIUM ION at position 408\n",
      "Ligand : MAGNESIUM ION at position 410\n",
      "Ligand : MAGNESIUM ION at position 401\n",
      "Ligand : MAGNESIUM ION at position 402\n",
      "Ligand : MAGNESIUM ION at position 403\n",
      "Ligand : MAGNESIUM ION at position 404\n",
      "Ligand : MAGNESIUM ION at position 405\n",
      "Ligand : CHLORIDE ION at position 405\n",
      "Ligand : CHLORIDE ION at position 409\n",
      "Ligand : SODIUM ION at position 406\n",
      "\n"
     ]
    },
    {
     "data": {
      "text/markdown": [
       "# 4YPO Secondary structure ranges"
      ],
      "text/plain": [
       "<IPython.core.display.Markdown object>"
      ]
     },
     "metadata": {},
     "output_type": "display_data"
    },
    {
     "name": "stdout",
     "output_type": "stream",
     "text": [
      "4ypo chain A has helices at residue ranges ['3-7', '9-14', '23-36', '50-57', '63-71', '79-81', '82-90', '91-95', '106-111', '130-140', '157-169', '170-175', '180-195', '198-214', '217-226', '228-248', '249-264', '265-281', '282-294', '296-308', '309-320'] and strands at ['16-20', '39-43', '60-62', '73-76', '100-103', '121-127', '146-152', '176-178']\n",
      "4ypo chain B has helices at residue ranges ['3-7', '9-14', '22-24', '25-36', '50-57', '63-71', '79-81', '82-91', '92-95', '106-111', '130-140', '157-169', '170-175', '180-195', '198-214', '217-226', '228-248', '249-264', '265-281', '282-294', '296-308', '309-320'] and strands at ['16-20', '39-43', '60-62', '73-76', '100-103', '121-127', '146-152', '176-178']\n"
     ]
    },
    {
     "data": {
      "text/markdown": [
       "# 4YPO"
      ],
      "text/plain": [
       "<IPython.core.display.Markdown object>"
      ]
     },
     "metadata": {},
     "output_type": "display_data"
    },
    {
     "data": {
      "application/3dmoljs_load.v0": "<div id=\"3dmolviewer_1664175002029253\"  style=\"position: relative; width: 640px; height: 480px\">\n        <p id=\"3dmolwarning_1664175002029253\" style=\"background-color:#ffcccc;color:black\">You appear to be running in JupyterLab (or JavaScript failed to load for some other reason).  You need to install the 3dmol extension: <br>\n        <tt>jupyter labextension install jupyterlab_3dmol</tt></p>\n        </div>\n<script>\n\nvar loadScriptAsync = function(uri){\n  return new Promise((resolve, reject) => {\n    var tag = document.createElement('script');\n    tag.src = uri;\n    tag.async = true;\n    tag.onload = () => {\n      resolve();\n    };\n  var firstScriptTag = document.getElementsByTagName('script')[0];\n  firstScriptTag.parentNode.insertBefore(tag, firstScriptTag);\n});\n};\n\nif(typeof $3Dmolpromise === 'undefined') {\n$3Dmolpromise = null;\n  $3Dmolpromise = loadScriptAsync('https://3dmol.org/build/3Dmol.js');\n}\n\nvar viewer_1664175002029253 = null;\nvar warn = document.getElementById(\"3dmolwarning_1664175002029253\");\nif(warn) {\n    warn.parentNode.removeChild(warn);\n}\n$3Dmolpromise.then(function() {\nviewer_1664175002029253 = $3Dmol.createViewer($(\"#3dmolviewer_1664175002029253\"),{backgroundColor:\"white\"});\n$3Dmol.download(\"pdb:4YPO\", viewer_1664175002029253, {}, function() {\nviewer_1664175002029253.zoomTo();\n\tviewer_1664175002029253.setStyle({\"cartoon\": {\"color\": \"spectrum\"}});\nviewer_1664175002029253.render();\n})\n});\n</script>",
      "text/html": [
       "<div id=\"3dmolviewer_1664175002029253\"  style=\"position: relative; width: 640px; height: 480px\">\n",
       "        <p id=\"3dmolwarning_1664175002029253\" style=\"background-color:#ffcccc;color:black\">You appear to be running in JupyterLab (or JavaScript failed to load for some other reason).  You need to install the 3dmol extension: <br>\n",
       "        <tt>jupyter labextension install jupyterlab_3dmol</tt></p>\n",
       "        </div>\n",
       "<script>\n",
       "\n",
       "var loadScriptAsync = function(uri){\n",
       "  return new Promise((resolve, reject) => {\n",
       "    var tag = document.createElement('script');\n",
       "    tag.src = uri;\n",
       "    tag.async = true;\n",
       "    tag.onload = () => {\n",
       "      resolve();\n",
       "    };\n",
       "  var firstScriptTag = document.getElementsByTagName('script')[0];\n",
       "  firstScriptTag.parentNode.insertBefore(tag, firstScriptTag);\n",
       "});\n",
       "};\n",
       "\n",
       "if(typeof $3Dmolpromise === 'undefined') {\n",
       "$3Dmolpromise = null;\n",
       "  $3Dmolpromise = loadScriptAsync('https://3dmol.org/build/3Dmol.js');\n",
       "}\n",
       "\n",
       "var viewer_1664175002029253 = null;\n",
       "var warn = document.getElementById(\"3dmolwarning_1664175002029253\");\n",
       "if(warn) {\n",
       "    warn.parentNode.removeChild(warn);\n",
       "}\n",
       "$3Dmolpromise.then(function() {\n",
       "viewer_1664175002029253 = $3Dmol.createViewer($(\"#3dmolviewer_1664175002029253\"),{backgroundColor:\"white\"});\n",
       "$3Dmol.download(\"pdb:4YPO\", viewer_1664175002029253, {}, function() {\n",
       "viewer_1664175002029253.zoomTo();\n",
       "\tviewer_1664175002029253.setStyle({\"cartoon\": {\"color\": \"spectrum\"}});\n",
       "viewer_1664175002029253.render();\n",
       "})\n",
       "});\n",
       "</script>"
      ]
     },
     "metadata": {},
     "output_type": "display_data"
    },
    {
     "data": {
      "text/plain": [
       "<py3Dmol.view at 0x7fd2e819fb80>"
      ]
     },
     "metadata": {},
     "output_type": "display_data"
    },
    {
     "data": {
      "text/markdown": [
       "# 4TSK PDB entry information"
      ],
      "text/plain": [
       "<IPython.core.display.Markdown object>"
      ]
     },
     "metadata": {},
     "output_type": "display_data"
    },
    {
     "name": "stdout",
     "output_type": "stream",
     "text": [
      "None\n"
     ]
    },
    {
     "name": "stdout",
     "output_type": "stream",
     "text": [
      "Entry is titled \"Ketol-acid reductoisomerase from Alicyclobacillus acidocaldarius\" and was released on 2014/07/09 \n",
      "\n",
      "This entry was determined using X-ray diffraction \n",
      "The authors are Cahn, J.K.B.Brinkmann-Chen, S.Arnold, F.H. \n",
      "\n",
      "Assembly information -\n",
      "Preferred form with assembly ID 1 is a homotetramer\n",
      "\n"
     ]
    },
    {
     "data": {
      "text/markdown": [
       "# 4TSK Ligand informtion"
      ],
      "text/plain": [
       "<IPython.core.display.Markdown object>"
      ]
     },
     "metadata": {},
     "output_type": "display_data"
    },
    {
     "name": "stdout",
     "output_type": "stream",
     "text": [
      "Ligand : MAGNESIUM ION at position 401\n",
      "Ligand : MAGNESIUM ION at position 402\n",
      "Ligand : MAGNESIUM ION at position 403\n",
      "Ligand : L(+)-TARTARIC ACID at position 404\n",
      "Ligand : NADPH DIHYDRO-NICOTINAMIDE-ADENINE-DINUCLEOTIDE PHOSPHATE at position 405\n",
      "\n"
     ]
    },
    {
     "data": {
      "text/markdown": [
       "# 4TSK Secondary structure ranges"
      ],
      "text/plain": [
       "<IPython.core.display.Markdown object>"
      ]
     },
     "metadata": {},
     "output_type": "display_data"
    },
    {
     "name": "stdout",
     "output_type": "stream",
     "text": [
      "4tsk chain A has helices at residue ranges ['6-10', '12-17', '26-39', '50-59', '66-73', '81-83', '84-93', '94-97', '108-113', '132-142', '159-171', '172-176', '182-197', '199-216', '219-228', '228-250', '251-266', '267-283', '284-296', '298-310', '311-323'] and strands at ['4-5', '19-23', '42-47', '63-65', '75-78', '102-105', '123-129', '148-154', '178-180']\n"
     ]
    },
    {
     "data": {
      "text/markdown": [
       "# 4TSK"
      ],
      "text/plain": [
       "<IPython.core.display.Markdown object>"
      ]
     },
     "metadata": {},
     "output_type": "display_data"
    },
    {
     "data": {
      "application/3dmoljs_load.v0": "<div id=\"3dmolviewer_1664175005921707\"  style=\"position: relative; width: 640px; height: 480px\">\n        <p id=\"3dmolwarning_1664175005921707\" style=\"background-color:#ffcccc;color:black\">You appear to be running in JupyterLab (or JavaScript failed to load for some other reason).  You need to install the 3dmol extension: <br>\n        <tt>jupyter labextension install jupyterlab_3dmol</tt></p>\n        </div>\n<script>\n\nvar loadScriptAsync = function(uri){\n  return new Promise((resolve, reject) => {\n    var tag = document.createElement('script');\n    tag.src = uri;\n    tag.async = true;\n    tag.onload = () => {\n      resolve();\n    };\n  var firstScriptTag = document.getElementsByTagName('script')[0];\n  firstScriptTag.parentNode.insertBefore(tag, firstScriptTag);\n});\n};\n\nif(typeof $3Dmolpromise === 'undefined') {\n$3Dmolpromise = null;\n  $3Dmolpromise = loadScriptAsync('https://3dmol.org/build/3Dmol.js');\n}\n\nvar viewer_1664175005921707 = null;\nvar warn = document.getElementById(\"3dmolwarning_1664175005921707\");\nif(warn) {\n    warn.parentNode.removeChild(warn);\n}\n$3Dmolpromise.then(function() {\nviewer_1664175005921707 = $3Dmol.createViewer($(\"#3dmolviewer_1664175005921707\"),{backgroundColor:\"white\"});\n$3Dmol.download(\"pdb:4TSK\", viewer_1664175005921707, {}, function() {\nviewer_1664175005921707.zoomTo();\n\tviewer_1664175005921707.setStyle({\"cartoon\": {\"color\": \"spectrum\"}});\nviewer_1664175005921707.render();\n})\n});\n</script>",
      "text/html": [
       "<div id=\"3dmolviewer_1664175005921707\"  style=\"position: relative; width: 640px; height: 480px\">\n",
       "        <p id=\"3dmolwarning_1664175005921707\" style=\"background-color:#ffcccc;color:black\">You appear to be running in JupyterLab (or JavaScript failed to load for some other reason).  You need to install the 3dmol extension: <br>\n",
       "        <tt>jupyter labextension install jupyterlab_3dmol</tt></p>\n",
       "        </div>\n",
       "<script>\n",
       "\n",
       "var loadScriptAsync = function(uri){\n",
       "  return new Promise((resolve, reject) => {\n",
       "    var tag = document.createElement('script');\n",
       "    tag.src = uri;\n",
       "    tag.async = true;\n",
       "    tag.onload = () => {\n",
       "      resolve();\n",
       "    };\n",
       "  var firstScriptTag = document.getElementsByTagName('script')[0];\n",
       "  firstScriptTag.parentNode.insertBefore(tag, firstScriptTag);\n",
       "});\n",
       "};\n",
       "\n",
       "if(typeof $3Dmolpromise === 'undefined') {\n",
       "$3Dmolpromise = null;\n",
       "  $3Dmolpromise = loadScriptAsync('https://3dmol.org/build/3Dmol.js');\n",
       "}\n",
       "\n",
       "var viewer_1664175005921707 = null;\n",
       "var warn = document.getElementById(\"3dmolwarning_1664175005921707\");\n",
       "if(warn) {\n",
       "    warn.parentNode.removeChild(warn);\n",
       "}\n",
       "$3Dmolpromise.then(function() {\n",
       "viewer_1664175005921707 = $3Dmol.createViewer($(\"#3dmolviewer_1664175005921707\"),{backgroundColor:\"white\"});\n",
       "$3Dmol.download(\"pdb:4TSK\", viewer_1664175005921707, {}, function() {\n",
       "viewer_1664175005921707.zoomTo();\n",
       "\tviewer_1664175005921707.setStyle({\"cartoon\": {\"color\": \"spectrum\"}});\n",
       "viewer_1664175005921707.render();\n",
       "})\n",
       "});\n",
       "</script>"
      ]
     },
     "metadata": {},
     "output_type": "display_data"
    },
    {
     "data": {
      "text/plain": [
       "<py3Dmol.view at 0x7fd2fba7bdc0>"
      ]
     },
     "metadata": {},
     "output_type": "display_data"
    },
    {
     "data": {
      "text/markdown": [
       "# 4KQW PDB entry information"
      ],
      "text/plain": [
       "<IPython.core.display.Markdown object>"
      ]
     },
     "metadata": {},
     "output_type": "display_data"
    },
    {
     "name": "stdout",
     "output_type": "stream",
     "text": [
      "None\n"
     ]
    },
    {
     "name": "stdout",
     "output_type": "stream",
     "text": [
      "Entry is titled \"The structure of the Slackia exigua KARI in complex with NADP\" and was released on 2013/06/26 \n",
      "\n",
      "This entry was determined using X-ray diffraction \n",
      "The authors are Brinkmann-Chen, S.Flock, T.Cahn, J.K.B.Snow, C.D.Brustad, E.M.Mcintosh, J.A.Meinhold, P.Zhang, L.Arnold, F.H. \n",
      "\n",
      "Assembly information -\n",
      "Preferred form with assembly ID 1 is a homodimer\n",
      "\n"
     ]
    },
    {
     "data": {
      "text/markdown": [
       "# 4KQW Ligand informtion"
      ],
      "text/plain": [
       "<IPython.core.display.Markdown object>"
      ]
     },
     "metadata": {},
     "output_type": "display_data"
    },
    {
     "name": "stdout",
     "output_type": "stream",
     "text": [
      "Ligand : NADP NICOTINAMIDE-ADENINE-DINUCLEOTIDE PHOSPHATE at position 401\n",
      "Ligand : NADP NICOTINAMIDE-ADENINE-DINUCLEOTIDE PHOSPHATE at position 402\n",
      "Ligand : L(+)-TARTARIC ACID at position 402\n",
      "Ligand : L(+)-TARTARIC ACID at position 403\n",
      "Ligand : L(+)-TARTARIC ACID at position 401\n",
      "Ligand : L(+)-TARTARIC ACID at position 403\n",
      "Ligand : MAGNESIUM ION at position 404\n",
      "Ligand : MAGNESIUM ION at position 405\n",
      "Ligand : MAGNESIUM ION at position 404\n",
      "Ligand : MAGNESIUM ION at position 405\n",
      "\n"
     ]
    },
    {
     "data": {
      "text/markdown": [
       "# 4KQW Secondary structure ranges"
      ],
      "text/plain": [
       "<IPython.core.display.Markdown object>"
      ]
     },
     "metadata": {},
     "output_type": "display_data"
    },
    {
     "name": "stdout",
     "output_type": "stream",
     "text": [
      "4kqw chain A has helices at residue ranges ['16-20', '22-27', '36-49', '61-70', '77-84', '92-94', '95-104', '105-108', '119-124', '143-153', '170-182', '183-188', '193-208', '210-227', '230-239', '239-253', '253-261', '262-277', '278-294', '295-306', '309-321', '322-334'] and strands at ['14-15', '30-33', '53-57', '73-76', '86-89', '113-116', '134-140', '159-165', '189-191']\n",
      "4kqw chain B has helices at residue ranges ['16-20', '22-27', '36-49', '62-70', '77-84', '92-94', '95-104', '105-108', '119-124', '143-153', '170-182', '183-187', '193-208', '210-227', '230-239', '241-253', '253-261', '262-277', '278-294', '295-306', '309-321', '322-334'] and strands at ['14-15', '30-33', '53-57', '73-76', '86-89', '113-116', '134-140', '159-165', '189-191']\n"
     ]
    },
    {
     "data": {
      "text/markdown": [
       "# 4KQW"
      ],
      "text/plain": [
       "<IPython.core.display.Markdown object>"
      ]
     },
     "metadata": {},
     "output_type": "display_data"
    },
    {
     "data": {
      "application/3dmoljs_load.v0": "<div id=\"3dmolviewer_16641750095632691\"  style=\"position: relative; width: 640px; height: 480px\">\n        <p id=\"3dmolwarning_16641750095632691\" style=\"background-color:#ffcccc;color:black\">You appear to be running in JupyterLab (or JavaScript failed to load for some other reason).  You need to install the 3dmol extension: <br>\n        <tt>jupyter labextension install jupyterlab_3dmol</tt></p>\n        </div>\n<script>\n\nvar loadScriptAsync = function(uri){\n  return new Promise((resolve, reject) => {\n    var tag = document.createElement('script');\n    tag.src = uri;\n    tag.async = true;\n    tag.onload = () => {\n      resolve();\n    };\n  var firstScriptTag = document.getElementsByTagName('script')[0];\n  firstScriptTag.parentNode.insertBefore(tag, firstScriptTag);\n});\n};\n\nif(typeof $3Dmolpromise === 'undefined') {\n$3Dmolpromise = null;\n  $3Dmolpromise = loadScriptAsync('https://3dmol.org/build/3Dmol.js');\n}\n\nvar viewer_16641750095632691 = null;\nvar warn = document.getElementById(\"3dmolwarning_16641750095632691\");\nif(warn) {\n    warn.parentNode.removeChild(warn);\n}\n$3Dmolpromise.then(function() {\nviewer_16641750095632691 = $3Dmol.createViewer($(\"#3dmolviewer_16641750095632691\"),{backgroundColor:\"white\"});\n$3Dmol.download(\"pdb:4KQW\", viewer_16641750095632691, {}, function() {\nviewer_16641750095632691.zoomTo();\n\tviewer_16641750095632691.setStyle({\"cartoon\": {\"color\": \"spectrum\"}});\nviewer_16641750095632691.render();\n})\n});\n</script>",
      "text/html": [
       "<div id=\"3dmolviewer_16641750095632691\"  style=\"position: relative; width: 640px; height: 480px\">\n",
       "        <p id=\"3dmolwarning_16641750095632691\" style=\"background-color:#ffcccc;color:black\">You appear to be running in JupyterLab (or JavaScript failed to load for some other reason).  You need to install the 3dmol extension: <br>\n",
       "        <tt>jupyter labextension install jupyterlab_3dmol</tt></p>\n",
       "        </div>\n",
       "<script>\n",
       "\n",
       "var loadScriptAsync = function(uri){\n",
       "  return new Promise((resolve, reject) => {\n",
       "    var tag = document.createElement('script');\n",
       "    tag.src = uri;\n",
       "    tag.async = true;\n",
       "    tag.onload = () => {\n",
       "      resolve();\n",
       "    };\n",
       "  var firstScriptTag = document.getElementsByTagName('script')[0];\n",
       "  firstScriptTag.parentNode.insertBefore(tag, firstScriptTag);\n",
       "});\n",
       "};\n",
       "\n",
       "if(typeof $3Dmolpromise === 'undefined') {\n",
       "$3Dmolpromise = null;\n",
       "  $3Dmolpromise = loadScriptAsync('https://3dmol.org/build/3Dmol.js');\n",
       "}\n",
       "\n",
       "var viewer_16641750095632691 = null;\n",
       "var warn = document.getElementById(\"3dmolwarning_16641750095632691\");\n",
       "if(warn) {\n",
       "    warn.parentNode.removeChild(warn);\n",
       "}\n",
       "$3Dmolpromise.then(function() {\n",
       "viewer_16641750095632691 = $3Dmol.createViewer($(\"#3dmolviewer_16641750095632691\"),{backgroundColor:\"white\"});\n",
       "$3Dmol.download(\"pdb:4KQW\", viewer_16641750095632691, {}, function() {\n",
       "viewer_16641750095632691.zoomTo();\n",
       "\tviewer_16641750095632691.setStyle({\"cartoon\": {\"color\": \"spectrum\"}});\n",
       "viewer_16641750095632691.render();\n",
       "})\n",
       "});\n",
       "</script>"
      ]
     },
     "metadata": {},
     "output_type": "display_data"
    },
    {
     "data": {
      "text/plain": [
       "<py3Dmol.view at 0x7fd2fba7a890>"
      ]
     },
     "metadata": {},
     "output_type": "display_data"
    },
    {
     "data": {
      "text/markdown": [
       "# 4KQX PDB entry information"
      ],
      "text/plain": [
       "<IPython.core.display.Markdown object>"
      ]
     },
     "metadata": {},
     "output_type": "display_data"
    },
    {
     "name": "stdout",
     "output_type": "stream",
     "text": [
      "None\n"
     ]
    },
    {
     "name": "stdout",
     "output_type": "stream",
     "text": [
      "Entry is titled \"Mutant Slackia exigua KARI DDV in complex with NAD and an inhibitor\" and was released on 2013/06/26 \n",
      "\n",
      "This entry was determined using X-ray diffraction \n",
      "The authors are Brinkmann-Chen, S.Flock, T.Cahn, J.K.B.Snow, C.D.Brustad, E.M.Mcintosh, J.A.Meinhold, P.Zhang, L.Arnold, F.H. \n",
      "\n",
      "Assembly information -\n",
      "Preferred form with assembly ID 1 is a homodimer\n",
      "\n"
     ]
    },
    {
     "data": {
      "text/markdown": [
       "# 4KQX Ligand informtion"
      ],
      "text/plain": [
       "<IPython.core.display.Markdown object>"
      ]
     },
     "metadata": {},
     "output_type": "display_data"
    },
    {
     "name": "stdout",
     "output_type": "stream",
     "text": [
      "Ligand : NICOTINAMIDE-ADENINE-DINUCLEOTIDE at position 401\n",
      "Ligand : NICOTINAMIDE-ADENINE-DINUCLEOTIDE at position 402\n",
      "Ligand : N-HYDROXY-N-ISOPROPYLOXAMIC ACID at position 402\n",
      "Ligand : N-HYDROXY-N-ISOPROPYLOXAMIC ACID at position 401\n",
      "Ligand : MAGNESIUM ION at position 403\n",
      "Ligand : MAGNESIUM ION at position 404\n",
      "Ligand : MAGNESIUM ION at position 405\n",
      "Ligand : MAGNESIUM ION at position 406\n",
      "Ligand : MAGNESIUM ION at position 404\n",
      "Ligand : MAGNESIUM ION at position 405\n",
      "Ligand : MAGNESIUM ION at position 406\n",
      "Ligand : MAGNESIUM ION at position 407\n",
      "Ligand : MAGNESIUM ION at position 408\n",
      "Ligand : MAGNESIUM ION at position 409\n",
      "Ligand : HISTIDINE at position 403\n",
      "\n"
     ]
    },
    {
     "data": {
      "text/markdown": [
       "# 4KQX Secondary structure ranges"
      ],
      "text/plain": [
       "<IPython.core.display.Markdown object>"
      ]
     },
     "metadata": {},
     "output_type": "display_data"
    },
    {
     "name": "stdout",
     "output_type": "stream",
     "text": [
      "4kqx chain A has helices at residue ranges ['16-20', '22-27', '36-49', '62-70', '77-84', '92-94', '95-104', '105-108', '119-124', '143-154', '170-182', '183-187', '193-208', '210-227', '230-239', '241-253', '253-261', '262-277', '278-294', '295-307', '309-322', '322-334'] and strands at ['29-33', '52-57', '73-76', '86-89', '113-116', '134-140', '159-165', '189-191']\n",
      "4kqx chain B has helices at residue ranges ['16-20', '22-27', '36-49', '62-70', '77-84', '95-104', '105-108', '119-124', '143-153', '170-182', '183-187', '193-208', '210-227', '230-239', '241-253', '253-261', '262-277', '278-294', '295-307', '309-321', '322-334', '335-343'] and strands at ['29-33', '52-57', '73-76', '86-89', '113-116', '134-140', '159-165', '189-191']\n"
     ]
    },
    {
     "data": {
      "text/markdown": [
       "# 4KQX"
      ],
      "text/plain": [
       "<IPython.core.display.Markdown object>"
      ]
     },
     "metadata": {},
     "output_type": "display_data"
    },
    {
     "data": {
      "application/3dmoljs_load.v0": "<div id=\"3dmolviewer_1664175013302801\"  style=\"position: relative; width: 640px; height: 480px\">\n        <p id=\"3dmolwarning_1664175013302801\" style=\"background-color:#ffcccc;color:black\">You appear to be running in JupyterLab (or JavaScript failed to load for some other reason).  You need to install the 3dmol extension: <br>\n        <tt>jupyter labextension install jupyterlab_3dmol</tt></p>\n        </div>\n<script>\n\nvar loadScriptAsync = function(uri){\n  return new Promise((resolve, reject) => {\n    var tag = document.createElement('script');\n    tag.src = uri;\n    tag.async = true;\n    tag.onload = () => {\n      resolve();\n    };\n  var firstScriptTag = document.getElementsByTagName('script')[0];\n  firstScriptTag.parentNode.insertBefore(tag, firstScriptTag);\n});\n};\n\nif(typeof $3Dmolpromise === 'undefined') {\n$3Dmolpromise = null;\n  $3Dmolpromise = loadScriptAsync('https://3dmol.org/build/3Dmol.js');\n}\n\nvar viewer_1664175013302801 = null;\nvar warn = document.getElementById(\"3dmolwarning_1664175013302801\");\nif(warn) {\n    warn.parentNode.removeChild(warn);\n}\n$3Dmolpromise.then(function() {\nviewer_1664175013302801 = $3Dmol.createViewer($(\"#3dmolviewer_1664175013302801\"),{backgroundColor:\"white\"});\n$3Dmol.download(\"pdb:4KQX\", viewer_1664175013302801, {}, function() {\nviewer_1664175013302801.zoomTo();\n\tviewer_1664175013302801.setStyle({\"cartoon\": {\"color\": \"spectrum\"}});\nviewer_1664175013302801.render();\n})\n});\n</script>",
      "text/html": [
       "<div id=\"3dmolviewer_1664175013302801\"  style=\"position: relative; width: 640px; height: 480px\">\n",
       "        <p id=\"3dmolwarning_1664175013302801\" style=\"background-color:#ffcccc;color:black\">You appear to be running in JupyterLab (or JavaScript failed to load for some other reason).  You need to install the 3dmol extension: <br>\n",
       "        <tt>jupyter labextension install jupyterlab_3dmol</tt></p>\n",
       "        </div>\n",
       "<script>\n",
       "\n",
       "var loadScriptAsync = function(uri){\n",
       "  return new Promise((resolve, reject) => {\n",
       "    var tag = document.createElement('script');\n",
       "    tag.src = uri;\n",
       "    tag.async = true;\n",
       "    tag.onload = () => {\n",
       "      resolve();\n",
       "    };\n",
       "  var firstScriptTag = document.getElementsByTagName('script')[0];\n",
       "  firstScriptTag.parentNode.insertBefore(tag, firstScriptTag);\n",
       "});\n",
       "};\n",
       "\n",
       "if(typeof $3Dmolpromise === 'undefined') {\n",
       "$3Dmolpromise = null;\n",
       "  $3Dmolpromise = loadScriptAsync('https://3dmol.org/build/3Dmol.js');\n",
       "}\n",
       "\n",
       "var viewer_1664175013302801 = null;\n",
       "var warn = document.getElementById(\"3dmolwarning_1664175013302801\");\n",
       "if(warn) {\n",
       "    warn.parentNode.removeChild(warn);\n",
       "}\n",
       "$3Dmolpromise.then(function() {\n",
       "viewer_1664175013302801 = $3Dmol.createViewer($(\"#3dmolviewer_1664175013302801\"),{backgroundColor:\"white\"});\n",
       "$3Dmol.download(\"pdb:4KQX\", viewer_1664175013302801, {}, function() {\n",
       "viewer_1664175013302801.zoomTo();\n",
       "\tviewer_1664175013302801.setStyle({\"cartoon\": {\"color\": \"spectrum\"}});\n",
       "viewer_1664175013302801.render();\n",
       "})\n",
       "});\n",
       "</script>"
      ]
     },
     "metadata": {},
     "output_type": "display_data"
    },
    {
     "data": {
      "text/plain": [
       "<py3Dmol.view at 0x7fd2fba7bee0>"
      ]
     },
     "metadata": {},
     "output_type": "display_data"
    }
   ],
   "source": [
    "pdb_df = df[['accession', 'xref_pdb']].dropna()\n",
    "pdb_dict = defaultdict(list)\n",
    "for pdb_entries in pdb_df.itertuples():\n",
    "    pdb_dict[pdb_entries.accession] = [x for x in pdb_entries.xref_pdb.strip().split(\";\") if len(x) > 0]\n",
    "\n",
    "total_structures = sum([len(x) for x in pdb_dict.values()])\n",
    "\n",
    "print (f\"There are {total_structures} total structures across {len(pdb_dict.keys())} unique sequences\")\n",
    "\n",
    "print (\"Looking at the first few...\")\n",
    "\n",
    "sample_pdb_dict = {k: pdb_dict[k] for k in list(pdb_dict)[:3]}\n",
    "\n",
    "for prot_id, pdb_ids in sample_pdb_dict.items():\n",
    "    for pdb_id in pdb_ids:\n",
    "        \n",
    "        print(display(Markdown(f'# {pdb_id} PDB entry information')))\n",
    "\n",
    "        print(make_summary(get_entry_from_api(pdb_id, summary_url)))\n",
    "        \n",
    "        display(Markdown(f'# {pdb_id} Ligand informtion'))    \n",
    "        print(get_ligand_information(get_entry_from_api(pdb_id, ligand_url)))\n",
    "        \n",
    "    \n",
    "        display(Markdown(f'# {pdb_id} Secondary structure ranges'))\n",
    "        get_secondary_structure_ranges(pdb_id)\n",
    "        \n",
    "        display(Markdown(f'# {pdb_id}'))\n",
    "        \n",
    "        view = py3Dmol.view(query=f'pdb:{pdb_id}')\n",
    "        view.setStyle({'cartoon':{'color':'spectrum'}})\n",
    "        display(view)\n"
   ]
  },
  {
   "cell_type": "markdown",
   "id": "6f0eb305",
   "metadata": {},
   "source": [
    "<!-- # Alignment information -->"
   ]
  },
  {
   "cell_type": "code",
   "execution_count": 13,
   "id": "54eec7e4",
   "metadata": {
    "execution": {
     "iopub.execute_input": "2022-09-26T06:45:06.603569Z",
     "iopub.status.busy": "2022-09-26T06:45:06.603140Z",
     "iopub.status.idle": "2022-09-26T06:45:06.607400Z",
     "shell.execute_reply": "2022-09-26T06:45:06.606647Z"
    },
    "tags": [
     "remove-input",
     "remove-output"
    ]
   },
   "outputs": [],
   "source": [
    "# Alignment information (not working at the moment)\n",
    "# print ('Make this work on server')\n",
    "# import sequence\n",
    "# subset_aln = sequence.readFastaFile(f\"{snakemake.input.aln}\")\n",
    "# display(Markdown(f'Alignment has a length of {len(subset_aln[0].sequence)} positions'))\n"
   ]
  }
 ],
 "metadata": {
  "celltoolbar": "Tags",
  "kernelspec": {
   "display_name": "Python 3 (ipykernel)",
   "language": "python",
   "name": "python3"
  },
  "language_info": {
   "codemirror_mode": {
    "name": "ipython",
    "version": 3
   },
   "file_extension": ".py",
   "mimetype": "text/x-python",
   "name": "python",
   "nbconvert_exporter": "python",
   "pygments_lexer": "ipython3",
   "version": "3.10.4"
  }
 },
 "nbformat": 4,
 "nbformat_minor": 5
}