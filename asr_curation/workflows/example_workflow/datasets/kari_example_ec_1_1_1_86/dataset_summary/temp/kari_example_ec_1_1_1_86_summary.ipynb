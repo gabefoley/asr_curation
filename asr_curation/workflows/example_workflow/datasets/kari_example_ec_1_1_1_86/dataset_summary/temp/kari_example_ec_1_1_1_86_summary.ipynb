{
 "cells": [
  {
   "cell_type": "code",
   "execution_count": 1,
   "id": "ae5c1e01",
   "metadata": {
    "execution": {
     "iopub.execute_input": "2022-06-06T01:51:20.365755Z",
     "iopub.status.busy": "2022-06-06T01:51:20.365170Z",
     "iopub.status.idle": "2022-06-06T01:51:20.463720Z",
     "shell.execute_reply": "2022-06-06T01:51:20.463389Z"
    },
    "tags": [
     "snakemake-job-properties"
    ]
   },
   "outputs": [],
   "source": [
    "\n",
    "######## snakemake preamble start (automatically inserted, do not edit) ########\n",
    "import sys; sys.path.extend(['/Users/uqgfoley/opt/miniconda3/envs/cleanrepo/lib/python3.10/site-packages', '/Users/uqgfoley/Documents/asr_curation_moved/asr_curation/notebooks']); import pickle; snakemake = pickle.loads(b\"\\x80\\x04\\x95\\xea\\x06\\x00\\x00\\x00\\x00\\x00\\x00\\x8c\\x10snakemake.script\\x94\\x8c\\tSnakemake\\x94\\x93\\x94)\\x81\\x94}\\x94(\\x8c\\x05input\\x94\\x8c\\x0csnakemake.io\\x94\\x8c\\nInputFiles\\x94\\x93\\x94)\\x81\\x94\\x8cnworkflows/example_workflow/datasets/kari_example_ec_1_1_1_86/csv/custom/kari_example_ec_1_1_1_86_annotated.csv\\x94a}\\x94(\\x8c\\x06_names\\x94}\\x94\\x8c\\x12_allowed_overrides\\x94]\\x94(\\x8c\\x05index\\x94\\x8c\\x04sort\\x94eh\\x10\\x8c\\tfunctools\\x94\\x8c\\x07partial\\x94\\x93\\x94h\\x06\\x8c\\x19Namedlist._used_attribute\\x94\\x93\\x94\\x85\\x94R\\x94(h\\x16)}\\x94\\x8c\\x05_name\\x94h\\x10sNt\\x94bh\\x11h\\x14h\\x16\\x85\\x94R\\x94(h\\x16)}\\x94h\\x1ah\\x11sNt\\x94bub\\x8c\\x06output\\x94h\\x06\\x8c\\x0bOutputFiles\\x94\\x93\\x94)\\x81\\x94\\x8cxworkflows/example_workflow/datasets/kari_example_ec_1_1_1_86/dataset_summary/temp/kari_example_ec_1_1_1_86_summary.ipynb\\x94a}\\x94(h\\x0c}\\x94\\x8c\\x07summary\\x94K\\x00N\\x86\\x94sh\\x0e]\\x94(h\\x10h\\x11eh\\x10h\\x14h\\x16\\x85\\x94R\\x94(h\\x16)}\\x94h\\x1ah\\x10sNt\\x94bh\\x11h\\x14h\\x16\\x85\\x94R\\x94(h\\x16)}\\x94h\\x1ah\\x11sNt\\x94bh'h$ub\\x8c\\x06params\\x94h\\x06\\x8c\\x06Params\\x94\\x93\\x94)\\x81\\x94]\\x94(\\x8c\\x16Cross_reference_SUPFAM\\x94\\x8c\\x17Cross_reference_PANTHER\\x94\\x8c\\x0bLoop_Length\\x94\\x8c\\nKARI_Class\\x94\\x8c\\tEC_number\\x94ea}\\x94(h\\x0c}\\x94\\x8c\\x0fannotation_cols\\x94K\\x00N\\x86\\x94sh\\x0e]\\x94(h\\x10h\\x11eh\\x10h\\x14h\\x16\\x85\\x94R\\x94(h\\x16)}\\x94h\\x1ah\\x10sNt\\x94bh\\x11h\\x14h\\x16\\x85\\x94R\\x94(h\\x16)}\\x94h\\x1ah\\x11sNt\\x94bh>h6ub\\x8c\\twildcards\\x94h\\x06\\x8c\\tWildcards\\x94\\x93\\x94)\\x81\\x94\\x8c\\x18kari_example_ec_1_1_1_86\\x94a}\\x94(h\\x0c}\\x94\\x8c\\x07dataset\\x94K\\x00N\\x86\\x94sh\\x0e]\\x94(h\\x10h\\x11eh\\x10h\\x14h\\x16\\x85\\x94R\\x94(h\\x16)}\\x94h\\x1ah\\x10sNt\\x94bh\\x11h\\x14h\\x16\\x85\\x94R\\x94(h\\x16)}\\x94h\\x1ah\\x11sNt\\x94b\\x8c\\x07dataset\\x94hMub\\x8c\\x07threads\\x94K\\x01\\x8c\\tresources\\x94h\\x06\\x8c\\tResources\\x94\\x93\\x94)\\x81\\x94(K\\x01K\\x01\\x8c0/var/folders/xs/24s9hwqd191f2x7rhdy6_ryc0000gr/T\\x94e}\\x94(h\\x0c}\\x94(\\x8c\\x06_cores\\x94K\\x00N\\x86\\x94\\x8c\\x06_nodes\\x94K\\x01N\\x86\\x94\\x8c\\x06tmpdir\\x94K\\x02N\\x86\\x94uh\\x0e]\\x94(h\\x10h\\x11eh\\x10h\\x14h\\x16\\x85\\x94R\\x94(h\\x16)}\\x94h\\x1ah\\x10sNt\\x94bh\\x11h\\x14h\\x16\\x85\\x94R\\x94(h\\x16)}\\x94h\\x1ah\\x11sNt\\x94bhdK\\x01hfK\\x01hhhaub\\x8c\\x03log\\x94h\\x06\\x8c\\x03Log\\x94\\x93\\x94)\\x81\\x94\\x8cxworkflows/example_workflow/datasets/kari_example_ec_1_1_1_86/dataset_summary/temp/kari_example_ec_1_1_1_86_summary.ipynb\\x94a}\\x94(h\\x0c}\\x94\\x8c\\x08notebook\\x94K\\x00N\\x86\\x94sh\\x0e]\\x94(h\\x10h\\x11eh\\x10h\\x14h\\x16\\x85\\x94R\\x94(h\\x16)}\\x94h\\x1ah\\x10sNt\\x94bh\\x11h\\x14h\\x16\\x85\\x94R\\x94(h\\x16)}\\x94h\\x1ah\\x11sNt\\x94bhzhwub\\x8c\\x06config\\x94}\\x94(\\x8c\\x07workdir\\x94\\x8c\\x1aworkflows/example_workflow\\x94\\x8c\\x08fastadir\\x94\\x8c workflows/example_workflow/fasta\\x94\\x8c\\x06subdir\\x94\\x8c'workflows/example_workflow/subset_rules\\x94\\x8c\\x0fannotation_cols\\x94]\\x94(h7h8h9h:h;e\\x8c\\x10blocked_datasets\\x94]\\x94u\\x8c\\x04rule\\x94\\x8c\\x16create_dataset_summary\\x94\\x8c\\x0fbench_iteration\\x94N\\x8c\\tscriptdir\\x94\\x8cC/Users/uqgfoley/Documents/asr_curation_moved/asr_curation/notebooks\\x94ub.\"); from snakemake.logging import logger; logger.printshellcmds = False; import os; os.chdir(r'/Users/uqgfoley/Documents/asr_curation_moved/asr_curation');\n",
    "######## snakemake preamble end #########\n"
   ]
  },
  {
   "cell_type": "code",
   "execution_count": 2,
   "id": "b94c773b",
   "metadata": {
    "execution": {
     "iopub.execute_input": "2022-06-06T01:51:20.465500Z",
     "iopub.status.busy": "2022-06-06T01:51:20.465383Z",
     "iopub.status.idle": "2022-06-06T01:51:21.051870Z",
     "shell.execute_reply": "2022-06-06T01:51:21.051463Z"
    },
    "tags": [
     "remove-cell"
    ]
   },
   "outputs": [],
   "source": [
    "import matplotlib.pyplot as plt\n",
    "from collections import defaultdict\n",
    "import py3Dmol\n",
    "import pandas as pd\n",
    "import re\n",
    "import requests\n",
    "from IPython.display import display, Markdown"
   ]
  },
  {
   "cell_type": "code",
   "execution_count": 3,
   "id": "27081240",
   "metadata": {
    "execution": {
     "iopub.execute_input": "2022-06-06T01:51:21.053716Z",
     "iopub.status.busy": "2022-06-06T01:51:21.053572Z",
     "iopub.status.idle": "2022-06-06T01:51:21.061706Z",
     "shell.execute_reply": "2022-06-06T01:51:21.061447Z"
    },
    "tags": [
     "remove-cell"
    ]
   },
   "outputs": [],
   "source": [
    "base_url = \"https://www.ebi.ac.uk/pdbe/\"\n",
    "\n",
    "api_base = base_url + \"api/\"\n",
    "\n",
    "summary_url = api_base + 'pdb/entry/summary/'\n",
    "secondary_structure_url = api_base + 'pdb/entry/secondary_structure/'\n",
    "ligand_url = api_base + '/pdb/entry/ligand_monomers/'\n",
    "\n",
    "\n",
    "def make_summary(data):\n",
    "    \"\"\"\n",
    "    This function creates a summary for a PDB entry\n",
    "    by getting data for an entry, and extracting\n",
    "    pieces of information\n",
    "    \n",
    "    :param data: Dict\n",
    "    :return: String\n",
    "    \"\"\"\n",
    "    \n",
    "    pdb_id = \"\"\n",
    "    # Certain calls could return multiple PDB entries,\n",
    "    # but the GET summary call we use in this exercise\n",
    "    # will always return only one PDB entry\n",
    "    for key in data.keys():\n",
    "        pdb_id = key\n",
    "\n",
    "    # The data is a list of dictionaries, and for the summary information,\n",
    "    # it is always the first element of the list\n",
    "    entry = data[pdb_id][0]\n",
    "    \n",
    "    # Getting the title of the entry\n",
    "    title = entry['title']\n",
    "    \n",
    "    # Getting the release date of the entry\n",
    "    release_date = entry['release_date']\n",
    "    # Formatting the entry to make it more user-friendly\n",
    "    formatted_release_date = \"%s/%s/%s\" % (\n",
    "        release_date[:4], \n",
    "        release_date[4:6], \n",
    "        release_date[6:])\n",
    "    \n",
    "    # Getting the experimental methods\n",
    "    # Note that there can be multiple methods, so this is a list that\n",
    "    # needs to be iterated\n",
    "    experimental_methods = \"\"\n",
    "    for experimental_method in entry[\"experimental_method\"]:\n",
    "        if experimental_methods:\n",
    "            experimental_methods += \" and \"\n",
    "        experimental_methods += experimental_method\n",
    "        \n",
    "        \n",
    "        \n",
    "    # Getting the assemblies\n",
    "    assemblies = ''\n",
    "    for assembly in entry['assemblies']:\n",
    "        if assembly:\n",
    "            # Blank out the form if it is a monomer (because it must be homo form)\n",
    "            if assembly['name'] == 'monomer':\n",
    "                form = \"\"\n",
    "            else:\n",
    "                form = assembly['form']\n",
    "                \n",
    "            if assembly['preferred']:\n",
    "                \n",
    "                assemblies += f\"Preferred form with assembly ID {assembly['assembly_id']} is a {form}{assembly['name']}\\n\"\n",
    "            else:\n",
    "                assemblies += f\"Non-preferred form with assembly ID {assembly['assembly_id']} is a {assembly['form']}{assembly['name']}\\n\"\n",
    "\n",
    "    # Getting the author list\n",
    "    authors = \"\".join(entry['entry_authors'])\n",
    "    \n",
    "#         'assemblies': [{'assembly_id': '1', 'form': 'homo', 'preferred': True, 'name': 'monomer'}, {'assembly_id': '2', 'form': 'homo', 'preferred': False, 'name': 'dimer'}]}]}\n",
    "    \n",
    "    \n",
    "        \n",
    "     \n",
    "    # Creating the summary text using all the extracted \n",
    "    # information\n",
    "    summary = f'Entry is titled \"{title}\" and was released on {formatted_release_date} \\n\\nThis entry was determined using {experimental_methods} \\nThe authors are {authors} \\n\\nAssembly information -\\n{assemblies}'\n",
    "\n",
    "    return summary\n",
    "\n",
    "def make_request(url, mode, pdb_id):\n",
    "    \"\"\"\n",
    "    This function can make GET and POST requests to\n",
    "    the PDBe API\n",
    "    \n",
    "    :param url: String,\n",
    "    :param mode: String,\n",
    "    :param pdb_id: String\n",
    "    :return: JSON or None\n",
    "    \"\"\"\n",
    "    if mode == \"get\":\n",
    "        response = requests.get(url=url+pdb_id)\n",
    "    elif mode == \"post\":\n",
    "        response = requests.post(url, data=pdb_id)\n",
    "\n",
    "    if response.status_code == 200:\n",
    "        return response.json()\n",
    "    else:\n",
    "        print(\"[No data retrieved - %s] %s\" % (response.status_code, response.text))\n",
    "    \n",
    "    return None\n",
    "\n",
    "def get_secondary_structure_ranges(pdb_id=None, pdb_list=None):\n",
    "    \"\"\"\n",
    "    This function calls the PDBe API and retrieves the residue\n",
    "    ranges of secondary structural elements in a single PDB entry\n",
    "    or in a list of PDB entries\n",
    "    \n",
    "    :param pdb_id: String,\n",
    "    :param pdb_list: String\n",
    "    :return: None\n",
    "    \"\"\"\n",
    "    # If neither a single PDB id, nor a list was provided,\n",
    "    # exit the function\n",
    "    if not pdb_id and not pdb_list:\n",
    "        print(\"Either provide one PDB id, or a list of ids\")\n",
    "        return None\n",
    "    \n",
    "    if pdb_id:\n",
    "        # If a single PDB id was provided, call the API with GET\n",
    "        data = make_request(secondary_structure_url, \"get\", pdb_id)\n",
    "    else:\n",
    "        # If multiple PDB ids were provided, call the API with POST\n",
    "        # The POST API call expects PDB ids as a comma-separated lise\n",
    "        pdb_list_string = \", \".join(pdb_list)\n",
    "        data = make_request(secondary_structure_url, \"post\", pdb_list_string)\n",
    "        \n",
    "    # When no data is returned by the API, exit the function\n",
    "    if not data:\n",
    "        print(\"No data available\")\n",
    "        return None\n",
    "    \n",
    "    # Loop through all the PDB entries in the retrieved data\n",
    "    for entry_id in data.keys():\n",
    "        entry = data[entry_id]\n",
    "        molecules = entry[\"molecules\"]\n",
    "        \n",
    "        # Loop through all the molecules of a given PDB entry\n",
    "        for i in range(len(molecules)):\n",
    "            chains = molecules[i][\"chains\"]\n",
    "            \n",
    "            # Loop through all the chains of a given molecules\n",
    "            for j in range(len(chains)):\n",
    "                secondary_structure = chains[j][\"secondary_structure\"]\n",
    "                helices = secondary_structure[\"helices\"]\n",
    "                strands = secondary_structure[\"strands\"]\n",
    "                helix_list = []\n",
    "                strand_list = []\n",
    "                \n",
    "                # Loop through all the helices of a given chain\n",
    "                for k in range(len(helices)):\n",
    "                    start = helices[k][\"start\"][\"residue_number\"]\n",
    "                    end = helices[k][\"end\"][\"residue_number\"]\n",
    "                    helix_list.append(\"%s-%s\" % (start, end))\n",
    "                \n",
    "                # Loop through all the strands of a given chain\n",
    "                for l in range(len(strands)):\n",
    "                    start = strands[l][\"start\"][\"residue_number\"]\n",
    "                    end = strands[l][\"end\"][\"residue_number\"]\n",
    "                    strand_list.append(\"%s-%s\" % (start, end))\n",
    "                    \n",
    "                report = \"%s chain %s has \" % (entry_id, chains[j][\"chain_id\"])\n",
    "                if len(helix_list) > 0:\n",
    "                    report += \"helices at residue ranges %s \" % str(helix_list)\n",
    "                else:\n",
    "                    report += \"no helices \"\n",
    "                report += \"and \"\n",
    "                if len(strand_list) > 0:\n",
    "                    report += \"strands at %s\" % str(strand_list)\n",
    "                else:\n",
    "                    \"no strands\"\n",
    "                print(report)\n",
    "                \n",
    "    return None\n",
    "\n",
    "def get_ligand_information(data):\n",
    "    pdb_id = \"\"\n",
    "    \n",
    "    summary = \"\"\n",
    "\n",
    "    for key in data.keys():\n",
    "        pdb_id = key\n",
    "        \n",
    "    for ligand in data[pdb_id]:\n",
    "        summary += f\"Ligand : {ligand['chem_comp_name']} at position {ligand['author_residue_number']}\\n\"\n",
    "        \n",
    "    return summary\n",
    "    \n",
    "\n",
    "def get_entry_from_api(pdb_id, api_url):\n",
    "    \"\"\"\n",
    "    This function will make a call to the PDBe API using\n",
    "    the PDB id and API url provided as arguments\n",
    "    \n",
    "    :param pdb_id: String,\n",
    "    :param api_url: String\n",
    "    :return: Dict or None\n",
    "    \"\"\"\n",
    "    if not re.match(\"[0-9][A-Za-z][A-Za-z0-9]{2}\", pdb_id):\n",
    "        print(\"Invalid PDB id\")\n",
    "        return None\n",
    "    \n",
    "    # Make a GET call to the API URL\n",
    "    get_request = requests.get(url=api_url+pdb_id)\n",
    "    \n",
    "    if get_request.status_code == 200:\n",
    "        # If there is data returned (with HTML status code 200)\n",
    "        # then return the data in JSON format\n",
    "        return get_request.json()\n",
    "    else:\n",
    "        # If there is no data, print status code and response\n",
    "        print(get_request.status_code, get_request.text)\n",
    "        return None\n",
    "\n",
    "\n",
    "# As you can hopefully see, the data displayed is very similar to\n",
    "# what we had in the mock data in previous sections - however,\n",
    "# this is actual data coming from the PDBe API\n",
    "    "
   ]
  },
  {
   "cell_type": "code",
   "execution_count": 4,
   "id": "d1ac8f1b",
   "metadata": {
    "execution": {
     "iopub.execute_input": "2022-06-06T01:51:21.063106Z",
     "iopub.status.busy": "2022-06-06T01:51:21.063024Z",
     "iopub.status.idle": "2022-06-06T01:51:21.067136Z",
     "shell.execute_reply": "2022-06-06T01:51:21.066890Z"
    },
    "tags": [
     "remove-input"
    ]
   },
   "outputs": [
    {
     "data": {
      "text/markdown": [
       "# Summary - kari_example_ec_1_1_1_86"
      ],
      "text/plain": [
       "<IPython.core.display.Markdown object>"
      ]
     },
     "metadata": {},
     "output_type": "display_data"
    },
    {
     "name": "stdout",
     "output_type": "stream",
     "text": [
      "None\n"
     ]
    }
   ],
   "source": [
    "print(display(Markdown(f'# Summary - {snakemake.wildcards.dataset}')))"
   ]
  },
  {
   "cell_type": "code",
   "execution_count": 5,
   "id": "ddfa47c9",
   "metadata": {
    "execution": {
     "iopub.execute_input": "2022-06-06T01:51:21.068586Z",
     "iopub.status.busy": "2022-06-06T01:51:21.068490Z",
     "iopub.status.idle": "2022-06-06T01:51:21.070148Z",
     "shell.execute_reply": "2022-06-06T01:51:21.069904Z"
    },
    "tags": [
     "remove-input"
    ]
   },
   "outputs": [
    {
     "name": "stdout",
     "output_type": "stream",
     "text": [
      "Summary sheet - kari_example_ec_1_1_1_86\n"
     ]
    }
   ],
   "source": [
    "print (f'Summary sheet - {snakemake.wildcards.dataset}')"
   ]
  },
  {
   "cell_type": "code",
   "execution_count": 6,
   "id": "cd27e4f7",
   "metadata": {
    "execution": {
     "iopub.execute_input": "2022-06-06T01:51:21.071462Z",
     "iopub.status.busy": "2022-06-06T01:51:21.071384Z",
     "iopub.status.idle": "2022-06-06T01:51:21.088901Z",
     "shell.execute_reply": "2022-06-06T01:51:21.088611Z"
    },
    "tags": [
     "remove-cell"
    ]
   },
   "outputs": [],
   "source": [
    "df = pd.read_csv(snakemake.input[0])\n",
    "non_fragment_df = df[df['Fragment'] == False]\n",
    "entry_df = df.dropna(axis=1, how='all')"
   ]
  },
  {
   "cell_type": "markdown",
   "id": "36671ba2",
   "metadata": {},
   "source": [
    "# EC numbers"
   ]
  },
  {
   "cell_type": "code",
   "execution_count": 7,
   "id": "b21a7aa0",
   "metadata": {
    "execution": {
     "iopub.execute_input": "2022-06-06T01:51:21.090382Z",
     "iopub.status.busy": "2022-06-06T01:51:21.090300Z",
     "iopub.status.idle": "2022-06-06T01:51:21.092474Z",
     "shell.execute_reply": "2022-06-06T01:51:21.092209Z"
    },
    "tags": [
     "remove-input"
    ]
   },
   "outputs": [
    {
     "name": "stdout",
     "output_type": "stream",
     "text": [
      "The EC numbers found in the current data set are {'1.1.1.86'}\n"
     ]
    }
   ],
   "source": [
    "ec_nums = list(pd.unique(df['EC_number']))\n",
    "\n",
    "ec_set = set()\n",
    "\n",
    "for num in ec_nums:\n",
    "    for split in str(num).split(\";\"):\n",
    "        ec_set.add(split.strip())\n",
    "    \n",
    "print (f'The EC numbers found in the current data set are {ec_set}')"
   ]
  },
  {
   "cell_type": "markdown",
   "id": "11c7807b",
   "metadata": {},
   "source": [
    "# Taxonomic distribution"
   ]
  },
  {
   "cell_type": "code",
   "execution_count": 8,
   "id": "2a50473a",
   "metadata": {
    "execution": {
     "iopub.execute_input": "2022-06-06T01:51:21.093857Z",
     "iopub.status.busy": "2022-06-06T01:51:21.093782Z",
     "iopub.status.idle": "2022-06-06T01:51:21.214351Z",
     "shell.execute_reply": "2022-06-06T01:51:21.214079Z"
    },
    "tags": [
     "remove-input"
    ]
   },
   "outputs": [
    {
     "data": {
      "image/png": "[encoded data removed]",
      "text/plain": [
       "<Figure size 720x720 with 1 Axes>"
      ]
     },
     "metadata": {
      "needs_background": "light"
     },
     "output_type": "display_data"
    },
    {
     "data": {
      "image/png": "[encoded data removed]",
      "text/plain": [
       "<Figure size 576x720 with 1 Axes>"
      ]
     },
     "metadata": {
      "needs_background": "light"
     },
     "output_type": "display_data"
    }
   ],
   "source": [
    "taxonomy_cols = ['Taxonomic_lineage_SUPERKINGDOM', 'Taxonomic_lineage_PHYLUM']\n",
    "\n",
    "for col in taxonomy_cols:\n",
    "    fig, ax = plt.subplots(figsize=(len(col) / 3 ,10))\n",
    "    chart = df[col].value_counts().plot.barh(title=col, ax=ax)\n",
    "    plt.show()"
   ]
  },
  {
   "cell_type": "markdown",
   "id": "3cb988d9",
   "metadata": {},
   "source": [
    "# Annotation distributions"
   ]
  },
  {
   "cell_type": "code",
   "execution_count": 9,
   "id": "7f577e66",
   "metadata": {
    "execution": {
     "iopub.execute_input": "2022-06-06T01:51:21.215877Z",
     "iopub.status.busy": "2022-06-06T01:51:21.215768Z",
     "iopub.status.idle": "2022-06-06T01:51:21.405765Z",
     "shell.execute_reply": "2022-06-06T01:51:21.405493Z"
    },
    "tags": [
     "remove-input"
    ]
   },
   "outputs": [
    {
     "data": {
      "image/png": "[encoded data removed]",
      "text/plain": [
       "<Figure size 528x720 with 1 Axes>"
      ]
     },
     "metadata": {
      "needs_background": "light"
     },
     "output_type": "display_data"
    },
    {
     "data": {
      "image/png": "[encoded data removed]",
      "text/plain": [
       "<Figure size 552x720 with 1 Axes>"
      ]
     },
     "metadata": {
      "needs_background": "light"
     },
     "output_type": "display_data"
    },
    {
     "data": {
      "image/png": "[encoded data removed]",
      "text/plain": [
       "<Figure size 264x720 with 1 Axes>"
      ]
     },
     "metadata": {
      "needs_background": "light"
     },
     "output_type": "display_data"
    },
    {
     "data": {
      "image/png": "[encoded data removed]",
      "text/plain": [
       "<Figure size 240x720 with 1 Axes>"
      ]
     },
     "metadata": {
      "needs_background": "light"
     },
     "output_type": "display_data"
    },
    {
     "data": {
      "image/png": "[encoded data removed]",
      "text/plain": [
       "<Figure size 216x720 with 1 Axes>"
      ]
     },
     "metadata": {
      "needs_background": "light"
     },
     "output_type": "display_data"
    }
   ],
   "source": [
    "key_annotation_cols = snakemake.params.annotation_cols\n",
    "for col in key_annotation_cols:\n",
    "    if col in entry_df:\n",
    "        fig, ax = plt.subplots(figsize=(len(col) / 3 ,10))\n",
    "        chart = entry_df[col].value_counts().plot.barh(title=col, ax=ax)\n",
    "        plt.show()"
   ]
  },
  {
   "cell_type": "code",
   "execution_count": 10,
   "id": "5aa21732",
   "metadata": {
    "execution": {
     "iopub.execute_input": "2022-06-06T01:51:21.407285Z",
     "iopub.status.busy": "2022-06-06T01:51:21.407181Z",
     "iopub.status.idle": "2022-06-06T01:51:21.411158Z",
     "shell.execute_reply": "2022-06-06T01:51:21.410902Z"
    },
    "tags": [
     "remove-input"
    ]
   },
   "outputs": [
    {
     "name": "stdout",
     "output_type": "stream",
     "text": [
      "Sequence statistics for all sequences\n",
      "Number of sequences : 24.0\n",
      "Smallest sequnce length : 330.0\n",
      "Longest sequnce length : 595.0\n",
      "Average sequnce length : 396.6666666666667\n",
      "\n"
     ]
    }
   ],
   "source": [
    "seq_len = df['Length'].describe()\n",
    "non_fragment_seq_len = non_fragment_df['Length'].describe()\n",
    "\n",
    "\n",
    "def print_sequence_summarys(seq_summary):\n",
    "    print (f\"Number of sequences : {seq_summary['count']}\")\n",
    "    print (f\"Smallest sequnce length : {seq_summary['min']}\")\n",
    "    print (f\"Longest sequnce length : {seq_summary['max']}\")\n",
    "    print (f\"Average sequnce length : {seq_summary['mean']}\")\n",
    "\n",
    "print (\"Sequence statistics for all sequences\")\n",
    "print_sequence_summarys(seq_len)\n",
    "\n",
    "print ()\n",
    "\n",
    "if non_fragment_seq_len.all():\n",
    "\n",
    "    print (\"Sequence statistics for sequences (non-fragments)\")\n",
    "    print_sequence_summarys(non_fragment_seq_len)\n"
   ]
  },
  {
   "cell_type": "markdown",
   "id": "5f901775",
   "metadata": {},
   "source": [
    "# Experimental data (BRENDA)"
   ]
  },
  {
   "cell_type": "code",
   "execution_count": 11,
   "id": "743a67c7",
   "metadata": {
    "execution": {
     "iopub.execute_input": "2022-06-06T01:51:21.412589Z",
     "iopub.status.busy": "2022-06-06T01:51:21.412511Z",
     "iopub.status.idle": "2022-06-06T01:51:21.718777Z",
     "shell.execute_reply": "2022-06-06T01:51:21.718493Z"
    },
    "tags": [
     "remove-input"
    ]
   },
   "outputs": [
    {
     "name": "stdout",
     "output_type": "stream",
     "text": [
      "53\n"
     ]
    },
    {
     "data": {
      "image/png": "[encoded data removed]",
      "text/plain": [
       "<Figure size 954x720 with 1 Axes>"
      ]
     },
     "metadata": {
      "needs_background": "light"
     },
     "output_type": "display_data"
    }
   ],
   "source": [
    "skip_brenda_cols = [\n",
    "'BRENDA_CL', 'BRENDA_GI', \n",
    "'BRENDA_SN', 'BRENDA_SY', \n",
    "'BRENDA_MW', 'BRENDA_SP',\n",
    "'BRENDA_NSP', 'BRENDA_PM',\n",
    "'BRENDA_LO', 'BRENDA_SU', \n",
    "'BRENDA_PU', 'BRENDA_ST',\n",
    "'BRENDA_CR', 'BRENDA_CF',\n",
    "'BRENDA_RN', 'BRENDA_RT',\n",
    "'BRENDA_ME', 'BRENDA_REFERENCES']\n",
    "\n",
    "\n",
    "# Only get the columns that start with BRENDA and that we don't want to skip\n",
    "brenda_cols =[x for x in df if x.startswith(\"BRENDA\") and 'COMMENT' not in x and 'REFS' not in x and 'UNITS' not in x and not any(skip in x for skip in skip_brenda_cols)]\n",
    "\n",
    "# Drop rows if they don't have at least one entry in one of the BRENDA columns\n",
    "b_df = df[brenda_cols].dropna(thresh=1)\n",
    "print (len(brenda_cols))\n",
    "fig, ax = plt.subplots(figsize=(len(brenda_cols) / 4 ,10))\n",
    "\n",
    "\n",
    "# Create and save a plot of the BRENDA column counts\n",
    "if len(b_df) > 0:\n",
    "    b_df.count().plot.barh(ax=ax)\n",
    "    display()"
   ]
  },
  {
   "cell_type": "markdown",
   "id": "9fd19acf",
   "metadata": {},
   "source": [
    "# Structural information"
   ]
  },
  {
   "cell_type": "code",
   "execution_count": 12,
   "id": "e8a7b8d3",
   "metadata": {
    "execution": {
     "iopub.execute_input": "2022-06-06T01:51:21.720301Z",
     "iopub.status.busy": "2022-06-06T01:51:21.720215Z",
     "iopub.status.idle": "2022-06-06T01:51:40.618461Z",
     "shell.execute_reply": "2022-06-06T01:51:40.617673Z"
    },
    "tags": [
     "remove-input"
    ]
   },
   "outputs": [
    {
     "name": "stdout",
     "output_type": "stream",
     "text": [
      "There are 13 total structures across 9 unique sequences\n",
      "Looking at the first few...\n"
     ]
    },
    {
     "data": {
      "text/markdown": [
       "# 4KQW PDB entry information"
      ],
      "text/plain": [
       "<IPython.core.display.Markdown object>"
      ]
     },
     "metadata": {},
     "output_type": "display_data"
    },
    {
     "name": "stdout",
     "output_type": "stream",
     "text": [
      "Entry is titled \"The structure of the Slackia exigua KARI in complex with NADP\" and was released on 2013/06/26 \n",
      "\n",
      "This entry was determined using X-ray diffraction \n",
      "The authors are Brinkmann-Chen, S.Flock, T.Cahn, J.K.B.Snow, C.D.Brustad, E.M.Mcintosh, J.A.Meinhold, P.Zhang, L.Arnold, F.H. \n",
      "\n",
      "Assembly information -\n",
      "Preferred form with assembly ID 1 is a homodimer\n",
      "\n"
     ]
    },
    {
     "data": {
      "text/markdown": [
       "# 4KQW Ligand informtion"
      ],
      "text/plain": [
       "<IPython.core.display.Markdown object>"
      ]
     },
     "metadata": {},
     "output_type": "display_data"
    },
    {
     "name": "stdout",
     "output_type": "stream",
     "text": [
      "Ligand : NADP NICOTINAMIDE-ADENINE-DINUCLEOTIDE PHOSPHATE at position 401\n",
      "Ligand : NADP NICOTINAMIDE-ADENINE-DINUCLEOTIDE PHOSPHATE at position 402\n",
      "Ligand : L(+)-TARTARIC ACID at position 402\n",
      "Ligand : L(+)-TARTARIC ACID at position 403\n",
      "Ligand : L(+)-TARTARIC ACID at position 401\n",
      "Ligand : L(+)-TARTARIC ACID at position 403\n",
      "Ligand : MAGNESIUM ION at position 404\n",
      "Ligand : MAGNESIUM ION at position 405\n",
      "Ligand : MAGNESIUM ION at position 404\n",
      "Ligand : MAGNESIUM ION at position 405\n",
      "\n"
     ]
    },
    {
     "data": {
      "text/markdown": [
       "# 4KQW Secondary structure ranges"
      ],
      "text/plain": [
       "<IPython.core.display.Markdown object>"
      ]
     },
     "metadata": {},
     "output_type": "display_data"
    },
    {
     "name": "stdout",
     "output_type": "stream",
     "text": [
      "4kqw chain A has helices at residue ranges ['16-20', '22-27', '36-49', '61-70', '77-84', '92-94', '95-104', '105-108', '119-124', '143-153', '170-182', '183-188', '193-208', '210-227', '230-239', '239-253', '253-261', '262-277', '278-294', '295-306', '309-321', '322-334'] and strands at ['14-15', '30-33', '53-57', '73-76', '86-89', '113-116', '134-140', '159-165', '189-191']\n",
      "4kqw chain B has helices at residue ranges ['16-20', '22-27', '36-49', '62-70', '77-84', '92-94', '95-104', '105-108', '119-124', '143-153', '170-182', '183-187', '193-208', '210-227', '230-239', '241-253', '253-261', '262-277', '278-294', '295-306', '309-321', '322-334'] and strands at ['14-15', '30-33', '53-57', '73-76', '86-89', '113-116', '134-140', '159-165', '189-191']\n"
     ]
    },
    {
     "data": {
      "text/markdown": [
       "# 4KQW"
      ],
      "text/plain": [
       "<IPython.core.display.Markdown object>"
      ]
     },
     "metadata": {},
     "output_type": "display_data"
    },
    {
     "data": {
      "application/3dmoljs_load.v0": "<div id=\"3dmolviewer_16544802857597198\"  style=\"position: relative; width: 640px; height: 480px\">\n        <p id=\"3dmolwarning_16544802857597198\" style=\"background-color:#ffcccc;color:black\">You appear to be running in JupyterLab (or JavaScript failed to load for some other reason).  You need to install the 3dmol extension: <br>\n        <tt>jupyter labextension install jupyterlab_3dmol</tt></p>\n        </div>\n<script>\n\nvar loadScriptAsync = function(uri){\n  return new Promise((resolve, reject) => {\n    var tag = document.createElement('script');\n    tag.src = uri;\n    tag.async = true;\n    tag.onload = () => {\n      resolve();\n    };\n  var firstScriptTag = document.getElementsByTagName('script')[0];\n  firstScriptTag.parentNode.insertBefore(tag, firstScriptTag);\n});\n};\n\nif(typeof $3Dmolpromise === 'undefined') {\n$3Dmolpromise = null;\n  $3Dmolpromise = loadScriptAsync('https://3dmol.org/build/3Dmol.js');\n}\n\nvar viewer_16544802857597198 = null;\nvar warn = document.getElementById(\"3dmolwarning_16544802857597198\");\nif(warn) {\n    warn.parentNode.removeChild(warn);\n}\n$3Dmolpromise.then(function() {\nviewer_16544802857597198 = $3Dmol.createViewer($(\"#3dmolviewer_16544802857597198\"),{backgroundColor:\"white\"});\n$3Dmol.download(\"pdb:4KQW\", viewer_16544802857597198, {}, function() {\nviewer_16544802857597198.zoomTo();\n\tviewer_16544802857597198.setStyle({\"cartoon\": {\"color\": \"spectrum\"}});\nviewer_16544802857597198.render();\n})\n});\n</script>",
      "text/html": [
       "<div id=\"3dmolviewer_16544802857597198\"  style=\"position: relative; width: 640px; height: 480px\">\n",
       "        <p id=\"3dmolwarning_16544802857597198\" style=\"background-color:#ffcccc;color:black\">You appear to be running in JupyterLab (or JavaScript failed to load for some other reason).  You need to install the 3dmol extension: <br>\n",
       "        <tt>jupyter labextension install jupyterlab_3dmol</tt></p>\n",
       "        </div>\n",
       "<script>\n",
       "\n",
       "var loadScriptAsync = function(uri){\n",
       "  return new Promise((resolve, reject) => {\n",
       "    var tag = document.createElement('script');\n",
       "    tag.src = uri;\n",
       "    tag.async = true;\n",
       "    tag.onload = () => {\n",
       "      resolve();\n",
       "    };\n",
       "  var firstScriptTag = document.getElementsByTagName('script')[0];\n",
       "  firstScriptTag.parentNode.insertBefore(tag, firstScriptTag);\n",
       "});\n",
       "};\n",
       "\n",
       "if(typeof $3Dmolpromise === 'undefined') {\n",
       "$3Dmolpromise = null;\n",
       "  $3Dmolpromise = loadScriptAsync('https://3dmol.org/build/3Dmol.js');\n",
       "}\n",
       "\n",
       "var viewer_16544802857597198 = null;\n",
       "var warn = document.getElementById(\"3dmolwarning_16544802857597198\");\n",
       "if(warn) {\n",
       "    warn.parentNode.removeChild(warn);\n",
       "}\n",
       "$3Dmolpromise.then(function() {\n",
       "viewer_16544802857597198 = $3Dmol.createViewer($(\"#3dmolviewer_16544802857597198\"),{backgroundColor:\"white\"});\n",
       "$3Dmol.download(\"pdb:4KQW\", viewer_16544802857597198, {}, function() {\n",
       "viewer_16544802857597198.zoomTo();\n",
       "\tviewer_16544802857597198.setStyle({\"cartoon\": {\"color\": \"spectrum\"}});\n",
       "viewer_16544802857597198.render();\n",
       "})\n",
       "});\n",
       "</script>"
      ]
     },
     "metadata": {},
     "output_type": "display_data"
    },
    {
     "data": {
      "text/plain": [
       "<py3Dmol.view at 0x112937d90>"
      ]
     },
     "metadata": {},
     "output_type": "display_data"
    },
    {
     "data": {
      "text/markdown": [
       "# 4KQX PDB entry information"
      ],
      "text/plain": [
       "<IPython.core.display.Markdown object>"
      ]
     },
     "metadata": {},
     "output_type": "display_data"
    },
    {
     "name": "stdout",
     "output_type": "stream",
     "text": [
      "Entry is titled \"Mutant Slackia exigua KARI DDV in complex with NAD and an inhibitor\" and was released on 2013/06/26 \n",
      "\n",
      "This entry was determined using X-ray diffraction \n",
      "The authors are Brinkmann-Chen, S.Flock, T.Cahn, J.K.B.Snow, C.D.Brustad, E.M.Mcintosh, J.A.Meinhold, P.Zhang, L.Arnold, F.H. \n",
      "\n",
      "Assembly information -\n",
      "Preferred form with assembly ID 1 is a homodimer\n",
      "\n"
     ]
    },
    {
     "data": {
      "text/markdown": [
       "# 4KQX Ligand informtion"
      ],
      "text/plain": [
       "<IPython.core.display.Markdown object>"
      ]
     },
     "metadata": {},
     "output_type": "display_data"
    },
    {
     "name": "stdout",
     "output_type": "stream",
     "text": [
      "Ligand : NICOTINAMIDE-ADENINE-DINUCLEOTIDE at position 401\n",
      "Ligand : NICOTINAMIDE-ADENINE-DINUCLEOTIDE at position 402\n",
      "Ligand : N-HYDROXY-N-ISOPROPYLOXAMIC ACID at position 402\n",
      "Ligand : N-HYDROXY-N-ISOPROPYLOXAMIC ACID at position 401\n",
      "Ligand : MAGNESIUM ION at position 403\n",
      "Ligand : MAGNESIUM ION at position 404\n",
      "Ligand : MAGNESIUM ION at position 405\n",
      "Ligand : MAGNESIUM ION at position 406\n",
      "Ligand : MAGNESIUM ION at position 404\n",
      "Ligand : MAGNESIUM ION at position 405\n",
      "Ligand : MAGNESIUM ION at position 406\n",
      "Ligand : MAGNESIUM ION at position 407\n",
      "Ligand : MAGNESIUM ION at position 408\n",
      "Ligand : MAGNESIUM ION at position 409\n",
      "Ligand : HISTIDINE at position 403\n",
      "\n"
     ]
    },
    {
     "data": {
      "text/markdown": [
       "# 4KQX Secondary structure ranges"
      ],
      "text/plain": [
       "<IPython.core.display.Markdown object>"
      ]
     },
     "metadata": {},
     "output_type": "display_data"
    },
    {
     "name": "stdout",
     "output_type": "stream",
     "text": [
      "4kqx chain A has helices at residue ranges ['16-20', '22-27', '36-49', '62-70', '77-84', '92-94', '95-104', '105-108', '119-124', '143-154', '170-182', '183-187', '193-208', '210-227', '230-239', '241-253', '253-261', '262-277', '278-294', '295-307', '309-322', '322-334'] and strands at ['52-57', '86-89', '29-33', '73-76', '113-116', '134-140', '159-165', '189-191']\n",
      "4kqx chain B has helices at residue ranges ['16-20', '22-27', '36-49', '62-70', '77-84', '95-104', '105-108', '119-124', '143-153', '170-182', '183-187', '193-208', '210-227', '230-239', '241-253', '253-261', '262-277', '278-294', '295-307', '309-321', '322-334', '335-343'] and strands at ['52-57', '86-89', '29-33', '73-76', '113-116', '134-140', '159-165', '189-191']\n"
     ]
    },
    {
     "data": {
      "text/markdown": [
       "# 4KQX"
      ],
      "text/plain": [
       "<IPython.core.display.Markdown object>"
      ]
     },
     "metadata": {},
     "output_type": "display_data"
    },
    {
     "data": {
      "application/3dmoljs_load.v0": "<div id=\"3dmolviewer_1654480289551775\"  style=\"position: relative; width: 640px; height: 480px\">\n        <p id=\"3dmolwarning_1654480289551775\" style=\"background-color:#ffcccc;color:black\">You appear to be running in JupyterLab (or JavaScript failed to load for some other reason).  You need to install the 3dmol extension: <br>\n        <tt>jupyter labextension install jupyterlab_3dmol</tt></p>\n        </div>\n<script>\n\nvar loadScriptAsync = function(uri){\n  return new Promise((resolve, reject) => {\n    var tag = document.createElement('script');\n    tag.src = uri;\n    tag.async = true;\n    tag.onload = () => {\n      resolve();\n    };\n  var firstScriptTag = document.getElementsByTagName('script')[0];\n  firstScriptTag.parentNode.insertBefore(tag, firstScriptTag);\n});\n};\n\nif(typeof $3Dmolpromise === 'undefined') {\n$3Dmolpromise = null;\n  $3Dmolpromise = loadScriptAsync('https://3dmol.org/build/3Dmol.js');\n}\n\nvar viewer_1654480289551775 = null;\nvar warn = document.getElementById(\"3dmolwarning_1654480289551775\");\nif(warn) {\n    warn.parentNode.removeChild(warn);\n}\n$3Dmolpromise.then(function() {\nviewer_1654480289551775 = $3Dmol.createViewer($(\"#3dmolviewer_1654480289551775\"),{backgroundColor:\"white\"});\n$3Dmol.download(\"pdb:4KQX\", viewer_1654480289551775, {}, function() {\nviewer_1654480289551775.zoomTo();\n\tviewer_1654480289551775.setStyle({\"cartoon\": {\"color\": \"spectrum\"}});\nviewer_1654480289551775.render();\n})\n});\n</script>",
      "text/html": [
       "<div id=\"3dmolviewer_1654480289551775\"  style=\"position: relative; width: 640px; height: 480px\">\n",
       "        <p id=\"3dmolwarning_1654480289551775\" style=\"background-color:#ffcccc;color:black\">You appear to be running in JupyterLab (or JavaScript failed to load for some other reason).  You need to install the 3dmol extension: <br>\n",
       "        <tt>jupyter labextension install jupyterlab_3dmol</tt></p>\n",
       "        </div>\n",
       "<script>\n",
       "\n",
       "var loadScriptAsync = function(uri){\n",
       "  return new Promise((resolve, reject) => {\n",
       "    var tag = document.createElement('script');\n",
       "    tag.src = uri;\n",
       "    tag.async = true;\n",
       "    tag.onload = () => {\n",
       "      resolve();\n",
       "    };\n",
       "  var firstScriptTag = document.getElementsByTagName('script')[0];\n",
       "  firstScriptTag.parentNode.insertBefore(tag, firstScriptTag);\n",
       "});\n",
       "};\n",
       "\n",
       "if(typeof $3Dmolpromise === 'undefined') {\n",
       "$3Dmolpromise = null;\n",
       "  $3Dmolpromise = loadScriptAsync('https://3dmol.org/build/3Dmol.js');\n",
       "}\n",
       "\n",
       "var viewer_1654480289551775 = null;\n",
       "var warn = document.getElementById(\"3dmolwarning_1654480289551775\");\n",
       "if(warn) {\n",
       "    warn.parentNode.removeChild(warn);\n",
       "}\n",
       "$3Dmolpromise.then(function() {\n",
       "viewer_1654480289551775 = $3Dmol.createViewer($(\"#3dmolviewer_1654480289551775\"),{backgroundColor:\"white\"});\n",
       "$3Dmol.download(\"pdb:4KQX\", viewer_1654480289551775, {}, function() {\n",
       "viewer_1654480289551775.zoomTo();\n",
       "\tviewer_1654480289551775.setStyle({\"cartoon\": {\"color\": \"spectrum\"}});\n",
       "viewer_1654480289551775.render();\n",
       "})\n",
       "});\n",
       "</script>"
      ]
     },
     "metadata": {},
     "output_type": "display_data"
    },
    {
     "data": {
      "text/plain": [
       "<py3Dmol.view at 0x1128ec730>"
      ]
     },
     "metadata": {},
     "output_type": "display_data"
    },
    {
     "data": {
      "text/markdown": [
       "# 4YPO PDB entry information"
      ],
      "text/plain": [
       "<IPython.core.display.Markdown object>"
      ]
     },
     "metadata": {},
     "output_type": "display_data"
    },
    {
     "name": "stdout",
     "output_type": "stream",
     "text": [
      "Entry is titled \"Crystal structure of Mycobacterium tuberculosis ketol-acid reductoisomerase in complex with Mg2+\" and was released on 2016/02/17 \n",
      "\n",
      "This entry was determined using X-ray diffraction \n",
      "The authors are Lv, Y.Guddat, L.W. \n",
      "\n",
      "Assembly information -\n",
      "Preferred form with assembly ID 1 is a homodimer\n",
      "\n"
     ]
    },
    {
     "data": {
      "text/markdown": [
       "# 4YPO Ligand informtion"
      ],
      "text/plain": [
       "<IPython.core.display.Markdown object>"
      ]
     },
     "metadata": {},
     "output_type": "display_data"
    },
    {
     "name": "stdout",
     "output_type": "stream",
     "text": [
      "Ligand : MAGNESIUM ION at position 401\n",
      "Ligand : MAGNESIUM ION at position 402\n",
      "Ligand : MAGNESIUM ION at position 403\n",
      "Ligand : MAGNESIUM ION at position 404\n",
      "Ligand : MAGNESIUM ION at position 406\n",
      "Ligand : MAGNESIUM ION at position 407\n",
      "Ligand : MAGNESIUM ION at position 408\n",
      "Ligand : MAGNESIUM ION at position 410\n",
      "Ligand : MAGNESIUM ION at position 401\n",
      "Ligand : MAGNESIUM ION at position 402\n",
      "Ligand : MAGNESIUM ION at position 403\n",
      "Ligand : MAGNESIUM ION at position 404\n",
      "Ligand : MAGNESIUM ION at position 405\n",
      "Ligand : CHLORIDE ION at position 405\n",
      "Ligand : CHLORIDE ION at position 409\n",
      "Ligand : SODIUM ION at position 406\n",
      "\n"
     ]
    },
    {
     "data": {
      "text/markdown": [
       "# 4YPO Secondary structure ranges"
      ],
      "text/plain": [
       "<IPython.core.display.Markdown object>"
      ]
     },
     "metadata": {},
     "output_type": "display_data"
    },
    {
     "name": "stdout",
     "output_type": "stream",
     "text": [
      "4ypo chain A has helices at residue ranges ['3-7', '9-14', '23-36', '50-57', '63-71', '79-81', '82-90', '91-95', '106-111', '130-140', '157-169', '170-175', '180-195', '198-214', '217-226', '228-248', '249-264', '265-281', '282-294', '296-308', '309-320'] and strands at ['39-43', '73-76', '16-20', '60-62', '100-103', '121-127', '146-152', '176-178']\n",
      "4ypo chain B has helices at residue ranges ['3-7', '9-14', '22-24', '25-36', '50-57', '63-71', '79-81', '82-91', '92-95', '106-111', '130-140', '157-169', '170-175', '180-195', '198-214', '217-226', '228-248', '249-264', '265-281', '282-294', '296-308', '309-320'] and strands at ['39-43', '73-76', '16-20', '60-62', '100-103', '121-127', '146-152', '176-178']\n"
     ]
    },
    {
     "data": {
      "text/markdown": [
       "# 4YPO"
      ],
      "text/plain": [
       "<IPython.core.display.Markdown object>"
      ]
     },
     "metadata": {},
     "output_type": "display_data"
    },
    {
     "data": {
      "application/3dmoljs_load.v0": "<div id=\"3dmolviewer_16544802932185102\"  style=\"position: relative; width: 640px; height: 480px\">\n        <p id=\"3dmolwarning_16544802932185102\" style=\"background-color:#ffcccc;color:black\">You appear to be running in JupyterLab (or JavaScript failed to load for some other reason).  You need to install the 3dmol extension: <br>\n        <tt>jupyter labextension install jupyterlab_3dmol</tt></p>\n        </div>\n<script>\n\nvar loadScriptAsync = function(uri){\n  return new Promise((resolve, reject) => {\n    var tag = document.createElement('script');\n    tag.src = uri;\n    tag.async = true;\n    tag.onload = () => {\n      resolve();\n    };\n  var firstScriptTag = document.getElementsByTagName('script')[0];\n  firstScriptTag.parentNode.insertBefore(tag, firstScriptTag);\n});\n};\n\nif(typeof $3Dmolpromise === 'undefined') {\n$3Dmolpromise = null;\n  $3Dmolpromise = loadScriptAsync('https://3dmol.org/build/3Dmol.js');\n}\n\nvar viewer_16544802932185102 = null;\nvar warn = document.getElementById(\"3dmolwarning_16544802932185102\");\nif(warn) {\n    warn.parentNode.removeChild(warn);\n}\n$3Dmolpromise.then(function() {\nviewer_16544802932185102 = $3Dmol.createViewer($(\"#3dmolviewer_16544802932185102\"),{backgroundColor:\"white\"});\n$3Dmol.download(\"pdb:4YPO\", viewer_16544802932185102, {}, function() {\nviewer_16544802932185102.zoomTo();\n\tviewer_16544802932185102.setStyle({\"cartoon\": {\"color\": \"spectrum\"}});\nviewer_16544802932185102.render();\n})\n});\n</script>",
      "text/html": [
       "<div id=\"3dmolviewer_16544802932185102\"  style=\"position: relative; width: 640px; height: 480px\">\n",
       "        <p id=\"3dmolwarning_16544802932185102\" style=\"background-color:#ffcccc;color:black\">You appear to be running in JupyterLab (or JavaScript failed to load for some other reason).  You need to install the 3dmol extension: <br>\n",
       "        <tt>jupyter labextension install jupyterlab_3dmol</tt></p>\n",
       "        </div>\n",
       "<script>\n",
       "\n",
       "var loadScriptAsync = function(uri){\n",
       "  return new Promise((resolve, reject) => {\n",
       "    var tag = document.createElement('script');\n",
       "    tag.src = uri;\n",
       "    tag.async = true;\n",
       "    tag.onload = () => {\n",
       "      resolve();\n",
       "    };\n",
       "  var firstScriptTag = document.getElementsByTagName('script')[0];\n",
       "  firstScriptTag.parentNode.insertBefore(tag, firstScriptTag);\n",
       "});\n",
       "};\n",
       "\n",
       "if(typeof $3Dmolpromise === 'undefined') {\n",
       "$3Dmolpromise = null;\n",
       "  $3Dmolpromise = loadScriptAsync('https://3dmol.org/build/3Dmol.js');\n",
       "}\n",
       "\n",
       "var viewer_16544802932185102 = null;\n",
       "var warn = document.getElementById(\"3dmolwarning_16544802932185102\");\n",
       "if(warn) {\n",
       "    warn.parentNode.removeChild(warn);\n",
       "}\n",
       "$3Dmolpromise.then(function() {\n",
       "viewer_16544802932185102 = $3Dmol.createViewer($(\"#3dmolviewer_16544802932185102\"),{backgroundColor:\"white\"});\n",
       "$3Dmol.download(\"pdb:4YPO\", viewer_16544802932185102, {}, function() {\n",
       "viewer_16544802932185102.zoomTo();\n",
       "\tviewer_16544802932185102.setStyle({\"cartoon\": {\"color\": \"spectrum\"}});\n",
       "viewer_16544802932185102.render();\n",
       "})\n",
       "});\n",
       "</script>"
      ]
     },
     "metadata": {},
     "output_type": "display_data"
    },
    {
     "data": {
      "text/plain": [
       "<py3Dmol.view at 0x1128ec340>"
      ]
     },
     "metadata": {},
     "output_type": "display_data"
    },
    {
     "data": {
      "text/markdown": [
       "# 1YRL PDB entry information"
      ],
      "text/plain": [
       "<IPython.core.display.Markdown object>"
      ]
     },
     "metadata": {},
     "output_type": "display_data"
    },
    {
     "name": "stdout",
     "output_type": "stream",
     "text": [
      "Entry is titled \"Escherichia coli ketol-acid reductoisomerase\" and was released on 2005/10/11 \n",
      "\n",
      "This entry was determined using X-ray diffraction \n",
      "The authors are Tyagi, R.Duquerroy, S.Navaza, J.Guddat, L.W.Duggleby, R.G. \n",
      "\n",
      "Assembly information -\n",
      "Preferred form with assembly ID 1 is a homotetramer\n",
      "\n"
     ]
    },
    {
     "data": {
      "text/markdown": [
       "# 1YRL Ligand informtion"
      ],
      "text/plain": [
       "<IPython.core.display.Markdown object>"
      ]
     },
     "metadata": {},
     "output_type": "display_data"
    },
    {
     "name": "stdout",
     "output_type": "stream",
     "text": [
      "Ligand : SULFATE ION at position 4121\n",
      "Ligand : SULFATE ION at position 4122\n",
      "Ligand : SULFATE ION at position 4127\n",
      "Ligand : SULFATE ION at position 4128\n",
      "Ligand : SULFATE ION at position 4126\n",
      "Ligand : SULFATE ION at position 4125\n",
      "Ligand : SULFATE ION at position 4123\n",
      "Ligand : SULFATE ION at position 4124\n",
      "Ligand : SULFATE ION at position 4129\n",
      "\n"
     ]
    },
    {
     "data": {
      "text/markdown": [
       "# 1YRL Secondary structure ranges"
      ],
      "text/plain": [
       "<IPython.core.display.Markdown object>"
      ]
     },
     "metadata": {},
     "output_type": "display_data"
    },
    {
     "name": "stdout",
     "output_type": "stream",
     "text": [
      "1yrl chain A has helices at residue ranges ['4-8', '9-18', '24-29', '32-36', '46-59', '68-74', '76-85', '92-96', '97-99', '107-122', '133-138', '159-167', '179-182', '186-199', '199-204', '209-223', '226-243', '246-276', '278-309', '310-321', '324-335', '337-342', '350-357', '358-378', '382-390', '393-413', '414-438', '454-468', '468-487'] and strands at ['205-208', '63-67', '101-104', '88-91', '40-43', '127-130', '148-154', '173-177', '20-22']\n",
      "1yrl chain B has helices at residue ranges ['4-8', '9-18', '24-29', '30-36', '111-122', '133-138', '159-168', '186-197', '198-203', '209-222', '226-243', '246-276', '278-320', '324-336', '338-342', '350-357', '358-378', '382-388', '393-413', '414-438', '454-467', '468-487'] and strands at ['205-208', '127-130', '101-103', '148-154', '173-177', '20-22']\n",
      "1yrl chain C has helices at residue ranges ['4-8', '9-18', '24-29', '46-61', '68-74', '76-85', '92-96', '107-122', '133-139', '159-167', '179-182', '186-198', '199-203', '209-223', '226-243', '246-276', '278-322', '324-335', '337-342', '350-357', '358-378', '382-390', '393-413', '414-432', '432-437', '454-467', '468-487'] and strands at ['205-208', '63-67', '101-104', '88-91', '40-43', '127-129', '148-154', '173-177', '20-22']\n",
      "1yrl chain D has helices at residue ranges ['4-8', '9-18', '24-29', '32-36', '50-58', '70-74', '107-109', '110-122', '133-138', '159-167', '179-182', '186-198', '199-204', '209-224', '226-243', '246-275', '278-309', '310-321', '324-336', '350-357', '358-378', '382-391', '393-413', '414-432', '432-437', '454-467', '468-487'] and strands at ['205-207', '62-65', '101-103', '39-42', '127-130', '148-154', '173-177', '21-22']\n"
     ]
    },
    {
     "data": {
      "text/markdown": [
       "# 1YRL"
      ],
      "text/plain": [
       "<IPython.core.display.Markdown object>"
      ]
     },
     "metadata": {},
     "output_type": "display_data"
    },
    {
     "data": {
      "application/3dmoljs_load.v0": "<div id=\"3dmolviewer_16544802969143271\"  style=\"position: relative; width: 640px; height: 480px\">\n        <p id=\"3dmolwarning_16544802969143271\" style=\"background-color:#ffcccc;color:black\">You appear to be running in JupyterLab (or JavaScript failed to load for some other reason).  You need to install the 3dmol extension: <br>\n        <tt>jupyter labextension install jupyterlab_3dmol</tt></p>\n        </div>\n<script>\n\nvar loadScriptAsync = function(uri){\n  return new Promise((resolve, reject) => {\n    var tag = document.createElement('script');\n    tag.src = uri;\n    tag.async = true;\n    tag.onload = () => {\n      resolve();\n    };\n  var firstScriptTag = document.getElementsByTagName('script')[0];\n  firstScriptTag.parentNode.insertBefore(tag, firstScriptTag);\n});\n};\n\nif(typeof $3Dmolpromise === 'undefined') {\n$3Dmolpromise = null;\n  $3Dmolpromise = loadScriptAsync('https://3dmol.org/build/3Dmol.js');\n}\n\nvar viewer_16544802969143271 = null;\nvar warn = document.getElementById(\"3dmolwarning_16544802969143271\");\nif(warn) {\n    warn.parentNode.removeChild(warn);\n}\n$3Dmolpromise.then(function() {\nviewer_16544802969143271 = $3Dmol.createViewer($(\"#3dmolviewer_16544802969143271\"),{backgroundColor:\"white\"});\n$3Dmol.download(\"pdb:1YRL\", viewer_16544802969143271, {}, function() {\nviewer_16544802969143271.zoomTo();\n\tviewer_16544802969143271.setStyle({\"cartoon\": {\"color\": \"spectrum\"}});\nviewer_16544802969143271.render();\n})\n});\n</script>",
      "text/html": [
       "<div id=\"3dmolviewer_16544802969143271\"  style=\"position: relative; width: 640px; height: 480px\">\n",
       "        <p id=\"3dmolwarning_16544802969143271\" style=\"background-color:#ffcccc;color:black\">You appear to be running in JupyterLab (or JavaScript failed to load for some other reason).  You need to install the 3dmol extension: <br>\n",
       "        <tt>jupyter labextension install jupyterlab_3dmol</tt></p>\n",
       "        </div>\n",
       "<script>\n",
       "\n",
       "var loadScriptAsync = function(uri){\n",
       "  return new Promise((resolve, reject) => {\n",
       "    var tag = document.createElement('script');\n",
       "    tag.src = uri;\n",
       "    tag.async = true;\n",
       "    tag.onload = () => {\n",
       "      resolve();\n",
       "    };\n",
       "  var firstScriptTag = document.getElementsByTagName('script')[0];\n",
       "  firstScriptTag.parentNode.insertBefore(tag, firstScriptTag);\n",
       "});\n",
       "};\n",
       "\n",
       "if(typeof $3Dmolpromise === 'undefined') {\n",
       "$3Dmolpromise = null;\n",
       "  $3Dmolpromise = loadScriptAsync('https://3dmol.org/build/3Dmol.js');\n",
       "}\n",
       "\n",
       "var viewer_16544802969143271 = null;\n",
       "var warn = document.getElementById(\"3dmolwarning_16544802969143271\");\n",
       "if(warn) {\n",
       "    warn.parentNode.removeChild(warn);\n",
       "}\n",
       "$3Dmolpromise.then(function() {\n",
       "viewer_16544802969143271 = $3Dmol.createViewer($(\"#3dmolviewer_16544802969143271\"),{backgroundColor:\"white\"});\n",
       "$3Dmol.download(\"pdb:1YRL\", viewer_16544802969143271, {}, function() {\n",
       "viewer_16544802969143271.zoomTo();\n",
       "\tviewer_16544802969143271.setStyle({\"cartoon\": {\"color\": \"spectrum\"}});\n",
       "viewer_16544802969143271.render();\n",
       "})\n",
       "});\n",
       "</script>"
      ]
     },
     "metadata": {},
     "output_type": "display_data"
    },
    {
     "data": {
      "text/plain": [
       "<py3Dmol.view at 0x1128ec730>"
      ]
     },
     "metadata": {},
     "output_type": "display_data"
    },
    {
     "data": {
      "text/markdown": [
       "# 3ULK PDB entry information"
      ],
      "text/plain": [
       "<IPython.core.display.Markdown object>"
      ]
     },
     "metadata": {},
     "output_type": "display_data"
    },
    {
     "name": "stdout",
     "output_type": "stream",
     "text": [
      "Entry is titled \"E. coli Ketol-acid reductoisomerase in complex with NADPH and Mg2+\" and was released on 2012/10/17 \n",
      "\n",
      "This entry was determined using X-ray diffraction \n",
      "The authors are Wong, S.H.Lonhienne, T.G.A.Winzor, D.J.Schenk, G.Guddat, L.W. \n",
      "\n",
      "Assembly information -\n",
      "Preferred form with assembly ID 1 is a homotetramer\n",
      "Non-preferred form with assembly ID 2 is a homotetramer\n",
      "\n"
     ]
    },
    {
     "data": {
      "text/markdown": [
       "# 3ULK Ligand informtion"
      ],
      "text/plain": [
       "<IPython.core.display.Markdown object>"
      ]
     },
     "metadata": {},
     "output_type": "display_data"
    },
    {
     "name": "stdout",
     "output_type": "stream",
     "text": [
      "Ligand : NADPH DIHYDRO-NICOTINAMIDE-ADENINE-DINUCLEOTIDE PHOSPHATE at position 492\n",
      "Ligand : NADPH DIHYDRO-NICOTINAMIDE-ADENINE-DINUCLEOTIDE PHOSPHATE at position 492\n",
      "Ligand : SULFATE ION at position 493\n",
      "Ligand : SULFATE ION at position 494\n",
      "Ligand : SULFATE ION at position 495\n",
      "Ligand : SULFATE ION at position 496\n",
      "Ligand : SULFATE ION at position 497\n",
      "Ligand : SULFATE ION at position 493\n",
      "Ligand : SULFATE ION at position 494\n",
      "Ligand : SULFATE ION at position 495\n",
      "Ligand : SULFATE ION at position 496\n",
      "Ligand : MAGNESIUM ION at position 498\n",
      "Ligand : MAGNESIUM ION at position 499\n",
      "Ligand : MAGNESIUM ION at position 497\n",
      "Ligand : MAGNESIUM ION at position 498\n",
      "\n"
     ]
    },
    {
     "data": {
      "text/markdown": [
       "# 3ULK Secondary structure ranges"
      ],
      "text/plain": [
       "<IPython.core.display.Markdown object>"
      ]
     },
     "metadata": {},
     "output_type": "display_data"
    },
    {
     "name": "stdout",
     "output_type": "stream",
     "text": [
      "3ulk chain A has helices at residue ranges ['4-8', '9-18', '24-29', '32-36', '46-59', '68-74', '76-85', '92-96', '97-99', '107-109', '110-119', '120-122', '133-138', '157-167', '179-182', '186-198', '199-203', '209-223', '226-243', '246-276', '278-322', '324-337', '337-342', '350-357', '358-378', '382-389', '390-392', '393-413', '414-432', '432-438', '454-467', '468-488'] and strands at ['205-207', '62-67', '101-104', '39-43', '88-91', '127-130', '148-154', '173-177', '21-22']\n",
      "3ulk chain B has helices at residue ranges ['4-8', '9-18', '24-29', '32-36', '46-59', '68-74', '76-85', '92-96', '97-99', '107-109', '110-119', '120-122', '133-138', '157-167', '179-182', '186-199', '200-203', '209-223', '226-243', '246-276', '278-322', '324-336', '337-342', '350-357', '358-378', '382-389', '390-392', '393-413', '414-432', '432-438', '454-467', '468-489'] and strands at ['205-207', '62-67', '101-104', '39-43', '88-91', '127-130', '148-154', '173-177', '21-22']\n"
     ]
    },
    {
     "data": {
      "text/markdown": [
       "# 3ULK"
      ],
      "text/plain": [
       "<IPython.core.display.Markdown object>"
      ]
     },
     "metadata": {},
     "output_type": "display_data"
    },
    {
     "data": {
      "application/3dmoljs_load.v0": "<div id=\"3dmolviewer_1654480300612309\"  style=\"position: relative; width: 640px; height: 480px\">\n        <p id=\"3dmolwarning_1654480300612309\" style=\"background-color:#ffcccc;color:black\">You appear to be running in JupyterLab (or JavaScript failed to load for some other reason).  You need to install the 3dmol extension: <br>\n        <tt>jupyter labextension install jupyterlab_3dmol</tt></p>\n        </div>\n<script>\n\nvar loadScriptAsync = function(uri){\n  return new Promise((resolve, reject) => {\n    var tag = document.createElement('script');\n    tag.src = uri;\n    tag.async = true;\n    tag.onload = () => {\n      resolve();\n    };\n  var firstScriptTag = document.getElementsByTagName('script')[0];\n  firstScriptTag.parentNode.insertBefore(tag, firstScriptTag);\n});\n};\n\nif(typeof $3Dmolpromise === 'undefined') {\n$3Dmolpromise = null;\n  $3Dmolpromise = loadScriptAsync('https://3dmol.org/build/3Dmol.js');\n}\n\nvar viewer_1654480300612309 = null;\nvar warn = document.getElementById(\"3dmolwarning_1654480300612309\");\nif(warn) {\n    warn.parentNode.removeChild(warn);\n}\n$3Dmolpromise.then(function() {\nviewer_1654480300612309 = $3Dmol.createViewer($(\"#3dmolviewer_1654480300612309\"),{backgroundColor:\"white\"});\n$3Dmol.download(\"pdb:3ULK\", viewer_1654480300612309, {}, function() {\nviewer_1654480300612309.zoomTo();\n\tviewer_1654480300612309.setStyle({\"cartoon\": {\"color\": \"spectrum\"}});\nviewer_1654480300612309.render();\n})\n});\n</script>",
      "text/html": [
       "<div id=\"3dmolviewer_1654480300612309\"  style=\"position: relative; width: 640px; height: 480px\">\n",
       "        <p id=\"3dmolwarning_1654480300612309\" style=\"background-color:#ffcccc;color:black\">You appear to be running in JupyterLab (or JavaScript failed to load for some other reason).  You need to install the 3dmol extension: <br>\n",
       "        <tt>jupyter labextension install jupyterlab_3dmol</tt></p>\n",
       "        </div>\n",
       "<script>\n",
       "\n",
       "var loadScriptAsync = function(uri){\n",
       "  return new Promise((resolve, reject) => {\n",
       "    var tag = document.createElement('script');\n",
       "    tag.src = uri;\n",
       "    tag.async = true;\n",
       "    tag.onload = () => {\n",
       "      resolve();\n",
       "    };\n",
       "  var firstScriptTag = document.getElementsByTagName('script')[0];\n",
       "  firstScriptTag.parentNode.insertBefore(tag, firstScriptTag);\n",
       "});\n",
       "};\n",
       "\n",
       "if(typeof $3Dmolpromise === 'undefined') {\n",
       "$3Dmolpromise = null;\n",
       "  $3Dmolpromise = loadScriptAsync('https://3dmol.org/build/3Dmol.js');\n",
       "}\n",
       "\n",
       "var viewer_1654480300612309 = null;\n",
       "var warn = document.getElementById(\"3dmolwarning_1654480300612309\");\n",
       "if(warn) {\n",
       "    warn.parentNode.removeChild(warn);\n",
       "}\n",
       "$3Dmolpromise.then(function() {\n",
       "viewer_1654480300612309 = $3Dmol.createViewer($(\"#3dmolviewer_1654480300612309\"),{backgroundColor:\"white\"});\n",
       "$3Dmol.download(\"pdb:3ULK\", viewer_1654480300612309, {}, function() {\n",
       "viewer_1654480300612309.zoomTo();\n",
       "\tviewer_1654480300612309.setStyle({\"cartoon\": {\"color\": \"spectrum\"}});\n",
       "viewer_1654480300612309.render();\n",
       "})\n",
       "});\n",
       "</script>"
      ]
     },
     "metadata": {},
     "output_type": "display_data"
    },
    {
     "data": {
      "text/plain": [
       "<py3Dmol.view at 0x1129d03a0>"
      ]
     },
     "metadata": {},
     "output_type": "display_data"
    }
   ],
   "source": [
    "pdb_df = df[['Entry', 'Cross_reference_PDB']].dropna()\n",
    "pdb_dict = defaultdict(list)\n",
    "for pdb_entries in pdb_df.itertuples():\n",
    "    pdb_dict[pdb_entries.Entry] = [x for x in pdb_entries.Cross_reference_PDB.strip().split(\";\") if len(x) > 0]\n",
    "\n",
    "total_structures = sum([len(x) for x in pdb_dict.values()])\n",
    "\n",
    "print (f\"There are {total_structures} total structures across {len(pdb_dict.keys())} unique sequences\")\n",
    "\n",
    "print (\"Looking at the first few...\")\n",
    "\n",
    "sample_pdb_dict = {k: pdb_dict[k] for k in list(pdb_dict)[:3]}\n",
    "\n",
    "for prot_id, pdb_ids in sample_pdb_dict.items():\n",
    "    for pdb_id in pdb_ids:\n",
    "        \n",
    "        display(Markdown(f'# {pdb_id} PDB entry information'))\n",
    "\n",
    "        print(make_summary(get_entry_from_api(pdb_id, summary_url)))\n",
    "        \n",
    "        display(Markdown(f'# {pdb_id} Ligand informtion'))    \n",
    "        print(get_ligand_information(get_entry_from_api(pdb_id, ligand_url)))\n",
    "        \n",
    "    \n",
    "        display(Markdown(f'# {pdb_id} Secondary structure ranges'))\n",
    "        get_secondary_structure_ranges(pdb_id)\n",
    "        \n",
    "        display(Markdown(f'# {pdb_id}'))\n",
    "        \n",
    "        view = py3Dmol.view(query=f'pdb:{pdb_id}')\n",
    "        view.setStyle({'cartoon':{'color':'spectrum'}})\n",
    "        display(view)\n"
   ]
  },
  {
   "cell_type": "markdown",
   "id": "8694229f",
   "metadata": {},
   "source": [
    "# General data set information"
   ]
  },
  {
   "cell_type": "code",
   "execution_count": 13,
   "id": "427f18dc",
   "metadata": {
    "execution": {
     "iopub.execute_input": "2022-06-06T01:51:40.622711Z",
     "iopub.status.busy": "2022-06-06T01:51:40.622362Z",
     "iopub.status.idle": "2022-06-06T01:51:40.628387Z",
     "shell.execute_reply": "2022-06-06T01:51:40.627864Z"
    },
    "tags": [
     "remove-input"
    ]
   },
   "outputs": [
    {
     "data": {
      "text/markdown": [
       "These are the columns that are available and have at least one entry"
      ],
      "text/plain": [
       "<IPython.core.display.Markdown object>"
      ]
     },
     "metadata": {},
     "output_type": "display_data"
    },
    {
     "name": "stdout",
     "output_type": "stream",
     "text": [
      "Entry\n",
      "Truncated_Info\n",
      "Extracted_ID\n",
      "Sequence\n",
      "Original_FASTA\n",
      "Entry_r\n",
      "Entry.1\n",
      "Entry_name\n",
      "Gene_names\n",
      "Gene_names__primary_\n",
      "Gene_names__synonym_\n",
      "Gene_names__ordered_locus_\n",
      "Gene_names__ORF_\n",
      "Organism\n",
      "Organism_ID\n",
      "Protein_names\n",
      "Sequence_r\n",
      "Proteomes\n",
      "Taxonomic_lineage_ALL\n",
      "Erroneous_initiation\n",
      "Sequence_caution\n",
      "Length\n",
      "Mass\n",
      "Sequence_conflict\n",
      "Version_sequence\n",
      "EC_number\n",
      "Catalytic_activity\n",
      "ChEBI\n",
      "ChEBI_Catalytic_activity\n",
      "ChEBI_Cofactor\n",
      "ChEBI_IDs\n",
      "Cofactor\n",
      "Function_[CC]\n",
      "Kinetics\n",
      "Pathway\n",
      "pH_dependence\n",
      "Active_site\n",
      "Binding_site\n",
      "Metal_binding\n",
      "Nucleotide_binding\n",
      "Annotation\n",
      "Features\n",
      "Caution\n",
      "Miscellaneous_[CC]\n",
      "Keywords\n",
      "Protein_existence\n",
      "Status\n",
      "Subunit_structure_[CC]\n",
      "Induction\n",
      "Gene_ontology_GO\n",
      "Gene_ontology_biological_process\n",
      "Gene_ontology_molecular_function\n",
      "Gene_ontology_cellular_component\n",
      "Gene_ontology_IDs\n",
      "Subcellular_location_[CC]\n",
      "Chain\n",
      "Initiator_methionine\n",
      "Modified_residue\n",
      "Transit_peptide\n",
      "3D\n",
      "Beta_strand\n",
      "Helix\n",
      "Turn\n",
      "Mapped_PubMed_ID\n",
      "PubMed_ID\n",
      "Date_of_creation\n",
      "Date_of_last_modification\n",
      "Date_of_last_sequence_modification\n",
      "Version_entry\n",
      "Sequence_similarities\n",
      "Protein_families\n",
      "Compositional_bias\n",
      "Domain_[FT]\n",
      "Region\n",
      "Taxonomic_lineage_all\n",
      "Taxonomic_lineage_SUPERKINGDOM\n",
      "Taxonomic_lineage_KINGDOM\n",
      "Taxonomic_lineage_SUBKINGDOM\n",
      "Taxonomic_lineage_PHYLUM\n",
      "Taxonomic_lineage_SUBPHYLUM\n",
      "Taxonomic_lineage_CLASS\n",
      "Taxonomic_lineage_SUBCLASS\n",
      "Taxonomic_lineage_ORDER\n",
      "Taxonomic_lineage_FAMILY\n",
      "Taxonomic_lineage_SUBFAMILY\n",
      "Taxonomic_lineage_TRIBE\n",
      "Taxonomic_lineage_SUBTRIBE\n",
      "Taxonomic_lineage_GENUS\n",
      "Taxonomic_lineage_SPECIES_GROUP\n",
      "Taxonomic_lineage_SPECIES\n",
      "Taxonomic_lineage_SUBSPECIES\n",
      "Cross_reference_Araport\n",
      "Cross_reference_BindingDB\n",
      "Cross_reference_BioCyc\n",
      "Cross_reference_BioGRID\n",
      "Cross_reference_BRENDA\n",
      "Cross_reference_CarbonylDB\n",
      "Cross_reference_ChEMBL\n",
      "Cross_reference_DIP\n",
      "Cross_reference_DNASU\n",
      "Cross_reference_EchoBASE\n",
      "Cross_reference_eggNOG\n",
      "Cross_reference_EMBL\n",
      "EnsemblBacteria_transcript\n",
      "EnsemblFungi_transcript\n",
      "EnsemblPlants_transcript\n",
      "Cross_reference_EvolutionaryTrace\n",
      "Cross_reference_ExpressionAtlas\n",
      "Cross_reference_Gene3D\n",
      "Cross_reference_GeneID\n",
      "Cross_reference_Genevisible\n",
      "Cross_reference_Gramene\n",
      "Cross_reference_HAMAP\n",
      "Cross_reference_HOGENOM\n",
      "Cross_reference_InParanoid\n",
      "Cross_reference_IntAct\n",
      "Cross_reference_InterPro\n",
      "Cross_reference_iPTMnet\n",
      "Cross_reference_jPOST\n",
      "Cross_reference_KEGG\n",
      "Cross_reference_Leproma\n",
      "Cross_reference_MaxQB\n",
      "Cross_reference_MINT\n",
      "Cross_reference_MoonProt\n",
      "Cross_reference_OMA\n",
      "Cross_reference_OrthoDB\n",
      "Cross_reference_PANTHER\n",
      "Cross_reference_PATRIC\n",
      "Cross_reference_PaxDb\n",
      "Cross_reference_PDB\n",
      "Cross_reference_PDBsum\n",
      "Cross_reference_Pfam\n",
      "Cross_reference_PhylomeDB\n",
      "Cross_reference_PIR\n",
      "Cross_reference_PIRSF\n",
      "Cross_reference_PlantReactome\n",
      "Cross_reference_PomBase\n",
      "Cross_reference_PRIDE\n",
      "Cross_reference_PRO\n",
      "Cross_reference_PROSITE\n",
      "Cross_reference_ProteomicsDB\n",
      "Cross_reference_PseudoCAP\n",
      "Cross_reference_RefSeq\n",
      "Cross_reference_RNAct\n",
      "Cross_reference_SABIO_RK\n",
      "Cross_reference_SGD\n",
      "Cross_reference_SMR\n",
      "Cross_reference_STRING\n",
      "Cross_reference_SUPFAM\n",
      "Cross_reference_SWISS_2DPAGE\n",
      "Cross_reference_TAIR\n",
      "Cross_reference_TIGRFAMs\n",
      "Cross_reference_TopDownProteomics\n",
      "Cross_reference_TubercuList\n",
      "Cross_reference_UniPathway\n",
      "Cross_reference_VEuPathDB\n",
      "Cross_reference_World_2DPAGE\n",
      "Non_AA_Character\n",
      "AA_Character\n",
      "UniProt_DB\n",
      "Length_2\n",
      "Cross_reference_InterPro_2\n",
      "KARI_Class\n",
      "Loop_Length\n",
      "Binding_positions_extracted\n",
      "Binding_positions_character\n",
      "Acidic_Binding\n"
     ]
    }
   ],
   "source": [
    "display(Markdown(f\"These are the columns that are available and have at least one entry\"))\n",
    "\n",
    "for x in entry_df.keys():\n",
    "    if not x.startswith(\"BRENDA\"):\n",
    "        print (x)"
   ]
  }
 ],
 "metadata": {
  "celltoolbar": "Tags",
  "kernelspec": {
   "display_name": "Python 3 (ipykernel)",
   "language": "python",
   "name": "python3"
  },
  "language_info": {
   "codemirror_mode": {
    "name": "ipython",
    "version": 3
   },
   "file_extension": ".py",
   "mimetype": "text/x-python",
   "name": "python",
   "nbconvert_exporter": "python",
   "pygments_lexer": "ipython3",
   "version": "3.10.4"
  }
 },
 "nbformat": 4,
 "nbformat_minor": 5
}
